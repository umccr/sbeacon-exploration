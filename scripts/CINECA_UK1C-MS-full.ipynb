{
 "cells": [
  {
   "cell_type": "code",
   "execution_count": 0,
   "metadata": {
    "application/vnd.databricks.v1+cell": {
     "cellMetadata": {},
     "inputWidgets": {},
     "nuid": "d3c0a68e-950d-421c-a5bf-d94eb7e96a2e",
     "showTitle": false,
     "title": ""
    }
   },
   "outputs": [],
   "source": [
    "%fs ls file:/Workspace/Repos/shared/sbeacon-exploration/data/CINECA_synthetic_cohort_EUROPE_UK1/Beacon-v2-Models_CINECA_UK1MS.xlsx"
   ]
  },
  {
   "cell_type": "code",
   "execution_count": 0,
   "metadata": {
    "application/vnd.databricks.v1+cell": {
     "cellMetadata": {},
     "inputWidgets": {},
     "nuid": "fe564e4e-d2e5-4184-9b15-ed9117f503d1",
     "showTitle": false,
     "title": ""
    },
    "scrolled": true
   },
   "outputs": [],
   "source": [
    "!python -m pip install --upgrade pip\n",
    "!pip install openpyxl"
   ]
  },
  {
   "cell_type": "code",
   "execution_count": 0,
   "metadata": {
    "application/vnd.databricks.v1+cell": {
     "cellMetadata": {},
     "inputWidgets": {},
     "nuid": "91563b26-f032-4e01-ac70-4a736155179a",
     "showTitle": false,
     "title": ""
    }
   },
   "outputs": [],
   "source": [
    "import pandas as pd\n",
    "import numpy as np\n",
    "import json\n",
    "import random\n",
    "import ast"
   ]
  },
  {
   "cell_type": "code",
   "execution_count": 0,
   "metadata": {
    "application/vnd.databricks.v1+cell": {
     "cellMetadata": {},
     "inputWidgets": {},
     "nuid": "90a30b26-2a46-4115-a498-a27c97e1afbf",
     "showTitle": false,
     "title": ""
    }
   },
   "outputs": [],
   "source": [
    "work_dir = '/Workspace/Repos/shared/sbeacon-exploration/data/CINECA_synthetic_cohort_EUROPE_UK1/'\n",
    "ITERLIMIT = 10"
   ]
  },
  {
   "cell_type": "code",
   "execution_count": 0,
   "metadata": {
    "application/vnd.databricks.v1+cell": {
     "cellMetadata": {},
     "inputWidgets": {},
     "nuid": "ea7959b7-cfe2-4f7d-8a1a-03a52240614a",
     "showTitle": false,
     "title": ""
    }
   },
   "outputs": [],
   "source": [
    "submission_json = {\n",
    "    \"index\": True,\n",
    "\t\"datasetId\": \"CINECA_UMCCR\",\n",
    "\t\"dataset\": {\n",
    "\t\t\"name\": \"CINECA_UMCCR_NAME\",\n",
    "\t\t\"description\": \"Test CINECA dataset for UMCCR\"\n",
    "\t},\n",
    "\t\"assemblyId\": \"GRCh38\",\n",
    "\t\"cohortId\": \"TestCohortCineca1\",\n",
    "\t\"cohort\": {\n",
    "\t\t\"name\": \"UMCCR CINECA test cohort 1\",\n",
    "\t\t\"cohortType\": \"study-defined\"\n",
    "\t},\n",
    "\t\"vcfLocations\": [\n",
    "\t\t\"s3://org.umccr.onboarding.testdata/CINECA_UK1/split/Test.1000G.phase3.joint.lifted.1.norm.ann.dbnsfp.clinvar.cosmic.vcf.gz\",\n",
    "        \"s3://org.umccr.onboarding.testdata/CINECA_UK1/split/Test.1000G.phase3.joint.lifted.10.norm.ann.dbnsfp.clinvar.cosmic.vcf.gz\",\n",
    "        \"s3://org.umccr.onboarding.testdata/CINECA_UK1/split/Test.1000G.phase3.joint.lifted.11.norm.ann.dbnsfp.clinvar.cosmic.vcf.gz\",\n",
    "        \"s3://org.umccr.onboarding.testdata/CINECA_UK1/split/Test.1000G.phase3.joint.lifted.12.norm.ann.dbnsfp.clinvar.cosmic.vcf.gz\",\n",
    "        \"s3://org.umccr.onboarding.testdata/CINECA_UK1/split/Test.1000G.phase3.joint.lifted.13.norm.ann.dbnsfp.clinvar.cosmic.vcf.gz\",\n",
    "        \"s3://org.umccr.onboarding.testdata/CINECA_UK1/split/Test.1000G.phase3.joint.lifted.14.norm.ann.dbnsfp.clinvar.cosmic.vcf.gz\",\n",
    "        \"s3://org.umccr.onboarding.testdata/CINECA_UK1/split/Test.1000G.phase3.joint.lifted.15.norm.ann.dbnsfp.clinvar.cosmic.vcf.gz\",\n",
    "        \"s3://org.umccr.onboarding.testdata/CINECA_UK1/split/Test.1000G.phase3.joint.lifted.16.norm.ann.dbnsfp.clinvar.cosmic.vcf.gz\",\n",
    "        \"s3://org.umccr.onboarding.testdata/CINECA_UK1/split/Test.1000G.phase3.joint.lifted.17.norm.ann.dbnsfp.clinvar.cosmic.vcf.gz\",\n",
    "        \"s3://org.umccr.onboarding.testdata/CINECA_UK1/split/Test.1000G.phase3.joint.lifted.18.norm.ann.dbnsfp.clinvar.cosmic.vcf.gz\",\n",
    "        \"s3://org.umccr.onboarding.testdata/CINECA_UK1/split/Test.1000G.phase3.joint.lifted.19.norm.ann.dbnsfp.clinvar.cosmic.vcf.gz\",\n",
    "        \"s3://org.umccr.onboarding.testdata/CINECA_UK1/split/Test.1000G.phase3.joint.lifted.2.norm.ann.dbnsfp.clinvar.cosmic.vcf.gz\",\n",
    "        \"s3://org.umccr.onboarding.testdata/CINECA_UK1/split/Test.1000G.phase3.joint.lifted.20.norm.ann.dbnsfp.clinvar.cosmic.vcf.gz\",\n",
    "        \"s3://org.umccr.onboarding.testdata/CINECA_UK1/split/Test.1000G.phase3.joint.lifted.21.norm.ann.dbnsfp.clinvar.cosmic.vcf.gz\",\n",
    "        \"s3://org.umccr.onboarding.testdata/CINECA_UK1/split/Test.1000G.phase3.joint.lifted.22.norm.ann.dbnsfp.clinvar.cosmic.vcf.gz\",\n",
    "        \"s3://org.umccr.onboarding.testdata/CINECA_UK1/split/Test.1000G.phase3.joint.lifted.3.norm.ann.dbnsfp.clinvar.cosmic.vcf.gz\",\n",
    "        \"s3://org.umccr.onboarding.testdata/CINECA_UK1/split/Test.1000G.phase3.joint.lifted.4.norm.ann.dbnsfp.clinvar.cosmic.vcf.gz\",\n",
    "        \"s3://org.umccr.onboarding.testdata/CINECA_UK1/split/Test.1000G.phase3.joint.lifted.5.norm.ann.dbnsfp.clinvar.cosmic.vcf.gz\",\n",
    "        \"s3://org.umccr.onboarding.testdata/CINECA_UK1/split/Test.1000G.phase3.joint.lifted.6.norm.ann.dbnsfp.clinvar.cosmic.vcf.gz\",\n",
    "        \"s3://org.umccr.onboarding.testdata/CINECA_UK1/split/Test.1000G.phase3.joint.lifted.7.norm.ann.dbnsfp.clinvar.cosmic.vcf.gz\",\n",
    "        \"s3://org.umccr.onboarding.testdata/CINECA_UK1/split/Test.1000G.phase3.joint.lifted.8.norm.ann.dbnsfp.clinvar.cosmic.vcf.gz\",\n",
    "        \"s3://org.umccr.onboarding.testdata/CINECA_UK1/split/Test.1000G.phase3.joint.lifted.9.norm.ann.dbnsfp.clinvar.cosmic.vcf.gz\",\n",
    "        \"s3://org.umccr.onboarding.testdata/CINECA_UK1/split/Test.1000G.phase3.joint.lifted.X.norm.ann.dbnsfp.clinvar.cosmic.vcf.gz\"\n",
    "\t],\n",
    "\t\"individuals\": [],\n",
    "\t\"biosamples\": [],\n",
    "\t\"analyses\": [],\n",
    "    \"runs\": []\n",
    "}"
   ]
  },
  {
   "cell_type": "code",
   "execution_count": 0,
   "metadata": {
    "application/vnd.databricks.v1+cell": {
     "cellMetadata": {},
     "inputWidgets": {},
     "nuid": "030fb607-0327-4ce8-b167-db1b79bd340b",
     "showTitle": false,
     "title": ""
    }
   },
   "outputs": [],
   "source": [
    "df = pd.read_excel(f'{work_dir}/Beacon-v2-Models_CINECA_UK1MS.xlsx', sheet_name='individuals')"
   ]
  },
  {
   "cell_type": "code",
   "execution_count": 0,
   "metadata": {
    "application/vnd.databricks.v1+cell": {
     "cellMetadata": {},
     "inputWidgets": {},
     "nuid": "f584e7af-bc3f-49eb-9bf6-123256849703",
     "showTitle": false,
     "title": ""
    }
   },
   "outputs": [],
   "source": [
    "df"
   ]
  },
  {
   "cell_type": "code",
   "execution_count": 0,
   "metadata": {
    "application/vnd.databricks.v1+cell": {
     "cellMetadata": {},
     "inputWidgets": {},
     "nuid": "47b3a11f-bcc5-4dcb-9daf-899a06e40838",
     "showTitle": false,
     "title": ""
    }
   },
   "outputs": [],
   "source": [
    "df.columns"
   ]
  },
  {
   "cell_type": "code",
   "execution_count": 0,
   "metadata": {
    "application/vnd.databricks.v1+cell": {
     "cellMetadata": {},
     "inputWidgets": {},
     "nuid": "93c09465-916f-4b1b-9d05-f4d66382b485",
     "showTitle": false,
     "title": ""
    }
   },
   "outputs": [],
   "source": [
    "df_disease = df[['id', 'info.eid', 'diseases_diseaseCode.id', 'diseases_diseaseCode.label', 'diseases_familyHistory', 'diseases_notes', 'diseases_ageOfOnset']]\n",
    "df_disease"
   ]
  },
  {
   "cell_type": "code",
   "execution_count": 0,
   "metadata": {
    "application/vnd.databricks.v1+cell": {
     "cellMetadata": {},
     "inputWidgets": {},
     "nuid": "da7cce06-41a5-4f7d-9e48-fa87a2f83374",
     "showTitle": false,
     "title": ""
    }
   },
   "outputs": [],
   "source": [
    "df_sex = df[['id', 'info.eid', 'karyotypicSex', 'sex.id', 'sex.label']]\n",
    "df_sex"
   ]
  },
  {
   "cell_type": "code",
   "execution_count": 0,
   "metadata": {
    "application/vnd.databricks.v1+cell": {
     "cellMetadata": {},
     "inputWidgets": {},
     "nuid": "0ab23c31-5903-4be8-a353-da9c9513605f",
     "showTitle": false,
     "title": ""
    }
   },
   "outputs": [],
   "source": [
    "df_ethnicity = df[['id', 'info.eid', 'ethnicity.id', 'ethnicity.label']]"
   ]
  },
  {
   "cell_type": "code",
   "execution_count": 0,
   "metadata": {
    "application/vnd.databricks.v1+cell": {
     "cellMetadata": {},
     "inputWidgets": {},
     "nuid": "82d5cd09-a907-479a-a754-fc01c2273f92",
     "showTitle": false,
     "title": ""
    }
   },
   "outputs": [],
   "source": [
    "df[['id', 'info.eid', 'geographicOrigin.id', 'geographicOrigin.label']]"
   ]
  },
  {
   "cell_type": "code",
   "execution_count": 0,
   "metadata": {
    "application/vnd.databricks.v1+cell": {
     "cellMetadata": {},
     "inputWidgets": {},
     "nuid": "8c737107-d91a-4667-85d0-2df451693ed1",
     "showTitle": false,
     "title": ""
    }
   },
   "outputs": [],
   "source": [
    "df[['id', 'info.eid', 'pedigrees_disease.ageOfOnset', 'pedigrees_disease.diseaseCode.id', 'pedigrees_disease.diseaseCode.label', 'pedigrees_disease.familyHistory', 'pedigrees_disease.notes', 'pedigrees_disease.severity.id', 'pedigrees_disease.severity.label', 'pedigrees_disease.stage.id', 'pedigrees_disease.stage.label', 'pedigrees_id', 'pedigrees_members', 'pedigrees_numSubjects']]"
   ]
  },
  {
   "cell_type": "code",
   "execution_count": 0,
   "metadata": {
    "application/vnd.databricks.v1+cell": {
     "cellMetadata": {},
     "inputWidgets": {},
     "nuid": "f70067ff-a5d9-4d82-94b8-4371d18c029b",
     "showTitle": false,
     "title": ""
    }
   },
   "outputs": [],
   "source": [
    "# add individuals\n",
    "for idx, row in df.iterrows():\n",
    "#for idx, row in df.head(ITERLIMIT).iterrows():\n",
    "    # print(row)\n",
    "    individual = {}\n",
    "    individual.update(id=row['id'])\n",
    "    \n",
    "    individual.update(sex={\n",
    "        'id': row['sex.id'],\n",
    "        'label': row['sex.label']\n",
    "    })\n",
    "\n",
    "    if not isinstance(row['ethnicity.id'], float):\n",
    "        individual.update(ethnicity={\n",
    "            'id': row['ethnicity.id'],\n",
    "            'label': row['ethnicity.label']\n",
    "        })\n",
    "    else:\n",
    "        print(f\"skipping ethnicity for {idx} due to id = NaN\")\n",
    "\n",
    "    if not isinstance(row['geographicOrigin.id'], float):\n",
    "        individual.update(geographicOrigin={\n",
    "            'id': row['geographicOrigin.id'],\n",
    "            'label': row['geographicOrigin.label']\n",
    "        })\n",
    "    else:\n",
    "        print(f\"skipping geographicOrigin for {idx} due to id = NaN\")\n",
    "    \n",
    "    if not isinstance(row['diseases_diseaseCode.id'], float):\n",
    "        diseases_id_array = row['diseases_diseaseCode.id'].split(\",\")\n",
    "        diseases_label_array = row['diseases_diseaseCode.label'].split(\",\")\n",
    "        # assuming arrays have same length\n",
    "        assert len(diseases_id_array) == len(diseases_label_array), \"disease code and label don't match\"\n",
    "\n",
    "        diseases = []\n",
    "        for index, val in enumerate(diseases_id_array):\n",
    "            id_ = diseases_id_array[index]\n",
    "            label = diseases_label_array[index]\n",
    "            disease_code = {\n",
    "                \"id\": id_,\n",
    "                \"label\": label\n",
    "            }\n",
    "            disease = {}\n",
    "            disease.update(diseaseCode=disease_code)\n",
    "            diseases.append(disease)\n",
    "        if len(diseases) > 0:\n",
    "            individual.update(diseases=diseases)\n",
    "    else:\n",
    "        print(f\"skipping diseases for {idx} due to id = NaN\")\n",
    "        \n",
    "    if not isinstance(row['measures_assayCode.id'], float):\n",
    "        measures_assay_id_array = row['measures_assayCode.id'].split(\",\")\n",
    "        measures_assay_label_array = row['measures_assayCode.label'].split(\",\")\n",
    "        measures_date_array = row['measures_date'].split(\",\")\n",
    "        measures_measurementValue = ast.literal_eval(row['measures_measurementValue'])\n",
    "        # assuming arrays have same length\n",
    "        assert len(measures_date_array) == len(measures_measurementValue) == len(measures_assay_id_array) == len(measures_assay_label_array), \"measure assay code and label don't match\"\n",
    "\n",
    "        measures = []\n",
    "        for index, val in enumerate(measures_assay_id_array):\n",
    "            assay_code = {\n",
    "                'id': measures_assay_id_array[index],\n",
    "                'label': measures_assay_label_array[index]\n",
    "                }\n",
    "            measure = {}\n",
    "            measure.update(assayCode=assay_code)\n",
    "            measure.update(date=measures_date_array[index])\n",
    "            measure.update(measurementValue=measures_measurementValue[index])\n",
    "            measures.append(measure)\n",
    "        if len(measures) > 0:\n",
    "            individual.update(measures=measures)\n",
    "    else:\n",
    "        print(f\"skipping measures for {idx} due to id = NaN\")\n",
    "    \n",
    "    # add individual to dataset\n",
    "    submission_json[\"individuals\"].append(individual)\n",
    "    "
   ]
  },
  {
   "cell_type": "code",
   "execution_count": 0,
   "metadata": {
    "application/vnd.databricks.v1+cell": {
     "cellMetadata": {},
     "inputWidgets": {},
     "nuid": "dbdec490-4167-47df-bb79-0e340c945476",
     "showTitle": false,
     "title": ""
    }
   },
   "outputs": [],
   "source": [
    "df_bs = pd.read_excel(f'{work_dir}/Beacon-v2-Models_CINECA_UK1MS.xlsx', sheet_name='biosamples')"
   ]
  },
  {
   "cell_type": "code",
   "execution_count": 0,
   "metadata": {
    "application/vnd.databricks.v1+cell": {
     "cellMetadata": {},
     "inputWidgets": {},
     "nuid": "ef085158-42c1-417e-8572-feb008655cca",
     "showTitle": false,
     "title": ""
    }
   },
   "outputs": [],
   "source": [
    "df_bs"
   ]
  },
  {
   "cell_type": "code",
   "execution_count": 0,
   "metadata": {
    "application/vnd.databricks.v1+cell": {
     "cellMetadata": {},
     "inputWidgets": {},
     "nuid": "bb5f5149-d203-427f-b95c-a0648a6231d7",
     "showTitle": false,
     "title": ""
    }
   },
   "outputs": [],
   "source": [
    "df_bs.columns"
   ]
  },
  {
   "cell_type": "code",
   "execution_count": 0,
   "metadata": {
    "application/vnd.databricks.v1+cell": {
     "cellMetadata": {},
     "inputWidgets": {},
     "nuid": "5badea52-c4f4-4d47-949f-e6d8a09246db",
     "showTitle": false,
     "title": ""
    }
   },
   "outputs": [],
   "source": [
    "# add biosamples\n",
    "# randomly generate ages for some variety, based on BioBank min age 37 max age 73\n",
    "# adds blood draw and frozen specimen curations\n",
    "for idx, row in df_bs.iterrows():\n",
    "#for idx, row in df_bs.head(ITERLIMIT).iterrows():\n",
    "#for idx, row in df.head(1).iterrows():\n",
    "    # print(row)\n",
    "    \n",
    "    biosample = {}\n",
    "    biosample.update(id=row['id'])\n",
    "    biosample.update(individualId=row['individualId'])\n",
    "    # biosample.update(sampleName=row['info.sampleName'])\n",
    "    biosample.update(collectionDate=row['collectionDate'])\n",
    "    biosample.update(collectionMoment=f'P{random.randint(37,73)}Y')\n",
    "    biosample.update(sampleStorage={\n",
    "        'id': 'OBI:0000922',\n",
    "        'label': 'frozen specimen'})\n",
    "    biosample.update(obtentionProcedure={\n",
    "        'procedureCode': {'label': 'blood draw',\n",
    "                          'id': 'EFO:0009121'}})\n",
    "    \n",
    "    if not isinstance(row['biosampleStatus.id'], float):\n",
    "        biosample.update(biosampleStatus={\n",
    "            'id': row['biosampleStatus.id'],\n",
    "            'label': row['biosampleStatus.label']\n",
    "        })\n",
    "    else:\n",
    "        print(f\"ERROR: biosampleStatus for {idx} id = NaN\")\n",
    "        \n",
    "    if not isinstance(row['sampleOriginType.id'], float):\n",
    "        biosample.update(sampleOriginType={\n",
    "            'id': row['sampleOriginType.id'],\n",
    "            'label': row['sampleOriginType.label']\n",
    "        })\n",
    "    else:\n",
    "        print(f\"ERROR: sampleOriginType for {idx} id = NaN\")\n",
    "\n",
    "    submission_json[\"biosamples\"].append(biosample)\n",
    "\n"
   ]
  },
  {
   "cell_type": "code",
   "execution_count": 0,
   "metadata": {
    "application/vnd.databricks.v1+cell": {
     "cellMetadata": {},
     "inputWidgets": {},
     "nuid": "72df9b26-5b5c-4096-9832-09c5d7852451",
     "showTitle": false,
     "title": ""
    }
   },
   "outputs": [],
   "source": [
    "df_an = pd.read_excel(f'{work_dir}/Beacon-v2-Models_CINECA_UK1MS.xlsx', sheet_name='analyses')"
   ]
  },
  {
   "cell_type": "code",
   "execution_count": 0,
   "metadata": {
    "application/vnd.databricks.v1+cell": {
     "cellMetadata": {},
     "inputWidgets": {},
     "nuid": "f2649ee6-ce47-4af3-a2f9-832fece8c02d",
     "showTitle": false,
     "title": ""
    }
   },
   "outputs": [],
   "source": [
    "df_an"
   ]
  },
  {
   "cell_type": "code",
   "execution_count": 0,
   "metadata": {
    "application/vnd.databricks.v1+cell": {
     "cellMetadata": {},
     "inputWidgets": {},
     "nuid": "0da542fe-b02c-41a1-8f40-6f35e7ceb8ec",
     "showTitle": false,
     "title": ""
    }
   },
   "outputs": [],
   "source": [
    "df_an.columns"
   ]
  },
  {
   "cell_type": "code",
   "execution_count": 0,
   "metadata": {
    "application/vnd.databricks.v1+cell": {
     "cellMetadata": {},
     "inputWidgets": {},
     "nuid": "1a0521f7-ba24-41ef-990e-7b9fc82251f1",
     "showTitle": false,
     "title": ""
    }
   },
   "outputs": [],
   "source": [
    "# add analysis\n",
    "#for idx, row in df_an.head(ITERLIMIT).iterrows():   \n",
    "for idx, row in df_an.iterrows():    \n",
    "    analysis = {}\n",
    "    analysis.update(id=row['id'])\n",
    "    analysis.update(runId=row['runId'])\n",
    "    analysis.update(individualId=row['individualId'])\n",
    "    analysis.update(biosampleId=row['biosampleId'])\n",
    "    analysis.update(analysisDate=row['analysisDate'])\n",
    "    analysis.update(pipelineName=row['pipelineName'])\n",
    "    analysis.update(vcfSampleId=row['individualId'])\n",
    "    \n",
    "    submission_json[\"analyses\"].append(analysis)\n",
    "    \n",
    "\n"
   ]
  },
  {
   "cell_type": "code",
   "execution_count": 0,
   "metadata": {
    "application/vnd.databricks.v1+cell": {
     "cellMetadata": {},
     "inputWidgets": {},
     "nuid": "260e0f89-8d0b-4946-84c6-04ecbbb14616",
     "showTitle": false,
     "title": ""
    }
   },
   "outputs": [],
   "source": [
    "df_runs = pd.read_excel(f'{work_dir}/Beacon-v2-Models_CINECA_UK1MS.xlsx', sheet_name='runs')"
   ]
  },
  {
   "cell_type": "code",
   "execution_count": 0,
   "metadata": {
    "application/vnd.databricks.v1+cell": {
     "cellMetadata": {},
     "inputWidgets": {},
     "nuid": "83c2f21a-ca69-4493-b4c4-efe33c36936c",
     "showTitle": false,
     "title": ""
    }
   },
   "outputs": [],
   "source": [
    "df_runs"
   ]
  },
  {
   "cell_type": "code",
   "execution_count": 0,
   "metadata": {
    "application/vnd.databricks.v1+cell": {
     "cellMetadata": {},
     "inputWidgets": {},
     "nuid": "500fe579-202e-45cf-a92a-1ea1dcea2200",
     "showTitle": false,
     "title": ""
    }
   },
   "outputs": [],
   "source": [
    "# add runs\n",
    "#for idx, row in df_runs.head(ITERLIMIT).iterrows(): \n",
    "for idx, row in df_runs.iterrows():    \n",
    "    run = {}\n",
    "    run.update(id=row['id'])\n",
    "    run.update(individualId=row['individualId'])\n",
    "    run.update(biosampleId=row['biosampleId'])\n",
    "    run.update(runDate=row['runDate'])\n",
    "    run.update(libraryLayout=row['libraryLayout'])\n",
    "    run.update(librarySelection=row['librarySelection'])\n",
    "    run.update(libraryStrategy=row['libraryStrategy'])\n",
    "    run.update(platform=row['platform'])\n",
    "    \n",
    "    run.update(librarySource={\n",
    "            'id': row['librarySource.id'],\n",
    "            'label': row['librarySource.label']\n",
    "        })\n",
    "    run.update(platformModel={\n",
    "            'id': row['platformModel.id'],\n",
    "            'label': row['platformModel.label']\n",
    "        })\n",
    "\n",
    "    submission_json[\"runs\"].append(run)\n",
    "    \n"
   ]
  },
  {
   "cell_type": "code",
   "execution_count": 0,
   "metadata": {
    "application/vnd.databricks.v1+cell": {
     "cellMetadata": {},
     "inputWidgets": {},
     "nuid": "97159d1b-b838-4793-931d-951f9d3d18a9",
     "showTitle": false,
     "title": ""
    }
   },
   "outputs": [],
   "source": [
    "file_dir = '/dbfs/FileStore/'\n",
    "with open(f'{file_dir}/submission_from_excel_ms_full.json', 'w') as f:\n",
    "    f.write(json.dumps(submission_json))"
   ]
  },
  {
   "cell_type": "code",
   "execution_count": 0,
   "metadata": {
    "application/vnd.databricks.v1+cell": {
     "cellMetadata": {},
     "inputWidgets": {},
     "nuid": "52a626f1-bb8f-47f9-82ea-d2ee201223b3",
     "showTitle": false,
     "title": ""
    }
   },
   "outputs": [],
   "source": [
    "%python\n",
    "displayHTML(\"\"\"<a href=\"/files/submission_from_excel_ms.json\" download>Download JOSN</a>\"\"\")"
   ]
  },
  {
   "cell_type": "code",
   "execution_count": 0,
   "metadata": {
    "application/vnd.databricks.v1+cell": {
     "cellMetadata": {},
     "inputWidgets": {},
     "nuid": "c1334518-19d5-4cd8-9de0-e7de2294d93b",
     "showTitle": false,
     "title": ""
    }
   },
   "outputs": [],
   "source": []
  }
 ],
 "metadata": {
  "application/vnd.databricks.v1+notebook": {
   "dashboards": [],
   "language": "python",
   "notebookMetadata": {
    "mostRecentlyExecutedCommandWithImplicitDF": {
     "commandId": 1403102359200057,
     "dataframes": [
      "_sqldf"
     ]
    },
    "pythonIndentUnit": 4
   },
   "notebookName": "CINECA_UK1C-MS",
   "notebookOrigID": 3081781072067410,
   "widgets": {}
  },
  "kernelspec": {
   "display_name": "Python 3 (ipykernel)",
   "language": "python",
   "name": "python3"
  },
  "language_info": {
   "codemirror_mode": {
    "name": "ipython",
    "version": 3
   },
   "file_extension": ".py",
   "mimetype": "text/x-python",
   "name": "python",
   "nbconvert_exporter": "python",
   "pygments_lexer": "ipython3",
   "version": "3.8.9"
  },
  "varInspector": {
   "cols": {
    "lenName": 16,
    "lenType": 16,
    "lenVar": 40
   },
   "kernels_config": {
    "python": {
     "delete_cmd_postfix": "",
     "delete_cmd_prefix": "del ",
     "library": "var_list.py",
     "varRefreshCmd": "print(var_dic_list())"
    },
    "r": {
     "delete_cmd_postfix": ") ",
     "delete_cmd_prefix": "rm(",
     "library": "var_list.r",
     "varRefreshCmd": "cat(var_dic_list()) "
    }
   },
   "position": {
    "height": "631.836px",
    "left": "1823.51px",
    "right": "20px",
    "top": "125px",
    "width": "349.473px"
   },
   "types_to_exclude": [
    "module",
    "function",
    "builtin_function_or_method",
    "instance",
    "_Feature"
   ],
   "window_display": true
  }
 },
 "nbformat": 4,
 "nbformat_minor": 0
}
