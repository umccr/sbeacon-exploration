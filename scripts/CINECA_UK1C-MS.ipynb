{
 "cells": [
  {
   "cell_type": "code",
   "execution_count": 1,
   "metadata": {
    "application/vnd.databricks.v1+cell": {
     "cellMetadata": {},
     "inputWidgets": {},
     "nuid": "d3c0a68e-950d-421c-a5bf-d94eb7e96a2e",
     "showTitle": false,
     "title": ""
    },
    "ExecuteTime": {
     "end_time": "2023-07-05T07:44:47.817842Z",
     "start_time": "2023-07-05T07:44:47.810685Z"
    }
   },
   "outputs": [],
   "source": [
    "#%fs ls file:/Workspace/Repos/shared/beacon2-ri-tools/CINECA_synthetic_cohort_EUROPE_UK1/Beacon-v2-Models_CINECA_UK1.xlsx"
   ]
  },
  {
   "cell_type": "code",
   "execution_count": 2,
   "metadata": {
    "application/vnd.databricks.v1+cell": {
     "cellMetadata": {},
     "inputWidgets": {},
     "nuid": "fe564e4e-d2e5-4184-9b15-ed9117f503d1",
     "showTitle": false,
     "title": ""
    },
    "scrolled": true,
    "ExecuteTime": {
     "end_time": "2023-07-05T07:44:57.550592Z",
     "start_time": "2023-07-05T07:44:57.539454Z"
    }
   },
   "outputs": [],
   "source": [
    "#!python -m pip install --upgrade pip\n",
    "#!pip install openpyxl"
   ]
  },
  {
   "cell_type": "code",
   "execution_count": 3,
   "metadata": {
    "application/vnd.databricks.v1+cell": {
     "cellMetadata": {},
     "inputWidgets": {},
     "nuid": "91563b26-f032-4e01-ac70-4a736155179a",
     "showTitle": false,
     "title": ""
    },
    "ExecuteTime": {
     "end_time": "2023-07-05T07:45:02.084246Z",
     "start_time": "2023-07-05T07:45:01.859921Z"
    }
   },
   "outputs": [],
   "source": [
    "import pandas as pd\n",
    "import numpy as np\n",
    "import json\n",
    "import random\n",
    "import ast\n",
    "import pprint\n",
    "import os"
   ]
  },
  {
   "cell_type": "code",
   "execution_count": null,
   "outputs": [],
   "source": [
    "parent_dir = os.path.split(os.getcwd())[0]\n",
    "parent_dir"
   ],
   "metadata": {
    "collapsed": false
   }
  },
  {
   "cell_type": "code",
   "execution_count": null,
   "metadata": {
    "application/vnd.databricks.v1+cell": {
     "cellMetadata": {},
     "inputWidgets": {},
     "nuid": "90a30b26-2a46-4115-a498-a27c97e1afbf",
     "showTitle": false,
     "title": ""
    }
   },
   "outputs": [],
   "source": [
    "work_dir = f'{parent_dir}/data/CINECA_synthetic_cohort_EUROPE_UK1'\n",
    "work_dir"
   ]
  },
  {
   "cell_type": "code",
   "execution_count": null,
   "outputs": [],
   "source": [
    "excel_path = f'{work_dir}/Beacon-v2-Models_CINECA_UK1MS__UMCCR.xlsx'\n",
    "excel_path"
   ],
   "metadata": {
    "collapsed": false
   }
  },
  {
   "cell_type": "code",
   "execution_count": 7,
   "metadata": {
    "application/vnd.databricks.v1+cell": {
     "cellMetadata": {},
     "inputWidgets": {},
     "nuid": "ea7959b7-cfe2-4f7d-8a1a-03a52240614a",
     "showTitle": false,
     "title": ""
    },
    "ExecuteTime": {
     "end_time": "2023-07-05T07:45:16.845423Z",
     "start_time": "2023-07-05T07:45:16.834633Z"
    }
   },
   "outputs": [],
   "source": [
    "submission_json = {\n",
    "    \"index\": True,\n",
    "\t\"datasetId\": \"CINECA_UK1_UMCCR\",\n",
    "\t\"dataset\": {\n",
    "\t\t\"name\": \"CINECA_UK1_UMCCR\",\n",
    "\t\t\"description\": \"CINECA UK1 subset dataset by UMCCR\"\n",
    "\t},\n",
    "\t\"assemblyId\": \"GRCh38\",\n",
    "\t\"cohortId\": \"CINECA_UK1_UMCCR\",\n",
    "\t\"cohort\": {\n",
    "\t\t\"name\": \"CINECA UK1 subset dataset by UMCCR\",\n",
    "\t\t\"cohortType\": \"study-defined\"\n",
    "\t},\n",
    "\t\"vcfLocations\": [\n",
    "        \"s3://org.umccr.onboarding.testdata/CINECA_UK1/split_by_individual/HG03872.vcf.gz\",\n",
    "        \"s3://org.umccr.onboarding.testdata/CINECA_UK1/split_by_individual/HG03873.vcf.gz\",\n",
    "        \"s3://org.umccr.onboarding.testdata/CINECA_UK1/split_by_individual/HG03874.vcf.gz\",\n",
    "        \"s3://org.umccr.onboarding.testdata/CINECA_UK1/split_by_individual/HG03875.vcf.gz\",\n",
    "        \"s3://org.umccr.onboarding.testdata/CINECA_UK1/split_by_individual/HG03882.vcf.gz\",\n",
    "        \"s3://org.umccr.onboarding.testdata/CINECA_UK1/split_by_individual/HG03884.vcf.gz\",\n",
    "        \"s3://org.umccr.onboarding.testdata/CINECA_UK1/split_by_individual/HG03885.vcf.gz\",\n",
    "        \"s3://org.umccr.onboarding.testdata/CINECA_UK1/split_by_individual/HG03886.vcf.gz\",\n",
    "        \"s3://org.umccr.onboarding.testdata/CINECA_UK1/split_by_individual/HG03887.vcf.gz\",\n",
    "        \"s3://org.umccr.onboarding.testdata/CINECA_UK1/split_by_individual/HG03888.vcf.gz\",\n",
    "        \"s3://org.umccr.onboarding.testdata/CINECA_UK1/split_by_individual/HG03890.vcf.gz\",\n",
    "        \"s3://org.umccr.onboarding.testdata/CINECA_UK1/split_by_individual/HG03894.vcf.gz\",\n",
    "        \"s3://org.umccr.onboarding.testdata/CINECA_UK1/split_by_individual/HG03895.vcf.gz\",\n",
    "        \"s3://org.umccr.onboarding.testdata/CINECA_UK1/split_by_individual/HG03896.vcf.gz\",\n",
    "        \"s3://org.umccr.onboarding.testdata/CINECA_UK1/split_by_individual/HG03897.vcf.gz\",\n",
    "        \"s3://org.umccr.onboarding.testdata/CINECA_UK1/split_by_individual/HG03898.vcf.gz\",\n",
    "        \"s3://org.umccr.onboarding.testdata/CINECA_UK1/split_by_individual/HG03899.vcf.gz\",\n",
    "        \"s3://org.umccr.onboarding.testdata/CINECA_UK1/split_by_individual/HG03900.vcf.gz\",\n",
    "        \"s3://org.umccr.onboarding.testdata/CINECA_UK1/split_by_individual/HG03902.vcf.gz\",\n",
    "        \"s3://org.umccr.onboarding.testdata/CINECA_UK1/split_by_individual/HG03905.vcf.gz\",\n",
    "        \"s3://org.umccr.onboarding.testdata/CINECA_UK1/split_by_individual/HG03907.vcf.gz\",\n",
    "        \"s3://org.umccr.onboarding.testdata/CINECA_UK1/split_by_individual/HG03908.vcf.gz\",\n",
    "        \"s3://org.umccr.onboarding.testdata/CINECA_UK1/split_by_individual/HG03910.vcf.gz\",\n",
    "        \"s3://org.umccr.onboarding.testdata/CINECA_UK1/split_by_individual/HG03911.vcf.gz\",\n",
    "        \"s3://org.umccr.onboarding.testdata/CINECA_UK1/split_by_individual/HG03913.vcf.gz\",\n",
    "        \"s3://org.umccr.onboarding.testdata/CINECA_UK1/split_by_individual/HG03914.vcf.gz\",\n",
    "        \"s3://org.umccr.onboarding.testdata/CINECA_UK1/split_by_individual/HG03916.vcf.gz\",\n",
    "        \"s3://org.umccr.onboarding.testdata/CINECA_UK1/split_by_individual/HG03917.vcf.gz\",\n",
    "        \"s3://org.umccr.onboarding.testdata/CINECA_UK1/split_by_individual/HG03919.vcf.gz\",\n",
    "        \"s3://org.umccr.onboarding.testdata/CINECA_UK1/split_by_individual/HG03920.vcf.gz\",\n",
    "        \"s3://org.umccr.onboarding.testdata/CINECA_UK1/split_by_individual/HG03922.vcf.gz\",\n",
    "        \"s3://org.umccr.onboarding.testdata/CINECA_UK1/split_by_individual/HG03925.vcf.gz\",\n",
    "        \"s3://org.umccr.onboarding.testdata/CINECA_UK1/split_by_individual/HG03926.vcf.gz\",\n",
    "        \"s3://org.umccr.onboarding.testdata/CINECA_UK1/split_by_individual/HG03928.vcf.gz\",\n",
    "        \"s3://org.umccr.onboarding.testdata/CINECA_UK1/split_by_individual/HG03931.vcf.gz\",\n",
    "        \"s3://org.umccr.onboarding.testdata/CINECA_UK1/split_by_individual/HG03934.vcf.gz\",\n",
    "        \"s3://org.umccr.onboarding.testdata/CINECA_UK1/split_by_individual/HG03937.vcf.gz\",\n",
    "        \"s3://org.umccr.onboarding.testdata/CINECA_UK1/split_by_individual/HG03940.vcf.gz\",\n",
    "        \"s3://org.umccr.onboarding.testdata/CINECA_UK1/split_by_individual/HG03941.vcf.gz\",\n",
    "        \"s3://org.umccr.onboarding.testdata/CINECA_UK1/split_by_individual/HG03943.vcf.gz\",\n",
    "        \"s3://org.umccr.onboarding.testdata/CINECA_UK1/split_by_individual/HG03944.vcf.gz\",\n",
    "        \"s3://org.umccr.onboarding.testdata/CINECA_UK1/split_by_individual/HG03945.vcf.gz\",\n",
    "        \"s3://org.umccr.onboarding.testdata/CINECA_UK1/split_by_individual/HG03947.vcf.gz\",\n",
    "        \"s3://org.umccr.onboarding.testdata/CINECA_UK1/split_by_individual/HG03949.vcf.gz\",\n",
    "        \"s3://org.umccr.onboarding.testdata/CINECA_UK1/split_by_individual/HG03950.vcf.gz\",\n",
    "        \"s3://org.umccr.onboarding.testdata/CINECA_UK1/split_by_individual/HG03951.vcf.gz\",\n",
    "        \"s3://org.umccr.onboarding.testdata/CINECA_UK1/split_by_individual/HG03953.vcf.gz\",\n",
    "        \"s3://org.umccr.onboarding.testdata/CINECA_UK1/split_by_individual/HG03955.vcf.gz\",\n",
    "        \"s3://org.umccr.onboarding.testdata/CINECA_UK1/split_by_individual/HG03960.vcf.gz\",\n",
    "        \"s3://org.umccr.onboarding.testdata/CINECA_UK1/split_by_individual/HG03963.vcf.gz\",\n",
    "        \"s3://org.umccr.onboarding.testdata/CINECA_UK1/split_by_individual/HG03965.vcf.gz\",\n",
    "        \"s3://org.umccr.onboarding.testdata/CINECA_UK1/split_by_individual/HG03967.vcf.gz\",\n",
    "        \"s3://org.umccr.onboarding.testdata/CINECA_UK1/split_by_individual/HG03968.vcf.gz\",\n",
    "        \"s3://org.umccr.onboarding.testdata/CINECA_UK1/split_by_individual/HG03969.vcf.gz\",\n",
    "        \"s3://org.umccr.onboarding.testdata/CINECA_UK1/split_by_individual/HG03971.vcf.gz\",\n",
    "        \"s3://org.umccr.onboarding.testdata/CINECA_UK1/split_by_individual/HG03973.vcf.gz\",\n",
    "        \"s3://org.umccr.onboarding.testdata/CINECA_UK1/split_by_individual/HG03974.vcf.gz\",\n",
    "        \"s3://org.umccr.onboarding.testdata/CINECA_UK1/split_by_individual/HG03976.vcf.gz\",\n",
    "        \"s3://org.umccr.onboarding.testdata/CINECA_UK1/split_by_individual/HG03977.vcf.gz\",\n",
    "        \"s3://org.umccr.onboarding.testdata/CINECA_UK1/split_by_individual/HG03978.vcf.gz\",\n",
    "        \"s3://org.umccr.onboarding.testdata/CINECA_UK1/split_by_individual/HG03985.vcf.gz\",\n",
    "        \"s3://org.umccr.onboarding.testdata/CINECA_UK1/split_by_individual/HG03986.vcf.gz\",\n",
    "        \"s3://org.umccr.onboarding.testdata/CINECA_UK1/split_by_individual/HG03989.vcf.gz\",\n",
    "        \"s3://org.umccr.onboarding.testdata/CINECA_UK1/split_by_individual/HG03990.vcf.gz\",\n",
    "        \"s3://org.umccr.onboarding.testdata/CINECA_UK1/split_by_individual/HG03991.vcf.gz\",\n",
    "        \"s3://org.umccr.onboarding.testdata/CINECA_UK1/split_by_individual/HG03995.vcf.gz\",\n",
    "        \"s3://org.umccr.onboarding.testdata/CINECA_UK1/split_by_individual/HG03998.vcf.gz\",\n",
    "        \"s3://org.umccr.onboarding.testdata/CINECA_UK1/split_by_individual/HG03999.vcf.gz\",\n",
    "        \"s3://org.umccr.onboarding.testdata/CINECA_UK1/split_by_individual/HG04001.vcf.gz\",\n",
    "        \"s3://org.umccr.onboarding.testdata/CINECA_UK1/split_by_individual/HG04002.vcf.gz\",\n",
    "        \"s3://org.umccr.onboarding.testdata/CINECA_UK1/split_by_individual/HG04003.vcf.gz\",\n",
    "        \"s3://org.umccr.onboarding.testdata/CINECA_UK1/split_by_individual/HG04006.vcf.gz\",\n",
    "        \"s3://org.umccr.onboarding.testdata/CINECA_UK1/split_by_individual/HG04014.vcf.gz\",\n",
    "        \"s3://org.umccr.onboarding.testdata/CINECA_UK1/split_by_individual/HG04015.vcf.gz\",\n",
    "        \"s3://org.umccr.onboarding.testdata/CINECA_UK1/split_by_individual/HG04017.vcf.gz\",\n",
    "        \"s3://org.umccr.onboarding.testdata/CINECA_UK1/split_by_individual/HG04018.vcf.gz\",\n",
    "        \"s3://org.umccr.onboarding.testdata/CINECA_UK1/split_by_individual/HG04019.vcf.gz\",\n",
    "        \"s3://org.umccr.onboarding.testdata/CINECA_UK1/split_by_individual/HG04020.vcf.gz\",\n",
    "        \"s3://org.umccr.onboarding.testdata/CINECA_UK1/split_by_individual/HG04022.vcf.gz\",\n",
    "        \"s3://org.umccr.onboarding.testdata/CINECA_UK1/split_by_individual/HG04023.vcf.gz\",\n",
    "        \"s3://org.umccr.onboarding.testdata/CINECA_UK1/split_by_individual/HG04025.vcf.gz\",\n",
    "        \"s3://org.umccr.onboarding.testdata/CINECA_UK1/split_by_individual/HG04026.vcf.gz\",\n",
    "        \"s3://org.umccr.onboarding.testdata/CINECA_UK1/split_by_individual/HG04029.vcf.gz\",\n",
    "        \"s3://org.umccr.onboarding.testdata/CINECA_UK1/split_by_individual/HG04033.vcf.gz\",\n",
    "        \"s3://org.umccr.onboarding.testdata/CINECA_UK1/split_by_individual/HG04035.vcf.gz\",\n",
    "        \"s3://org.umccr.onboarding.testdata/CINECA_UK1/split_by_individual/HG04038.vcf.gz\",\n",
    "        \"s3://org.umccr.onboarding.testdata/CINECA_UK1/split_by_individual/HG04039.vcf.gz\",\n",
    "        \"s3://org.umccr.onboarding.testdata/CINECA_UK1/split_by_individual/HG04042.vcf.gz\",\n",
    "        \"s3://org.umccr.onboarding.testdata/CINECA_UK1/split_by_individual/HG04047.vcf.gz\",\n",
    "        \"s3://org.umccr.onboarding.testdata/CINECA_UK1/split_by_individual/HG04054.vcf.gz\",\n",
    "        \"s3://org.umccr.onboarding.testdata/CINECA_UK1/split_by_individual/HG04056.vcf.gz\",\n",
    "        \"s3://org.umccr.onboarding.testdata/CINECA_UK1/split_by_individual/HG04059.vcf.gz\",\n",
    "        \"s3://org.umccr.onboarding.testdata/CINECA_UK1/split_by_individual/HG04060.vcf.gz\",\n",
    "        \"s3://org.umccr.onboarding.testdata/CINECA_UK1/split_by_individual/HG04061.vcf.gz\",\n",
    "        \"s3://org.umccr.onboarding.testdata/CINECA_UK1/split_by_individual/HG04062.vcf.gz\",\n",
    "        \"s3://org.umccr.onboarding.testdata/CINECA_UK1/split_by_individual/HG04063.vcf.gz\",\n",
    "        \"s3://org.umccr.onboarding.testdata/CINECA_UK1/split_by_individual/HG04070.vcf.gz\",\n",
    "        \"s3://org.umccr.onboarding.testdata/CINECA_UK1/split_by_individual/HG04075.vcf.gz\",\n",
    "        \"s3://org.umccr.onboarding.testdata/CINECA_UK1/split_by_individual/HG04076.vcf.gz\",\n",
    "        \"s3://org.umccr.onboarding.testdata/CINECA_UK1/split_by_individual/HG04080.vcf.gz\",\n",
    "        \"s3://org.umccr.onboarding.testdata/CINECA_UK1/split_by_individual/HG04090.vcf.gz\",\n",
    "        \"s3://org.umccr.onboarding.testdata/CINECA_UK1/split_by_individual/HG04093.vcf.gz\",\n",
    "        \"s3://org.umccr.onboarding.testdata/CINECA_UK1/split_by_individual/HG04094.vcf.gz\",\n",
    "        \"s3://org.umccr.onboarding.testdata/CINECA_UK1/split_by_individual/HG04096.vcf.gz\",\n",
    "        \"s3://org.umccr.onboarding.testdata/CINECA_UK1/split_by_individual/HG04098.vcf.gz\",\n",
    "        \"s3://org.umccr.onboarding.testdata/CINECA_UK1/split_by_individual/HG04099.vcf.gz\",\n",
    "        \"s3://org.umccr.onboarding.testdata/CINECA_UK1/split_by_individual/HG04100.vcf.gz\",\n",
    "        \"s3://org.umccr.onboarding.testdata/CINECA_UK1/split_by_individual/HG04106.vcf.gz\",\n",
    "        \"s3://org.umccr.onboarding.testdata/CINECA_UK1/split_by_individual/HG04107.vcf.gz\",\n",
    "        \"s3://org.umccr.onboarding.testdata/CINECA_UK1/split_by_individual/HG04118.vcf.gz\",\n",
    "        \"s3://org.umccr.onboarding.testdata/CINECA_UK1/split_by_individual/HG04131.vcf.gz\",\n",
    "        \"s3://org.umccr.onboarding.testdata/CINECA_UK1/split_by_individual/HG04134.vcf.gz\",\n",
    "        \"s3://org.umccr.onboarding.testdata/CINECA_UK1/split_by_individual/HG04140.vcf.gz\",\n",
    "        \"s3://org.umccr.onboarding.testdata/CINECA_UK1/split_by_individual/HG04141.vcf.gz\",\n",
    "        \"s3://org.umccr.onboarding.testdata/CINECA_UK1/split_by_individual/HG04144.vcf.gz\",\n",
    "        \"s3://org.umccr.onboarding.testdata/CINECA_UK1/split_by_individual/HG04146.vcf.gz\",\n",
    "        \"s3://org.umccr.onboarding.testdata/CINECA_UK1/split_by_individual/HG04152.vcf.gz\",\n",
    "        \"s3://org.umccr.onboarding.testdata/CINECA_UK1/split_by_individual/HG04153.vcf.gz\",\n",
    "        \"s3://org.umccr.onboarding.testdata/CINECA_UK1/split_by_individual/HG04155.vcf.gz\",\n",
    "        \"s3://org.umccr.onboarding.testdata/CINECA_UK1/split_by_individual/HG04156.vcf.gz\",\n",
    "        \"s3://org.umccr.onboarding.testdata/CINECA_UK1/split_by_individual/HG04158.vcf.gz\",\n",
    "        \"s3://org.umccr.onboarding.testdata/CINECA_UK1/split_by_individual/HG04159.vcf.gz\",\n",
    "        \"s3://org.umccr.onboarding.testdata/CINECA_UK1/split_by_individual/HG04161.vcf.gz\",\n",
    "        \"s3://org.umccr.onboarding.testdata/CINECA_UK1/split_by_individual/HG04162.vcf.gz\",\n",
    "        \"s3://org.umccr.onboarding.testdata/CINECA_UK1/split_by_individual/HG04164.vcf.gz\",\n",
    "        \"s3://org.umccr.onboarding.testdata/CINECA_UK1/split_by_individual/HG04171.vcf.gz\",\n",
    "        \"s3://org.umccr.onboarding.testdata/CINECA_UK1/split_by_individual/HG04173.vcf.gz\",\n",
    "        \"s3://org.umccr.onboarding.testdata/CINECA_UK1/split_by_individual/HG04176.vcf.gz\",\n",
    "        \"s3://org.umccr.onboarding.testdata/CINECA_UK1/split_by_individual/HG04177.vcf.gz\",\n",
    "        \"s3://org.umccr.onboarding.testdata/CINECA_UK1/split_by_individual/HG04180.vcf.gz\",\n",
    "        \"s3://org.umccr.onboarding.testdata/CINECA_UK1/split_by_individual/HG04182.vcf.gz\",\n",
    "        \"s3://org.umccr.onboarding.testdata/CINECA_UK1/split_by_individual/HG04183.vcf.gz\",\n",
    "        \"s3://org.umccr.onboarding.testdata/CINECA_UK1/split_by_individual/HG04185.vcf.gz\",\n",
    "        \"s3://org.umccr.onboarding.testdata/CINECA_UK1/split_by_individual/HG04186.vcf.gz\",\n",
    "        \"s3://org.umccr.onboarding.testdata/CINECA_UK1/split_by_individual/HG04188.vcf.gz\",\n",
    "        \"s3://org.umccr.onboarding.testdata/CINECA_UK1/split_by_individual/HG04189.vcf.gz\",\n",
    "        \"s3://org.umccr.onboarding.testdata/CINECA_UK1/split_by_individual/HG04194.vcf.gz\",\n",
    "        \"s3://org.umccr.onboarding.testdata/CINECA_UK1/split_by_individual/HG04195.vcf.gz\",\n",
    "        \"s3://org.umccr.onboarding.testdata/CINECA_UK1/split_by_individual/HG04198.vcf.gz\",\n",
    "        \"s3://org.umccr.onboarding.testdata/CINECA_UK1/split_by_individual/HG04200.vcf.gz\",\n",
    "        \"s3://org.umccr.onboarding.testdata/CINECA_UK1/split_by_individual/HG04202.vcf.gz\",\n",
    "        \"s3://org.umccr.onboarding.testdata/CINECA_UK1/split_by_individual/HG04206.vcf.gz\",\n",
    "        \"s3://org.umccr.onboarding.testdata/CINECA_UK1/split_by_individual/HG04209.vcf.gz\",\n",
    "        \"s3://org.umccr.onboarding.testdata/CINECA_UK1/split_by_individual/HG04210.vcf.gz\",\n",
    "        \"s3://org.umccr.onboarding.testdata/CINECA_UK1/split_by_individual/HG04211.vcf.gz\",\n",
    "        \"s3://org.umccr.onboarding.testdata/CINECA_UK1/split_by_individual/HG04212.vcf.gz\",\n",
    "        \"s3://org.umccr.onboarding.testdata/CINECA_UK1/split_by_individual/HG04214.vcf.gz\",\n",
    "        \"s3://org.umccr.onboarding.testdata/CINECA_UK1/split_by_individual/HG04216.vcf.gz\",\n",
    "        \"s3://org.umccr.onboarding.testdata/CINECA_UK1/split_by_individual/HG04219.vcf.gz\",\n",
    "        \"s3://org.umccr.onboarding.testdata/CINECA_UK1/split_by_individual/HG04222.vcf.gz\",\n",
    "        \"s3://org.umccr.onboarding.testdata/CINECA_UK1/split_by_individual/HG04225.vcf.gz\",\n",
    "        \"s3://org.umccr.onboarding.testdata/CINECA_UK1/split_by_individual/HG04227.vcf.gz\",\n",
    "        \"s3://org.umccr.onboarding.testdata/CINECA_UK1/split_by_individual/HG04229.vcf.gz\",\n",
    "        \"s3://org.umccr.onboarding.testdata/CINECA_UK1/split_by_individual/HG04235.vcf.gz\",\n",
    "        \"s3://org.umccr.onboarding.testdata/CINECA_UK1/split_by_individual/HG04238.vcf.gz\",\n",
    "        \"s3://org.umccr.onboarding.testdata/CINECA_UK1/split_by_individual/HG04239.vcf.gz\",\n",
    "        \"s3://org.umccr.onboarding.testdata/CINECA_UK1/split_by_individual/NA06984.vcf.gz\",\n",
    "        \"s3://org.umccr.onboarding.testdata/CINECA_UK1/split_by_individual/NA06985.vcf.gz\",\n",
    "        \"s3://org.umccr.onboarding.testdata/CINECA_UK1/split_by_individual/NA06986.vcf.gz\",\n",
    "        \"s3://org.umccr.onboarding.testdata/CINECA_UK1/split_by_individual/NA06989.vcf.gz\",\n",
    "        \"s3://org.umccr.onboarding.testdata/CINECA_UK1/split_by_individual/NA06994.vcf.gz\",\n",
    "        \"s3://org.umccr.onboarding.testdata/CINECA_UK1/split_by_individual/NA07000.vcf.gz\",\n",
    "        \"s3://org.umccr.onboarding.testdata/CINECA_UK1/split_by_individual/NA07037.vcf.gz\",\n",
    "        \"s3://org.umccr.onboarding.testdata/CINECA_UK1/split_by_individual/NA07048.vcf.gz\",\n",
    "        \"s3://org.umccr.onboarding.testdata/CINECA_UK1/split_by_individual/NA07051.vcf.gz\",\n",
    "        \"s3://org.umccr.onboarding.testdata/CINECA_UK1/split_by_individual/NA07056.vcf.gz\",\n",
    "        \"s3://org.umccr.onboarding.testdata/CINECA_UK1/split_by_individual/NA07347.vcf.gz\",\n",
    "        \"s3://org.umccr.onboarding.testdata/CINECA_UK1/split_by_individual/NA07357.vcf.gz\",\n",
    "        \"s3://org.umccr.onboarding.testdata/CINECA_UK1/split_by_individual/NA10847.vcf.gz\",\n",
    "        \"s3://org.umccr.onboarding.testdata/CINECA_UK1/split_by_individual/NA10851.vcf.gz\",\n",
    "        \"s3://org.umccr.onboarding.testdata/CINECA_UK1/split_by_individual/NA11829.vcf.gz\",\n",
    "        \"s3://org.umccr.onboarding.testdata/CINECA_UK1/split_by_individual/NA11830.vcf.gz\",\n",
    "        \"s3://org.umccr.onboarding.testdata/CINECA_UK1/split_by_individual/NA11831.vcf.gz\",\n",
    "        \"s3://org.umccr.onboarding.testdata/CINECA_UK1/split_by_individual/NA11832.vcf.gz\",\n",
    "        \"s3://org.umccr.onboarding.testdata/CINECA_UK1/split_by_individual/NA11840.vcf.gz\",\n",
    "        \"s3://org.umccr.onboarding.testdata/CINECA_UK1/split_by_individual/NA11843.vcf.gz\",\n",
    "        \"s3://org.umccr.onboarding.testdata/CINECA_UK1/split_by_individual/NA11881.vcf.gz\",\n",
    "        \"s3://org.umccr.onboarding.testdata/CINECA_UK1/split_by_individual/NA11892.vcf.gz\",\n",
    "        \"s3://org.umccr.onboarding.testdata/CINECA_UK1/split_by_individual/NA11893.vcf.gz\",\n",
    "        \"s3://org.umccr.onboarding.testdata/CINECA_UK1/split_by_individual/NA11894.vcf.gz\",\n",
    "        \"s3://org.umccr.onboarding.testdata/CINECA_UK1/split_by_individual/NA11918.vcf.gz\",\n",
    "        \"s3://org.umccr.onboarding.testdata/CINECA_UK1/split_by_individual/NA11919.vcf.gz\",\n",
    "        \"s3://org.umccr.onboarding.testdata/CINECA_UK1/split_by_individual/NA11920.vcf.gz\",\n",
    "        \"s3://org.umccr.onboarding.testdata/CINECA_UK1/split_by_individual/NA11930.vcf.gz\",\n",
    "        \"s3://org.umccr.onboarding.testdata/CINECA_UK1/split_by_individual/NA11931.vcf.gz\",\n",
    "        \"s3://org.umccr.onboarding.testdata/CINECA_UK1/split_by_individual/NA11932.vcf.gz\",\n",
    "        \"s3://org.umccr.onboarding.testdata/CINECA_UK1/split_by_individual/NA11933.vcf.gz\",\n",
    "        \"s3://org.umccr.onboarding.testdata/CINECA_UK1/split_by_individual/NA11992.vcf.gz\",\n",
    "        \"s3://org.umccr.onboarding.testdata/CINECA_UK1/split_by_individual/NA11994.vcf.gz\",\n",
    "        \"s3://org.umccr.onboarding.testdata/CINECA_UK1/split_by_individual/NA11995.vcf.gz\",\n",
    "        \"s3://org.umccr.onboarding.testdata/CINECA_UK1/split_by_individual/NA12003.vcf.gz\",\n",
    "        \"s3://org.umccr.onboarding.testdata/CINECA_UK1/split_by_individual/NA12004.vcf.gz\",\n",
    "        \"s3://org.umccr.onboarding.testdata/CINECA_UK1/split_by_individual/NA12005.vcf.gz\",\n",
    "        \"s3://org.umccr.onboarding.testdata/CINECA_UK1/split_by_individual/NA12006.vcf.gz\",\n",
    "        \"s3://org.umccr.onboarding.testdata/CINECA_UK1/split_by_individual/NA12043.vcf.gz\",\n",
    "        \"s3://org.umccr.onboarding.testdata/CINECA_UK1/split_by_individual/NA12044.vcf.gz\",\n",
    "        \"s3://org.umccr.onboarding.testdata/CINECA_UK1/split_by_individual/NA12045.vcf.gz\",\n",
    "        \"s3://org.umccr.onboarding.testdata/CINECA_UK1/split_by_individual/NA12046.vcf.gz\",\n",
    "        \"s3://org.umccr.onboarding.testdata/CINECA_UK1/split_by_individual/NA12058.vcf.gz\",\n",
    "        \"s3://org.umccr.onboarding.testdata/CINECA_UK1/split_by_individual/NA12144.vcf.gz\",\n",
    "        \"s3://org.umccr.onboarding.testdata/CINECA_UK1/split_by_individual/NA12154.vcf.gz\",\n",
    "        \"s3://org.umccr.onboarding.testdata/CINECA_UK1/split_by_individual/NA12155.vcf.gz\",\n",
    "        \"s3://org.umccr.onboarding.testdata/CINECA_UK1/split_by_individual/NA12156.vcf.gz\",\n",
    "        \"s3://org.umccr.onboarding.testdata/CINECA_UK1/split_by_individual/NA12234.vcf.gz\",\n",
    "        \"s3://org.umccr.onboarding.testdata/CINECA_UK1/split_by_individual/NA12249.vcf.gz\",\n",
    "        \"s3://org.umccr.onboarding.testdata/CINECA_UK1/split_by_individual/NA12272.vcf.gz\",\n",
    "        \"s3://org.umccr.onboarding.testdata/CINECA_UK1/split_by_individual/NA12273.vcf.gz\",\n",
    "        \"s3://org.umccr.onboarding.testdata/CINECA_UK1/split_by_individual/NA12275.vcf.gz\",\n",
    "        \"s3://org.umccr.onboarding.testdata/CINECA_UK1/split_by_individual/NA12282.vcf.gz\",\n",
    "        \"s3://org.umccr.onboarding.testdata/CINECA_UK1/split_by_individual/NA12283.vcf.gz\",\n",
    "        \"s3://org.umccr.onboarding.testdata/CINECA_UK1/split_by_individual/NA12286.vcf.gz\",\n",
    "        \"s3://org.umccr.onboarding.testdata/CINECA_UK1/split_by_individual/NA12287.vcf.gz\",\n",
    "        \"s3://org.umccr.onboarding.testdata/CINECA_UK1/split_by_individual/NA12340.vcf.gz\",\n",
    "        \"s3://org.umccr.onboarding.testdata/CINECA_UK1/split_by_individual/NA12341.vcf.gz\",\n",
    "        \"s3://org.umccr.onboarding.testdata/CINECA_UK1/split_by_individual/NA12342.vcf.gz\",\n",
    "        \"s3://org.umccr.onboarding.testdata/CINECA_UK1/split_by_individual/NA12347.vcf.gz\",\n",
    "        \"s3://org.umccr.onboarding.testdata/CINECA_UK1/split_by_individual/NA12348.vcf.gz\",\n",
    "        \"s3://org.umccr.onboarding.testdata/CINECA_UK1/split_by_individual/NA12383.vcf.gz\",\n",
    "        \"s3://org.umccr.onboarding.testdata/CINECA_UK1/split_by_individual/NA12399.vcf.gz\",\n",
    "        \"s3://org.umccr.onboarding.testdata/CINECA_UK1/split_by_individual/NA12400.vcf.gz\",\n",
    "        \"s3://org.umccr.onboarding.testdata/CINECA_UK1/split_by_individual/NA12413.vcf.gz\",\n",
    "        \"s3://org.umccr.onboarding.testdata/CINECA_UK1/split_by_individual/NA12414.vcf.gz\",\n",
    "        \"s3://org.umccr.onboarding.testdata/CINECA_UK1/split_by_individual/NA12489.vcf.gz\",\n",
    "        \"s3://org.umccr.onboarding.testdata/CINECA_UK1/split_by_individual/NA12546.vcf.gz\",\n",
    "        \"s3://org.umccr.onboarding.testdata/CINECA_UK1/split_by_individual/NA12716.vcf.gz\",\n",
    "        \"s3://org.umccr.onboarding.testdata/CINECA_UK1/split_by_individual/NA12717.vcf.gz\",\n",
    "        \"s3://org.umccr.onboarding.testdata/CINECA_UK1/split_by_individual/NA12718.vcf.gz\",\n",
    "        \"s3://org.umccr.onboarding.testdata/CINECA_UK1/split_by_individual/NA12748.vcf.gz\",\n",
    "        \"s3://org.umccr.onboarding.testdata/CINECA_UK1/split_by_individual/NA12749.vcf.gz\",\n",
    "        \"s3://org.umccr.onboarding.testdata/CINECA_UK1/split_by_individual/NA12750.vcf.gz\",\n",
    "        \"s3://org.umccr.onboarding.testdata/CINECA_UK1/split_by_individual/NA12751.vcf.gz\",\n",
    "        \"s3://org.umccr.onboarding.testdata/CINECA_UK1/split_by_individual/NA12760.vcf.gz\",\n",
    "        \"s3://org.umccr.onboarding.testdata/CINECA_UK1/split_by_individual/NA12761.vcf.gz\",\n",
    "        \"s3://org.umccr.onboarding.testdata/CINECA_UK1/split_by_individual/NA12762.vcf.gz\",\n",
    "        \"s3://org.umccr.onboarding.testdata/CINECA_UK1/split_by_individual/NA12763.vcf.gz\",\n",
    "        \"s3://org.umccr.onboarding.testdata/CINECA_UK1/split_by_individual/NA12775.vcf.gz\",\n",
    "        \"s3://org.umccr.onboarding.testdata/CINECA_UK1/split_by_individual/NA12776.vcf.gz\",\n",
    "        \"s3://org.umccr.onboarding.testdata/CINECA_UK1/split_by_individual/NA12777.vcf.gz\",\n",
    "        \"s3://org.umccr.onboarding.testdata/CINECA_UK1/split_by_individual/NA12778.vcf.gz\",\n",
    "        \"s3://org.umccr.onboarding.testdata/CINECA_UK1/split_by_individual/NA12812.vcf.gz\",\n",
    "        \"s3://org.umccr.onboarding.testdata/CINECA_UK1/split_by_individual/NA12813.vcf.gz\",\n",
    "        \"s3://org.umccr.onboarding.testdata/CINECA_UK1/split_by_individual/NA12814.vcf.gz\",\n",
    "        \"s3://org.umccr.onboarding.testdata/CINECA_UK1/split_by_individual/NA12815.vcf.gz\",\n",
    "        \"s3://org.umccr.onboarding.testdata/CINECA_UK1/split_by_individual/NA12827.vcf.gz\",\n",
    "        \"s3://org.umccr.onboarding.testdata/CINECA_UK1/split_by_individual/NA12828.vcf.gz\",\n",
    "        \"s3://org.umccr.onboarding.testdata/CINECA_UK1/split_by_individual/NA12829.vcf.gz\",\n",
    "        \"s3://org.umccr.onboarding.testdata/CINECA_UK1/split_by_individual/NA12830.vcf.gz\",\n",
    "        \"s3://org.umccr.onboarding.testdata/CINECA_UK1/split_by_individual/NA12842.vcf.gz\",\n",
    "        \"s3://org.umccr.onboarding.testdata/CINECA_UK1/split_by_individual/NA12843.vcf.gz\",\n",
    "        \"s3://org.umccr.onboarding.testdata/CINECA_UK1/split_by_individual/NA12872.vcf.gz\",\n",
    "        \"s3://org.umccr.onboarding.testdata/CINECA_UK1/split_by_individual/NA12873.vcf.gz\",\n",
    "        \"s3://org.umccr.onboarding.testdata/CINECA_UK1/split_by_individual/NA12874.vcf.gz\",\n",
    "        \"s3://org.umccr.onboarding.testdata/CINECA_UK1/split_by_individual/NA12878.vcf.gz\",\n",
    "        \"s3://org.umccr.onboarding.testdata/CINECA_UK1/split_by_individual/NA12889.vcf.gz\",\n",
    "        \"s3://org.umccr.onboarding.testdata/CINECA_UK1/split_by_individual/NA12890.vcf.gz\",\n",
    "        \"s3://org.umccr.onboarding.testdata/CINECA_UK1/split_by_individual/NA18486.vcf.gz\",\n",
    "        \"s3://org.umccr.onboarding.testdata/CINECA_UK1/split_by_individual/NA18488.vcf.gz\",\n",
    "        \"s3://org.umccr.onboarding.testdata/CINECA_UK1/split_by_individual/NA18489.vcf.gz\",\n",
    "        \"s3://org.umccr.onboarding.testdata/CINECA_UK1/split_by_individual/NA18498.vcf.gz\",\n",
    "        \"s3://org.umccr.onboarding.testdata/CINECA_UK1/split_by_individual/NA18499.vcf.gz\",\n",
    "        \"s3://org.umccr.onboarding.testdata/CINECA_UK1/split_by_individual/NA18501.vcf.gz\",\n",
    "        \"s3://org.umccr.onboarding.testdata/CINECA_UK1/split_by_individual/NA18502.vcf.gz\",\n",
    "        \"s3://org.umccr.onboarding.testdata/CINECA_UK1/split_by_individual/NA18504.vcf.gz\",\n",
    "        \"s3://org.umccr.onboarding.testdata/CINECA_UK1/split_by_individual/NA18505.vcf.gz\",\n",
    "        \"s3://org.umccr.onboarding.testdata/CINECA_UK1/split_by_individual/NA18507.vcf.gz\",\n",
    "        \"s3://org.umccr.onboarding.testdata/CINECA_UK1/split_by_individual/NA18508.vcf.gz\",\n",
    "        \"s3://org.umccr.onboarding.testdata/CINECA_UK1/split_by_individual/NA18510.vcf.gz\",\n",
    "        \"s3://org.umccr.onboarding.testdata/CINECA_UK1/split_by_individual/NA18511.vcf.gz\",\n",
    "        \"s3://org.umccr.onboarding.testdata/CINECA_UK1/split_by_individual/NA18516.vcf.gz\",\n",
    "        \"s3://org.umccr.onboarding.testdata/CINECA_UK1/split_by_individual/NA18517.vcf.gz\",\n",
    "        \"s3://org.umccr.onboarding.testdata/CINECA_UK1/split_by_individual/NA18519.vcf.gz\",\n",
    "        \"s3://org.umccr.onboarding.testdata/CINECA_UK1/split_by_individual/NA18520.vcf.gz\",\n",
    "        \"s3://org.umccr.onboarding.testdata/CINECA_UK1/split_by_individual/NA18522.vcf.gz\",\n",
    "        \"s3://org.umccr.onboarding.testdata/CINECA_UK1/split_by_individual/NA18523.vcf.gz\",\n",
    "        \"s3://org.umccr.onboarding.testdata/CINECA_UK1/split_by_individual/NA18525.vcf.gz\",\n",
    "        \"s3://org.umccr.onboarding.testdata/CINECA_UK1/split_by_individual/NA18526.vcf.gz\",\n",
    "        \"s3://org.umccr.onboarding.testdata/CINECA_UK1/split_by_individual/NA18528.vcf.gz\",\n",
    "        \"s3://org.umccr.onboarding.testdata/CINECA_UK1/split_by_individual/NA18530.vcf.gz\",\n",
    "        \"s3://org.umccr.onboarding.testdata/CINECA_UK1/split_by_individual/NA18531.vcf.gz\",\n",
    "        \"s3://org.umccr.onboarding.testdata/CINECA_UK1/split_by_individual/NA18532.vcf.gz\",\n",
    "        \"s3://org.umccr.onboarding.testdata/CINECA_UK1/split_by_individual/NA18533.vcf.gz\",\n",
    "        \"s3://org.umccr.onboarding.testdata/CINECA_UK1/split_by_individual/NA18534.vcf.gz\",\n",
    "        \"s3://org.umccr.onboarding.testdata/CINECA_UK1/split_by_individual/NA18535.vcf.gz\",\n",
    "        \"s3://org.umccr.onboarding.testdata/CINECA_UK1/split_by_individual/NA18536.vcf.gz\",\n",
    "        \"s3://org.umccr.onboarding.testdata/CINECA_UK1/split_by_individual/NA18537.vcf.gz\",\n",
    "        \"s3://org.umccr.onboarding.testdata/CINECA_UK1/split_by_individual/NA18538.vcf.gz\",\n",
    "        \"s3://org.umccr.onboarding.testdata/CINECA_UK1/split_by_individual/NA18539.vcf.gz\",\n",
    "        \"s3://org.umccr.onboarding.testdata/CINECA_UK1/split_by_individual/NA18541.vcf.gz\",\n",
    "        \"s3://org.umccr.onboarding.testdata/CINECA_UK1/split_by_individual/NA18542.vcf.gz\",\n",
    "        \"s3://org.umccr.onboarding.testdata/CINECA_UK1/split_by_individual/NA18543.vcf.gz\",\n",
    "        \"s3://org.umccr.onboarding.testdata/CINECA_UK1/split_by_individual/NA18544.vcf.gz\",\n",
    "        \"s3://org.umccr.onboarding.testdata/CINECA_UK1/split_by_individual/NA18545.vcf.gz\",\n",
    "        \"s3://org.umccr.onboarding.testdata/CINECA_UK1/split_by_individual/NA18546.vcf.gz\",\n",
    "        \"s3://org.umccr.onboarding.testdata/CINECA_UK1/split_by_individual/NA18547.vcf.gz\",\n",
    "        \"s3://org.umccr.onboarding.testdata/CINECA_UK1/split_by_individual/NA18548.vcf.gz\",\n",
    "        \"s3://org.umccr.onboarding.testdata/CINECA_UK1/split_by_individual/NA18549.vcf.gz\",\n",
    "        \"s3://org.umccr.onboarding.testdata/CINECA_UK1/split_by_individual/NA18550.vcf.gz\",\n",
    "        \"s3://org.umccr.onboarding.testdata/CINECA_UK1/split_by_individual/NA18552.vcf.gz\",\n",
    "        \"s3://org.umccr.onboarding.testdata/CINECA_UK1/split_by_individual/NA18553.vcf.gz\",\n",
    "        \"s3://org.umccr.onboarding.testdata/CINECA_UK1/split_by_individual/NA18555.vcf.gz\",\n",
    "        \"s3://org.umccr.onboarding.testdata/CINECA_UK1/split_by_individual/NA18557.vcf.gz\",\n",
    "        \"s3://org.umccr.onboarding.testdata/CINECA_UK1/split_by_individual/NA18558.vcf.gz\",\n",
    "        \"s3://org.umccr.onboarding.testdata/CINECA_UK1/split_by_individual/NA18559.vcf.gz\",\n",
    "        \"s3://org.umccr.onboarding.testdata/CINECA_UK1/split_by_individual/NA18560.vcf.gz\",\n",
    "        \"s3://org.umccr.onboarding.testdata/CINECA_UK1/split_by_individual/NA18561.vcf.gz\",\n",
    "        \"s3://org.umccr.onboarding.testdata/CINECA_UK1/split_by_individual/NA18562.vcf.gz\",\n",
    "        \"s3://org.umccr.onboarding.testdata/CINECA_UK1/split_by_individual/NA18563.vcf.gz\",\n",
    "        \"s3://org.umccr.onboarding.testdata/CINECA_UK1/split_by_individual/NA18564.vcf.gz\",\n",
    "        \"s3://org.umccr.onboarding.testdata/CINECA_UK1/split_by_individual/NA18565.vcf.gz\",\n",
    "        \"s3://org.umccr.onboarding.testdata/CINECA_UK1/split_by_individual/NA18566.vcf.gz\",\n",
    "        \"s3://org.umccr.onboarding.testdata/CINECA_UK1/split_by_individual/NA18567.vcf.gz\",\n",
    "        \"s3://org.umccr.onboarding.testdata/CINECA_UK1/split_by_individual/NA18570.vcf.gz\",\n",
    "        \"s3://org.umccr.onboarding.testdata/CINECA_UK1/split_by_individual/NA18571.vcf.gz\",\n",
    "        \"s3://org.umccr.onboarding.testdata/CINECA_UK1/split_by_individual/NA18572.vcf.gz\",\n",
    "        \"s3://org.umccr.onboarding.testdata/CINECA_UK1/split_by_individual/NA18573.vcf.gz\",\n",
    "        \"s3://org.umccr.onboarding.testdata/CINECA_UK1/split_by_individual/NA18574.vcf.gz\",\n",
    "        \"s3://org.umccr.onboarding.testdata/CINECA_UK1/split_by_individual/NA18577.vcf.gz\",\n",
    "        \"s3://org.umccr.onboarding.testdata/CINECA_UK1/split_by_individual/NA18579.vcf.gz\",\n",
    "        \"s3://org.umccr.onboarding.testdata/CINECA_UK1/split_by_individual/NA18582.vcf.gz\",\n",
    "        \"s3://org.umccr.onboarding.testdata/CINECA_UK1/split_by_individual/NA18591.vcf.gz\",\n",
    "        \"s3://org.umccr.onboarding.testdata/CINECA_UK1/split_by_individual/NA18592.vcf.gz\",\n",
    "        \"s3://org.umccr.onboarding.testdata/CINECA_UK1/split_by_individual/NA18593.vcf.gz\",\n",
    "        \"s3://org.umccr.onboarding.testdata/CINECA_UK1/split_by_individual/NA18595.vcf.gz\",\n",
    "        \"s3://org.umccr.onboarding.testdata/CINECA_UK1/split_by_individual/NA18596.vcf.gz\",\n",
    "        \"s3://org.umccr.onboarding.testdata/CINECA_UK1/split_by_individual/NA18597.vcf.gz\",\n",
    "        \"s3://org.umccr.onboarding.testdata/CINECA_UK1/split_by_individual/NA18599.vcf.gz\",\n",
    "        \"s3://org.umccr.onboarding.testdata/CINECA_UK1/split_by_individual/NA18602.vcf.gz\",\n",
    "        \"s3://org.umccr.onboarding.testdata/CINECA_UK1/split_by_individual/NA18603.vcf.gz\",\n",
    "        \"s3://org.umccr.onboarding.testdata/CINECA_UK1/split_by_individual/NA18605.vcf.gz\",\n",
    "        \"s3://org.umccr.onboarding.testdata/CINECA_UK1/split_by_individual/NA18606.vcf.gz\",\n",
    "        \"s3://org.umccr.onboarding.testdata/CINECA_UK1/split_by_individual/NA18608.vcf.gz\",\n",
    "        \"s3://org.umccr.onboarding.testdata/CINECA_UK1/split_by_individual/NA18609.vcf.gz\",\n",
    "        \"s3://org.umccr.onboarding.testdata/CINECA_UK1/split_by_individual/NA18610.vcf.gz\",\n",
    "        \"s3://org.umccr.onboarding.testdata/CINECA_UK1/split_by_individual/NA18611.vcf.gz\",\n",
    "        \"s3://org.umccr.onboarding.testdata/CINECA_UK1/split_by_individual/NA18612.vcf.gz\",\n",
    "        \"s3://org.umccr.onboarding.testdata/CINECA_UK1/split_by_individual/NA18613.vcf.gz\",\n",
    "        \"s3://org.umccr.onboarding.testdata/CINECA_UK1/split_by_individual/NA18614.vcf.gz\",\n",
    "        \"s3://org.umccr.onboarding.testdata/CINECA_UK1/split_by_individual/NA18615.vcf.gz\",\n",
    "        \"s3://org.umccr.onboarding.testdata/CINECA_UK1/split_by_individual/NA18616.vcf.gz\",\n",
    "        \"s3://org.umccr.onboarding.testdata/CINECA_UK1/split_by_individual/NA18617.vcf.gz\",\n",
    "        \"s3://org.umccr.onboarding.testdata/CINECA_UK1/split_by_individual/NA18618.vcf.gz\",\n",
    "        \"s3://org.umccr.onboarding.testdata/CINECA_UK1/split_by_individual/NA18619.vcf.gz\",\n",
    "        \"s3://org.umccr.onboarding.testdata/CINECA_UK1/split_by_individual/NA18620.vcf.gz\",\n",
    "        \"s3://org.umccr.onboarding.testdata/CINECA_UK1/split_by_individual/NA18621.vcf.gz\",\n",
    "        \"s3://org.umccr.onboarding.testdata/CINECA_UK1/split_by_individual/NA18622.vcf.gz\",\n",
    "        \"s3://org.umccr.onboarding.testdata/CINECA_UK1/split_by_individual/NA18623.vcf.gz\",\n",
    "        \"s3://org.umccr.onboarding.testdata/CINECA_UK1/split_by_individual/NA18624.vcf.gz\",\n",
    "        \"s3://org.umccr.onboarding.testdata/CINECA_UK1/split_by_individual/NA18625.vcf.gz\",\n",
    "        \"s3://org.umccr.onboarding.testdata/CINECA_UK1/split_by_individual/NA18626.vcf.gz\",\n",
    "        \"s3://org.umccr.onboarding.testdata/CINECA_UK1/split_by_individual/NA18627.vcf.gz\",\n",
    "        \"s3://org.umccr.onboarding.testdata/CINECA_UK1/split_by_individual/NA18628.vcf.gz\",\n",
    "        \"s3://org.umccr.onboarding.testdata/CINECA_UK1/split_by_individual/NA18629.vcf.gz\",\n",
    "        \"s3://org.umccr.onboarding.testdata/CINECA_UK1/split_by_individual/NA18630.vcf.gz\",\n",
    "        \"s3://org.umccr.onboarding.testdata/CINECA_UK1/split_by_individual/NA18631.vcf.gz\",\n",
    "        \"s3://org.umccr.onboarding.testdata/CINECA_UK1/split_by_individual/NA18632.vcf.gz\",\n",
    "        \"s3://org.umccr.onboarding.testdata/CINECA_UK1/split_by_individual/NA18633.vcf.gz\",\n",
    "        \"s3://org.umccr.onboarding.testdata/CINECA_UK1/split_by_individual/NA18634.vcf.gz\",\n",
    "        \"s3://org.umccr.onboarding.testdata/CINECA_UK1/split_by_individual/NA18635.vcf.gz\",\n",
    "        \"s3://org.umccr.onboarding.testdata/CINECA_UK1/split_by_individual/NA18636.vcf.gz\",\n",
    "        \"s3://org.umccr.onboarding.testdata/CINECA_UK1/split_by_individual/NA18637.vcf.gz\",\n",
    "        \"s3://org.umccr.onboarding.testdata/CINECA_UK1/split_by_individual/NA18638.vcf.gz\",\n",
    "        \"s3://org.umccr.onboarding.testdata/CINECA_UK1/split_by_individual/NA18639.vcf.gz\",\n",
    "        \"s3://org.umccr.onboarding.testdata/CINECA_UK1/split_by_individual/NA18640.vcf.gz\",\n",
    "        \"s3://org.umccr.onboarding.testdata/CINECA_UK1/split_by_individual/NA18641.vcf.gz\",\n",
    "        \"s3://org.umccr.onboarding.testdata/CINECA_UK1/split_by_individual/NA18642.vcf.gz\",\n",
    "        \"s3://org.umccr.onboarding.testdata/CINECA_UK1/split_by_individual/NA18643.vcf.gz\",\n",
    "        \"s3://org.umccr.onboarding.testdata/CINECA_UK1/split_by_individual/NA18644.vcf.gz\",\n",
    "        \"s3://org.umccr.onboarding.testdata/CINECA_UK1/split_by_individual/NA18645.vcf.gz\",\n",
    "        \"s3://org.umccr.onboarding.testdata/CINECA_UK1/split_by_individual/NA18646.vcf.gz\",\n",
    "        \"s3://org.umccr.onboarding.testdata/CINECA_UK1/split_by_individual/NA18647.vcf.gz\",\n",
    "        \"s3://org.umccr.onboarding.testdata/CINECA_UK1/split_by_individual/NA18648.vcf.gz\",\n",
    "        \"s3://org.umccr.onboarding.testdata/CINECA_UK1/split_by_individual/NA18740.vcf.gz\",\n",
    "        \"s3://org.umccr.onboarding.testdata/CINECA_UK1/split_by_individual/NA18745.vcf.gz\",\n",
    "        \"s3://org.umccr.onboarding.testdata/CINECA_UK1/split_by_individual/NA18747.vcf.gz\",\n",
    "        \"s3://org.umccr.onboarding.testdata/CINECA_UK1/split_by_individual/NA18748.vcf.gz\",\n",
    "        \"s3://org.umccr.onboarding.testdata/CINECA_UK1/split_by_individual/NA18749.vcf.gz\",\n",
    "        \"s3://org.umccr.onboarding.testdata/CINECA_UK1/split_by_individual/NA18757.vcf.gz\",\n",
    "        \"s3://org.umccr.onboarding.testdata/CINECA_UK1/split_by_individual/NA18853.vcf.gz\",\n",
    "        \"s3://org.umccr.onboarding.testdata/CINECA_UK1/split_by_individual/NA18856.vcf.gz\",\n",
    "        \"s3://org.umccr.onboarding.testdata/CINECA_UK1/split_by_individual/NA18858.vcf.gz\",\n",
    "        \"s3://org.umccr.onboarding.testdata/CINECA_UK1/split_by_individual/NA18861.vcf.gz\",\n",
    "        \"s3://org.umccr.onboarding.testdata/CINECA_UK1/split_by_individual/NA18864.vcf.gz\",\n",
    "        \"s3://org.umccr.onboarding.testdata/CINECA_UK1/split_by_individual/NA18865.vcf.gz\",\n",
    "        \"s3://org.umccr.onboarding.testdata/CINECA_UK1/split_by_individual/NA18867.vcf.gz\",\n",
    "        \"s3://org.umccr.onboarding.testdata/CINECA_UK1/split_by_individual/NA18868.vcf.gz\",\n",
    "        \"s3://org.umccr.onboarding.testdata/CINECA_UK1/split_by_individual/NA18870.vcf.gz\",\n",
    "        \"s3://org.umccr.onboarding.testdata/CINECA_UK1/split_by_individual/NA18871.vcf.gz\",\n",
    "        \"s3://org.umccr.onboarding.testdata/CINECA_UK1/split_by_individual/NA18873.vcf.gz\",\n",
    "        \"s3://org.umccr.onboarding.testdata/CINECA_UK1/split_by_individual/NA18874.vcf.gz\",\n",
    "        \"s3://org.umccr.onboarding.testdata/CINECA_UK1/split_by_individual/NA18876.vcf.gz\",\n",
    "        \"s3://org.umccr.onboarding.testdata/CINECA_UK1/split_by_individual/NA18877.vcf.gz\",\n",
    "        \"s3://org.umccr.onboarding.testdata/CINECA_UK1/split_by_individual/NA18878.vcf.gz\",\n",
    "        \"s3://org.umccr.onboarding.testdata/CINECA_UK1/split_by_individual/NA18879.vcf.gz\",\n",
    "        \"s3://org.umccr.onboarding.testdata/CINECA_UK1/split_by_individual/NA18881.vcf.gz\",\n",
    "        \"s3://org.umccr.onboarding.testdata/CINECA_UK1/split_by_individual/NA18907.vcf.gz\",\n",
    "        \"s3://org.umccr.onboarding.testdata/CINECA_UK1/split_by_individual/NA18908.vcf.gz\",\n",
    "        \"s3://org.umccr.onboarding.testdata/CINECA_UK1/split_by_individual/NA18909.vcf.gz\",\n",
    "        \"s3://org.umccr.onboarding.testdata/CINECA_UK1/split_by_individual/NA18910.vcf.gz\",\n",
    "        \"s3://org.umccr.onboarding.testdata/CINECA_UK1/split_by_individual/NA18912.vcf.gz\",\n",
    "        \"s3://org.umccr.onboarding.testdata/CINECA_UK1/split_by_individual/NA18915.vcf.gz\",\n",
    "        \"s3://org.umccr.onboarding.testdata/CINECA_UK1/split_by_individual/NA18916.vcf.gz\",\n",
    "        \"s3://org.umccr.onboarding.testdata/CINECA_UK1/split_by_individual/NA18917.vcf.gz\",\n",
    "        \"s3://org.umccr.onboarding.testdata/CINECA_UK1/split_by_individual/NA18923.vcf.gz\",\n",
    "        \"s3://org.umccr.onboarding.testdata/CINECA_UK1/split_by_individual/NA18924.vcf.gz\",\n",
    "        \"s3://org.umccr.onboarding.testdata/CINECA_UK1/split_by_individual/NA18933.vcf.gz\",\n",
    "        \"s3://org.umccr.onboarding.testdata/CINECA_UK1/split_by_individual/NA18934.vcf.gz\",\n",
    "        \"s3://org.umccr.onboarding.testdata/CINECA_UK1/split_by_individual/NA18939.vcf.gz\",\n",
    "        \"s3://org.umccr.onboarding.testdata/CINECA_UK1/split_by_individual/NA18940.vcf.gz\",\n",
    "        \"s3://org.umccr.onboarding.testdata/CINECA_UK1/split_by_individual/NA18941.vcf.gz\",\n",
    "        \"s3://org.umccr.onboarding.testdata/CINECA_UK1/split_by_individual/NA18942.vcf.gz\",\n",
    "        \"s3://org.umccr.onboarding.testdata/CINECA_UK1/split_by_individual/NA18943.vcf.gz\",\n",
    "        \"s3://org.umccr.onboarding.testdata/CINECA_UK1/split_by_individual/NA18944.vcf.gz\",\n",
    "        \"s3://org.umccr.onboarding.testdata/CINECA_UK1/split_by_individual/NA18945.vcf.gz\",\n",
    "        \"s3://org.umccr.onboarding.testdata/CINECA_UK1/split_by_individual/NA18946.vcf.gz\",\n",
    "        \"s3://org.umccr.onboarding.testdata/CINECA_UK1/split_by_individual/NA18947.vcf.gz\",\n",
    "        \"s3://org.umccr.onboarding.testdata/CINECA_UK1/split_by_individual/NA18948.vcf.gz\",\n",
    "        \"s3://org.umccr.onboarding.testdata/CINECA_UK1/split_by_individual/NA18949.vcf.gz\",\n",
    "        \"s3://org.umccr.onboarding.testdata/CINECA_UK1/split_by_individual/NA18950.vcf.gz\",\n",
    "        \"s3://org.umccr.onboarding.testdata/CINECA_UK1/split_by_individual/NA18951.vcf.gz\",\n",
    "        \"s3://org.umccr.onboarding.testdata/CINECA_UK1/split_by_individual/NA18952.vcf.gz\",\n",
    "        \"s3://org.umccr.onboarding.testdata/CINECA_UK1/split_by_individual/NA18953.vcf.gz\",\n",
    "        \"s3://org.umccr.onboarding.testdata/CINECA_UK1/split_by_individual/NA18954.vcf.gz\",\n",
    "        \"s3://org.umccr.onboarding.testdata/CINECA_UK1/split_by_individual/NA18956.vcf.gz\",\n",
    "        \"s3://org.umccr.onboarding.testdata/CINECA_UK1/split_by_individual/NA18957.vcf.gz\",\n",
    "        \"s3://org.umccr.onboarding.testdata/CINECA_UK1/split_by_individual/NA18959.vcf.gz\",\n",
    "        \"s3://org.umccr.onboarding.testdata/CINECA_UK1/split_by_individual/NA18960.vcf.gz\",\n",
    "        \"s3://org.umccr.onboarding.testdata/CINECA_UK1/split_by_individual/NA18961.vcf.gz\",\n",
    "        \"s3://org.umccr.onboarding.testdata/CINECA_UK1/split_by_individual/NA18962.vcf.gz\",\n",
    "        \"s3://org.umccr.onboarding.testdata/CINECA_UK1/split_by_individual/NA18963.vcf.gz\",\n",
    "        \"s3://org.umccr.onboarding.testdata/CINECA_UK1/split_by_individual/NA18964.vcf.gz\",\n",
    "        \"s3://org.umccr.onboarding.testdata/CINECA_UK1/split_by_individual/NA18965.vcf.gz\",\n",
    "        \"s3://org.umccr.onboarding.testdata/CINECA_UK1/split_by_individual/NA18966.vcf.gz\",\n",
    "        \"s3://org.umccr.onboarding.testdata/CINECA_UK1/split_by_individual/NA18967.vcf.gz\",\n",
    "        \"s3://org.umccr.onboarding.testdata/CINECA_UK1/split_by_individual/NA18968.vcf.gz\",\n",
    "        \"s3://org.umccr.onboarding.testdata/CINECA_UK1/split_by_individual/NA18969.vcf.gz\",\n",
    "        \"s3://org.umccr.onboarding.testdata/CINECA_UK1/split_by_individual/NA18970.vcf.gz\",\n",
    "        \"s3://org.umccr.onboarding.testdata/CINECA_UK1/split_by_individual/NA18971.vcf.gz\",\n",
    "        \"s3://org.umccr.onboarding.testdata/CINECA_UK1/split_by_individual/NA18972.vcf.gz\",\n",
    "        \"s3://org.umccr.onboarding.testdata/CINECA_UK1/split_by_individual/NA18973.vcf.gz\",\n",
    "        \"s3://org.umccr.onboarding.testdata/CINECA_UK1/split_by_individual/NA18974.vcf.gz\",\n",
    "        \"s3://org.umccr.onboarding.testdata/CINECA_UK1/split_by_individual/NA18975.vcf.gz\",\n",
    "        \"s3://org.umccr.onboarding.testdata/CINECA_UK1/split_by_individual/NA18976.vcf.gz\",\n",
    "        \"s3://org.umccr.onboarding.testdata/CINECA_UK1/split_by_individual/NA18977.vcf.gz\",\n",
    "        \"s3://org.umccr.onboarding.testdata/CINECA_UK1/split_by_individual/NA18978.vcf.gz\",\n",
    "        \"s3://org.umccr.onboarding.testdata/CINECA_UK1/split_by_individual/NA18979.vcf.gz\",\n",
    "        \"s3://org.umccr.onboarding.testdata/CINECA_UK1/split_by_individual/NA18980.vcf.gz\",\n",
    "        \"s3://org.umccr.onboarding.testdata/CINECA_UK1/split_by_individual/NA18981.vcf.gz\",\n",
    "        \"s3://org.umccr.onboarding.testdata/CINECA_UK1/split_by_individual/NA18982.vcf.gz\",\n",
    "        \"s3://org.umccr.onboarding.testdata/CINECA_UK1/split_by_individual/NA18983.vcf.gz\",\n",
    "        \"s3://org.umccr.onboarding.testdata/CINECA_UK1/split_by_individual/NA18984.vcf.gz\",\n",
    "        \"s3://org.umccr.onboarding.testdata/CINECA_UK1/split_by_individual/NA18985.vcf.gz\",\n",
    "        \"s3://org.umccr.onboarding.testdata/CINECA_UK1/split_by_individual/NA18986.vcf.gz\",\n",
    "        \"s3://org.umccr.onboarding.testdata/CINECA_UK1/split_by_individual/NA18987.vcf.gz\",\n",
    "        \"s3://org.umccr.onboarding.testdata/CINECA_UK1/split_by_individual/NA18988.vcf.gz\",\n",
    "        \"s3://org.umccr.onboarding.testdata/CINECA_UK1/split_by_individual/NA18989.vcf.gz\",\n",
    "        \"s3://org.umccr.onboarding.testdata/CINECA_UK1/split_by_individual/NA18990.vcf.gz\",\n",
    "        \"s3://org.umccr.onboarding.testdata/CINECA_UK1/split_by_individual/NA18991.vcf.gz\",\n",
    "        \"s3://org.umccr.onboarding.testdata/CINECA_UK1/split_by_individual/NA18992.vcf.gz\",\n",
    "        \"s3://org.umccr.onboarding.testdata/CINECA_UK1/split_by_individual/NA18993.vcf.gz\",\n",
    "        \"s3://org.umccr.onboarding.testdata/CINECA_UK1/split_by_individual/NA18994.vcf.gz\",\n",
    "        \"s3://org.umccr.onboarding.testdata/CINECA_UK1/split_by_individual/NA18995.vcf.gz\",\n",
    "        \"s3://org.umccr.onboarding.testdata/CINECA_UK1/split_by_individual/NA18997.vcf.gz\",\n",
    "        \"s3://org.umccr.onboarding.testdata/CINECA_UK1/split_by_individual/NA18998.vcf.gz\",\n",
    "        \"s3://org.umccr.onboarding.testdata/CINECA_UK1/split_by_individual/NA18999.vcf.gz\",\n",
    "        \"s3://org.umccr.onboarding.testdata/CINECA_UK1/split_by_individual/NA19000.vcf.gz\",\n",
    "        \"s3://org.umccr.onboarding.testdata/CINECA_UK1/split_by_individual/NA19001.vcf.gz\",\n",
    "        \"s3://org.umccr.onboarding.testdata/CINECA_UK1/split_by_individual/NA19002.vcf.gz\",\n",
    "        \"s3://org.umccr.onboarding.testdata/CINECA_UK1/split_by_individual/NA19003.vcf.gz\",\n",
    "        \"s3://org.umccr.onboarding.testdata/CINECA_UK1/split_by_individual/NA19004.vcf.gz\",\n",
    "        \"s3://org.umccr.onboarding.testdata/CINECA_UK1/split_by_individual/NA19005.vcf.gz\",\n",
    "        \"s3://org.umccr.onboarding.testdata/CINECA_UK1/split_by_individual/NA19006.vcf.gz\",\n",
    "        \"s3://org.umccr.onboarding.testdata/CINECA_UK1/split_by_individual/NA19007.vcf.gz\",\n",
    "        \"s3://org.umccr.onboarding.testdata/CINECA_UK1/split_by_individual/NA19009.vcf.gz\",\n",
    "        \"s3://org.umccr.onboarding.testdata/CINECA_UK1/split_by_individual/NA19010.vcf.gz\",\n",
    "        \"s3://org.umccr.onboarding.testdata/CINECA_UK1/split_by_individual/NA19011.vcf.gz\",\n",
    "        \"s3://org.umccr.onboarding.testdata/CINECA_UK1/split_by_individual/NA19012.vcf.gz\",\n",
    "        \"s3://org.umccr.onboarding.testdata/CINECA_UK1/split_by_individual/NA19017.vcf.gz\",\n",
    "        \"s3://org.umccr.onboarding.testdata/CINECA_UK1/split_by_individual/NA19019.vcf.gz\",\n",
    "        \"s3://org.umccr.onboarding.testdata/CINECA_UK1/split_by_individual/NA19020.vcf.gz\",\n",
    "        \"s3://org.umccr.onboarding.testdata/CINECA_UK1/split_by_individual/NA19023.vcf.gz\",\n",
    "        \"s3://org.umccr.onboarding.testdata/CINECA_UK1/split_by_individual/NA19024.vcf.gz\",\n",
    "        \"s3://org.umccr.onboarding.testdata/CINECA_UK1/split_by_individual/NA19025.vcf.gz\",\n",
    "        \"s3://org.umccr.onboarding.testdata/CINECA_UK1/split_by_individual/NA19026.vcf.gz\",\n",
    "        \"s3://org.umccr.onboarding.testdata/CINECA_UK1/split_by_individual/NA19027.vcf.gz\",\n",
    "        \"s3://org.umccr.onboarding.testdata/CINECA_UK1/split_by_individual/NA19028.vcf.gz\",\n",
    "        \"s3://org.umccr.onboarding.testdata/CINECA_UK1/split_by_individual/NA19030.vcf.gz\",\n",
    "        \"s3://org.umccr.onboarding.testdata/CINECA_UK1/split_by_individual/NA19031.vcf.gz\",\n",
    "        \"s3://org.umccr.onboarding.testdata/CINECA_UK1/split_by_individual/NA19035.vcf.gz\",\n",
    "        \"s3://org.umccr.onboarding.testdata/CINECA_UK1/split_by_individual/NA19036.vcf.gz\",\n",
    "        \"s3://org.umccr.onboarding.testdata/CINECA_UK1/split_by_individual/NA19037.vcf.gz\",\n",
    "        \"s3://org.umccr.onboarding.testdata/CINECA_UK1/split_by_individual/NA19038.vcf.gz\",\n",
    "        \"s3://org.umccr.onboarding.testdata/CINECA_UK1/split_by_individual/NA19041.vcf.gz\",\n",
    "        \"s3://org.umccr.onboarding.testdata/CINECA_UK1/split_by_individual/NA19042.vcf.gz\",\n",
    "        \"s3://org.umccr.onboarding.testdata/CINECA_UK1/split_by_individual/NA19043.vcf.gz\",\n",
    "        \"s3://org.umccr.onboarding.testdata/CINECA_UK1/split_by_individual/NA19054.vcf.gz\",\n",
    "        \"s3://org.umccr.onboarding.testdata/CINECA_UK1/split_by_individual/NA19055.vcf.gz\",\n",
    "        \"s3://org.umccr.onboarding.testdata/CINECA_UK1/split_by_individual/NA19056.vcf.gz\",\n",
    "        \"s3://org.umccr.onboarding.testdata/CINECA_UK1/split_by_individual/NA19057.vcf.gz\",\n",
    "        \"s3://org.umccr.onboarding.testdata/CINECA_UK1/split_by_individual/NA19058.vcf.gz\",\n",
    "        \"s3://org.umccr.onboarding.testdata/CINECA_UK1/split_by_individual/NA19059.vcf.gz\"\n",
    "\t],\n",
    "\t\"individuals\": [],\n",
    "\t\"biosamples\": [],\n",
    "\t\"analyses\": [],\n",
    "    \"runs\": []\n",
    "}"
   ]
  },
  {
   "cell_type": "code",
   "execution_count": null,
   "metadata": {
    "application/vnd.databricks.v1+cell": {
     "cellMetadata": {},
     "inputWidgets": {},
     "nuid": "030fb607-0327-4ce8-b167-db1b79bd340b",
     "showTitle": false,
     "title": ""
    }
   },
   "outputs": [],
   "source": [
    "df = pd.read_excel(excel_path, sheet_name='individuals')"
   ]
  },
  {
   "cell_type": "code",
   "execution_count": 9,
   "metadata": {
    "application/vnd.databricks.v1+cell": {
     "cellMetadata": {},
     "inputWidgets": {},
     "nuid": "f584e7af-bc3f-49eb-9bf6-123256849703",
     "showTitle": false,
     "title": ""
    },
    "ExecuteTime": {
     "end_time": "2023-07-05T07:45:20.815533Z",
     "start_time": "2023-07-05T07:45:20.810634Z"
    }
   },
   "outputs": [
    {
     "data": {
      "text/plain": "     diseases_ageOfOnset      diseases_diseaseCode.id  \\\n0                    NaN                MONDO:0005812   \n1                    NaN                MONDO:0007186   \n2                    NaN                MONDO:0005276   \n3                    NaN                          NaN   \n4                    NaN                MONDO:0007186   \n..                   ...                          ...   \n495                  NaN                          NaN   \n496                  NaN                MONDO:0004126   \n497                  NaN                MONDO:0005276   \n498                  NaN                MONDO:0005301   \n499                  NaN  MONDO:0011122,MONDO:0005812   \n\n          diseases_diseaseCode.label  diseases_familyHistory  diseases_notes  \\\n0                          influenza                     NaN             NaN   \n1    gastroesophageal reflux disease                     NaN             NaN   \n2                      dental caries                     NaN             NaN   \n3                                NaN                     NaN             NaN   \n4    gastroesophageal reflux disease                     NaN             NaN   \n..                               ...                     ...             ...   \n495                              NaN                     NaN             NaN   \n496                      thyroiditis                     NaN             NaN   \n497                    dental caries                     NaN             NaN   \n498               multiple sclerosis                     NaN             NaN   \n499       obesity disorder,influenza                     NaN             NaN   \n\n     diseases_severity.id  diseases_severity.label  diseases_stage.id  \\\n0                     NaN                      NaN                NaN   \n1                     NaN                      NaN                NaN   \n2                     NaN                      NaN                NaN   \n3                     NaN                      NaN                NaN   \n4                     NaN                      NaN                NaN   \n..                    ...                      ...                ...   \n495                   NaN                      NaN                NaN   \n496                   NaN                      NaN                NaN   \n497                   NaN                      NaN                NaN   \n498                   NaN                      NaN                NaN   \n499                   NaN                      NaN                NaN   \n\n     diseases_stage.label ethnicity.id  ...  \\\n0                     NaN  NCIT:C67109  ...   \n1                     NaN  NCIT:C42331  ...   \n2                     NaN  NCIT:C67109  ...   \n3                     NaN  NCIT:C41260  ...   \n4                     NaN  NCIT:C67109  ...   \n..                    ...          ...  ...   \n495                   NaN  NCIT:C67109  ...   \n496                   NaN  NCIT:C41261  ...   \n497                   NaN  NCIT:C67109  ...   \n498                   NaN  NCIT:C67109  ...   \n499                   NaN  NCIT:C41260  ...   \n\n    treatments_cumulativeDose.referenceRange.low  \\\n0                                            NaN   \n1                                            NaN   \n2                                            NaN   \n3                                            NaN   \n4                                            NaN   \n..                                           ...   \n495                                          NaN   \n496                                          NaN   \n497                                          NaN   \n498                                          NaN   \n499                                          NaN   \n\n     treatments_cumulativeDose.referenceRange.unit  \\\n0                                              NaN   \n1                                              NaN   \n2                                              NaN   \n3                                              NaN   \n4                                              NaN   \n..                                             ...   \n495                                            NaN   \n496                                            NaN   \n497                                            NaN   \n498                                            NaN   \n499                                            NaN   \n\n     treatments_cumulativeDose.unit.id  treatments_cumulativeDose.unit.label  \\\n0                                  NaN                                   NaN   \n1                                  NaN                                   NaN   \n2                                  NaN                                   NaN   \n3                                  NaN                                   NaN   \n4                                  NaN                                   NaN   \n..                                 ...                                   ...   \n495                                NaN                                   NaN   \n496                                NaN                                   NaN   \n497                                NaN                                   NaN   \n498                                NaN                                   NaN   \n499                                NaN                                   NaN   \n\n     treatments_cumulativeDose.value  treatments_doseIntervals  \\\n0                                NaN                       NaN   \n1                                NaN                       NaN   \n2                                NaN                       NaN   \n3                                NaN                       NaN   \n4                                NaN                       NaN   \n..                               ...                       ...   \n495                              NaN                       NaN   \n496                              NaN                       NaN   \n497                              NaN                       NaN   \n498                              NaN                       NaN   \n499                              NaN                       NaN   \n\n     treatments_routeOfAdministration.id  \\\n0                                    NaN   \n1                                    NaN   \n2                                    NaN   \n3                                    NaN   \n4                                    NaN   \n..                                   ...   \n495                                  NaN   \n496                                  NaN   \n497                                  NaN   \n498                                  NaN   \n499                                  NaN   \n\n     treatments_routeOfAdministration.label  treatments_treatmentCode.id  \\\n0                                       NaN                          NaN   \n1                                       NaN                          NaN   \n2                                       NaN                          NaN   \n3                                       NaN                          NaN   \n4                                       NaN                          NaN   \n..                                      ...                          ...   \n495                                     NaN                          NaN   \n496                                     NaN                          NaN   \n497                                     NaN                          NaN   \n498                                     NaN                          NaN   \n499                                     NaN                          NaN   \n\n    treatments_treatmentCode.label  \n0                              NaN  \n1                              NaN  \n2                              NaN  \n3                              NaN  \n4                              NaN  \n..                             ...  \n495                            NaN  \n496                            NaN  \n497                            NaN  \n498                            NaN  \n499                            NaN  \n\n[500 rows x 82 columns]",
      "text/html": "<div>\n<style scoped>\n    .dataframe tbody tr th:only-of-type {\n        vertical-align: middle;\n    }\n\n    .dataframe tbody tr th {\n        vertical-align: top;\n    }\n\n    .dataframe thead th {\n        text-align: right;\n    }\n</style>\n<table border=\"1\" class=\"dataframe\">\n  <thead>\n    <tr style=\"text-align: right;\">\n      <th></th>\n      <th>diseases_ageOfOnset</th>\n      <th>diseases_diseaseCode.id</th>\n      <th>diseases_diseaseCode.label</th>\n      <th>diseases_familyHistory</th>\n      <th>diseases_notes</th>\n      <th>diseases_severity.id</th>\n      <th>diseases_severity.label</th>\n      <th>diseases_stage.id</th>\n      <th>diseases_stage.label</th>\n      <th>ethnicity.id</th>\n      <th>...</th>\n      <th>treatments_cumulativeDose.referenceRange.low</th>\n      <th>treatments_cumulativeDose.referenceRange.unit</th>\n      <th>treatments_cumulativeDose.unit.id</th>\n      <th>treatments_cumulativeDose.unit.label</th>\n      <th>treatments_cumulativeDose.value</th>\n      <th>treatments_doseIntervals</th>\n      <th>treatments_routeOfAdministration.id</th>\n      <th>treatments_routeOfAdministration.label</th>\n      <th>treatments_treatmentCode.id</th>\n      <th>treatments_treatmentCode.label</th>\n    </tr>\n  </thead>\n  <tbody>\n    <tr>\n      <th>0</th>\n      <td>NaN</td>\n      <td>MONDO:0005812</td>\n      <td>influenza</td>\n      <td>NaN</td>\n      <td>NaN</td>\n      <td>NaN</td>\n      <td>NaN</td>\n      <td>NaN</td>\n      <td>NaN</td>\n      <td>NCIT:C67109</td>\n      <td>...</td>\n      <td>NaN</td>\n      <td>NaN</td>\n      <td>NaN</td>\n      <td>NaN</td>\n      <td>NaN</td>\n      <td>NaN</td>\n      <td>NaN</td>\n      <td>NaN</td>\n      <td>NaN</td>\n      <td>NaN</td>\n    </tr>\n    <tr>\n      <th>1</th>\n      <td>NaN</td>\n      <td>MONDO:0007186</td>\n      <td>gastroesophageal reflux disease</td>\n      <td>NaN</td>\n      <td>NaN</td>\n      <td>NaN</td>\n      <td>NaN</td>\n      <td>NaN</td>\n      <td>NaN</td>\n      <td>NCIT:C42331</td>\n      <td>...</td>\n      <td>NaN</td>\n      <td>NaN</td>\n      <td>NaN</td>\n      <td>NaN</td>\n      <td>NaN</td>\n      <td>NaN</td>\n      <td>NaN</td>\n      <td>NaN</td>\n      <td>NaN</td>\n      <td>NaN</td>\n    </tr>\n    <tr>\n      <th>2</th>\n      <td>NaN</td>\n      <td>MONDO:0005276</td>\n      <td>dental caries</td>\n      <td>NaN</td>\n      <td>NaN</td>\n      <td>NaN</td>\n      <td>NaN</td>\n      <td>NaN</td>\n      <td>NaN</td>\n      <td>NCIT:C67109</td>\n      <td>...</td>\n      <td>NaN</td>\n      <td>NaN</td>\n      <td>NaN</td>\n      <td>NaN</td>\n      <td>NaN</td>\n      <td>NaN</td>\n      <td>NaN</td>\n      <td>NaN</td>\n      <td>NaN</td>\n      <td>NaN</td>\n    </tr>\n    <tr>\n      <th>3</th>\n      <td>NaN</td>\n      <td>NaN</td>\n      <td>NaN</td>\n      <td>NaN</td>\n      <td>NaN</td>\n      <td>NaN</td>\n      <td>NaN</td>\n      <td>NaN</td>\n      <td>NaN</td>\n      <td>NCIT:C41260</td>\n      <td>...</td>\n      <td>NaN</td>\n      <td>NaN</td>\n      <td>NaN</td>\n      <td>NaN</td>\n      <td>NaN</td>\n      <td>NaN</td>\n      <td>NaN</td>\n      <td>NaN</td>\n      <td>NaN</td>\n      <td>NaN</td>\n    </tr>\n    <tr>\n      <th>4</th>\n      <td>NaN</td>\n      <td>MONDO:0007186</td>\n      <td>gastroesophageal reflux disease</td>\n      <td>NaN</td>\n      <td>NaN</td>\n      <td>NaN</td>\n      <td>NaN</td>\n      <td>NaN</td>\n      <td>NaN</td>\n      <td>NCIT:C67109</td>\n      <td>...</td>\n      <td>NaN</td>\n      <td>NaN</td>\n      <td>NaN</td>\n      <td>NaN</td>\n      <td>NaN</td>\n      <td>NaN</td>\n      <td>NaN</td>\n      <td>NaN</td>\n      <td>NaN</td>\n      <td>NaN</td>\n    </tr>\n    <tr>\n      <th>...</th>\n      <td>...</td>\n      <td>...</td>\n      <td>...</td>\n      <td>...</td>\n      <td>...</td>\n      <td>...</td>\n      <td>...</td>\n      <td>...</td>\n      <td>...</td>\n      <td>...</td>\n      <td>...</td>\n      <td>...</td>\n      <td>...</td>\n      <td>...</td>\n      <td>...</td>\n      <td>...</td>\n      <td>...</td>\n      <td>...</td>\n      <td>...</td>\n      <td>...</td>\n      <td>...</td>\n    </tr>\n    <tr>\n      <th>495</th>\n      <td>NaN</td>\n      <td>NaN</td>\n      <td>NaN</td>\n      <td>NaN</td>\n      <td>NaN</td>\n      <td>NaN</td>\n      <td>NaN</td>\n      <td>NaN</td>\n      <td>NaN</td>\n      <td>NCIT:C67109</td>\n      <td>...</td>\n      <td>NaN</td>\n      <td>NaN</td>\n      <td>NaN</td>\n      <td>NaN</td>\n      <td>NaN</td>\n      <td>NaN</td>\n      <td>NaN</td>\n      <td>NaN</td>\n      <td>NaN</td>\n      <td>NaN</td>\n    </tr>\n    <tr>\n      <th>496</th>\n      <td>NaN</td>\n      <td>MONDO:0004126</td>\n      <td>thyroiditis</td>\n      <td>NaN</td>\n      <td>NaN</td>\n      <td>NaN</td>\n      <td>NaN</td>\n      <td>NaN</td>\n      <td>NaN</td>\n      <td>NCIT:C41261</td>\n      <td>...</td>\n      <td>NaN</td>\n      <td>NaN</td>\n      <td>NaN</td>\n      <td>NaN</td>\n      <td>NaN</td>\n      <td>NaN</td>\n      <td>NaN</td>\n      <td>NaN</td>\n      <td>NaN</td>\n      <td>NaN</td>\n    </tr>\n    <tr>\n      <th>497</th>\n      <td>NaN</td>\n      <td>MONDO:0005276</td>\n      <td>dental caries</td>\n      <td>NaN</td>\n      <td>NaN</td>\n      <td>NaN</td>\n      <td>NaN</td>\n      <td>NaN</td>\n      <td>NaN</td>\n      <td>NCIT:C67109</td>\n      <td>...</td>\n      <td>NaN</td>\n      <td>NaN</td>\n      <td>NaN</td>\n      <td>NaN</td>\n      <td>NaN</td>\n      <td>NaN</td>\n      <td>NaN</td>\n      <td>NaN</td>\n      <td>NaN</td>\n      <td>NaN</td>\n    </tr>\n    <tr>\n      <th>498</th>\n      <td>NaN</td>\n      <td>MONDO:0005301</td>\n      <td>multiple sclerosis</td>\n      <td>NaN</td>\n      <td>NaN</td>\n      <td>NaN</td>\n      <td>NaN</td>\n      <td>NaN</td>\n      <td>NaN</td>\n      <td>NCIT:C67109</td>\n      <td>...</td>\n      <td>NaN</td>\n      <td>NaN</td>\n      <td>NaN</td>\n      <td>NaN</td>\n      <td>NaN</td>\n      <td>NaN</td>\n      <td>NaN</td>\n      <td>NaN</td>\n      <td>NaN</td>\n      <td>NaN</td>\n    </tr>\n    <tr>\n      <th>499</th>\n      <td>NaN</td>\n      <td>MONDO:0011122,MONDO:0005812</td>\n      <td>obesity disorder,influenza</td>\n      <td>NaN</td>\n      <td>NaN</td>\n      <td>NaN</td>\n      <td>NaN</td>\n      <td>NaN</td>\n      <td>NaN</td>\n      <td>NCIT:C41260</td>\n      <td>...</td>\n      <td>NaN</td>\n      <td>NaN</td>\n      <td>NaN</td>\n      <td>NaN</td>\n      <td>NaN</td>\n      <td>NaN</td>\n      <td>NaN</td>\n      <td>NaN</td>\n      <td>NaN</td>\n      <td>NaN</td>\n    </tr>\n  </tbody>\n</table>\n<p>500 rows × 82 columns</p>\n</div>"
     },
     "execution_count": 9,
     "metadata": {},
     "output_type": "execute_result"
    }
   ],
   "source": [
    "df"
   ]
  },
  {
   "cell_type": "code",
   "execution_count": 10,
   "outputs": [
    {
     "data": {
      "text/plain": "(500, 82)"
     },
     "execution_count": 10,
     "metadata": {},
     "output_type": "execute_result"
    }
   ],
   "source": [
    "df.shape"
   ],
   "metadata": {
    "collapsed": false,
    "ExecuteTime": {
     "end_time": "2023-07-05T07:45:21.877226Z",
     "start_time": "2023-07-05T07:45:21.874279Z"
    }
   }
  },
  {
   "cell_type": "code",
   "execution_count": 11,
   "metadata": {
    "application/vnd.databricks.v1+cell": {
     "cellMetadata": {},
     "inputWidgets": {},
     "nuid": "47b3a11f-bcc5-4dcb-9daf-899a06e40838",
     "showTitle": false,
     "title": ""
    },
    "ExecuteTime": {
     "end_time": "2023-07-05T07:45:22.631319Z",
     "start_time": "2023-07-05T07:45:22.628059Z"
    }
   },
   "outputs": [
    {
     "data": {
      "text/plain": "Index(['diseases_ageOfOnset', 'diseases_diseaseCode.id',\n       'diseases_diseaseCode.label', 'diseases_familyHistory',\n       'diseases_notes', 'diseases_severity.id', 'diseases_severity.label',\n       'diseases_stage.id', 'diseases_stage.label', 'ethnicity.id',\n       'ethnicity.label', 'exposures_ageAtExposure.iso8601duration',\n       'exposures_date', 'exposures_duration', 'exposures_exposureCode.id',\n       'exposures_exposureCode.label', 'exposures_unit.id',\n       'exposures_unit.label', 'exposures_value', 'geographicOrigin.id',\n       'geographicOrigin.label', 'id', 'info.eid',\n       'interventionsOrProcedures_ageAtProcedure',\n       'interventionsOrProcedures_bodySite.id',\n       'interventionsOrProcedures_bodySite.label',\n       'interventionsOrProcedures_dateOfProcedure',\n       'interventionsOrProcedures_procedureCode.id',\n       'interventionsOrProcedures_procedureCode.label', 'karyotypicSex',\n       'measures_assayCode.id', 'measures_assayCode.label', 'measures_date',\n       'measures_measurementValue', 'measures_notes',\n       'measures_observationMoment', 'measures_procedure.ageAtProcedure',\n       'measures_procedure.bodySite.id', 'measures_procedure.bodySite.label',\n       'measures_procedure.dateOfProcedure',\n       'measures_procedure.procedureCode.id',\n       'measures_procedure.procedureCode.label',\n       'pedigrees_disease.ageOfOnset', 'pedigrees_disease.diseaseCode.id',\n       'pedigrees_disease.diseaseCode.label',\n       'pedigrees_disease.familyHistory', 'pedigrees_disease.notes',\n       'pedigrees_disease.severity.id', 'pedigrees_disease.severity.label',\n       'pedigrees_disease.stage.id', 'pedigrees_disease.stage.label',\n       'pedigrees_id', 'pedigrees_members', 'pedigrees_numSubjects',\n       'phenotypicFeatures_evidence.evidenceCode.id',\n       'phenotypicFeatures_evidence.evidenceCode.label',\n       'phenotypicFeatures_evidence.reference.id',\n       'phenotypicFeatures_evidence.reference.notes',\n       'phenotypicFeatures_evidence.reference.reference',\n       'phenotypicFeatures_excluded', 'phenotypicFeatures_featureType.id',\n       'phenotypicFeatures_featureType.label', 'phenotypicFeatures_modifiers',\n       'phenotypicFeatures_notes', 'phenotypicFeatures_onset',\n       'phenotypicFeatures_resolution', 'phenotypicFeatures_severity.id',\n       'phenotypicFeatures_severity.label', 'sex.id', 'sex.label',\n       'treatments_ageAtOnset.iso8601duration',\n       'treatments_cumulativeDose.referenceRange.high',\n       'treatments_cumulativeDose.referenceRange.low',\n       'treatments_cumulativeDose.referenceRange.unit',\n       'treatments_cumulativeDose.unit.id',\n       'treatments_cumulativeDose.unit.label',\n       'treatments_cumulativeDose.value', 'treatments_doseIntervals',\n       'treatments_routeOfAdministration.id',\n       'treatments_routeOfAdministration.label', 'treatments_treatmentCode.id',\n       'treatments_treatmentCode.label'],\n      dtype='object')"
     },
     "execution_count": 11,
     "metadata": {},
     "output_type": "execute_result"
    }
   ],
   "source": [
    "df.columns"
   ]
  },
  {
   "cell_type": "code",
   "execution_count": 12,
   "metadata": {
    "application/vnd.databricks.v1+cell": {
     "cellMetadata": {},
     "inputWidgets": {},
     "nuid": "93c09465-916f-4b1b-9d05-f4d66382b485",
     "showTitle": false,
     "title": ""
    },
    "ExecuteTime": {
     "end_time": "2023-07-05T07:45:23.933465Z",
     "start_time": "2023-07-05T07:45:23.930176Z"
    }
   },
   "outputs": [
    {
     "data": {
      "text/plain": "          id  info.eid      diseases_diseaseCode.id  \\\n0    HG03872  fake1501                MONDO:0005812   \n1    HG03873  fake1502                MONDO:0007186   \n2    HG03874  fake1503                MONDO:0005276   \n3    HG03875  fake1504                          NaN   \n4    HG03882  fake1505                MONDO:0007186   \n..       ...       ...                          ...   \n495  NA19055  fake1996                          NaN   \n496  NA19056  fake1997                MONDO:0004126   \n497  NA19057  fake1998                MONDO:0005276   \n498  NA19058  fake1999                MONDO:0005301   \n499  NA19059  fake2000  MONDO:0011122,MONDO:0005812   \n\n          diseases_diseaseCode.label  diseases_familyHistory  diseases_notes  \\\n0                          influenza                     NaN             NaN   \n1    gastroesophageal reflux disease                     NaN             NaN   \n2                      dental caries                     NaN             NaN   \n3                                NaN                     NaN             NaN   \n4    gastroesophageal reflux disease                     NaN             NaN   \n..                               ...                     ...             ...   \n495                              NaN                     NaN             NaN   \n496                      thyroiditis                     NaN             NaN   \n497                    dental caries                     NaN             NaN   \n498               multiple sclerosis                     NaN             NaN   \n499       obesity disorder,influenza                     NaN             NaN   \n\n     diseases_ageOfOnset  \n0                    NaN  \n1                    NaN  \n2                    NaN  \n3                    NaN  \n4                    NaN  \n..                   ...  \n495                  NaN  \n496                  NaN  \n497                  NaN  \n498                  NaN  \n499                  NaN  \n\n[500 rows x 7 columns]",
      "text/html": "<div>\n<style scoped>\n    .dataframe tbody tr th:only-of-type {\n        vertical-align: middle;\n    }\n\n    .dataframe tbody tr th {\n        vertical-align: top;\n    }\n\n    .dataframe thead th {\n        text-align: right;\n    }\n</style>\n<table border=\"1\" class=\"dataframe\">\n  <thead>\n    <tr style=\"text-align: right;\">\n      <th></th>\n      <th>id</th>\n      <th>info.eid</th>\n      <th>diseases_diseaseCode.id</th>\n      <th>diseases_diseaseCode.label</th>\n      <th>diseases_familyHistory</th>\n      <th>diseases_notes</th>\n      <th>diseases_ageOfOnset</th>\n    </tr>\n  </thead>\n  <tbody>\n    <tr>\n      <th>0</th>\n      <td>HG03872</td>\n      <td>fake1501</td>\n      <td>MONDO:0005812</td>\n      <td>influenza</td>\n      <td>NaN</td>\n      <td>NaN</td>\n      <td>NaN</td>\n    </tr>\n    <tr>\n      <th>1</th>\n      <td>HG03873</td>\n      <td>fake1502</td>\n      <td>MONDO:0007186</td>\n      <td>gastroesophageal reflux disease</td>\n      <td>NaN</td>\n      <td>NaN</td>\n      <td>NaN</td>\n    </tr>\n    <tr>\n      <th>2</th>\n      <td>HG03874</td>\n      <td>fake1503</td>\n      <td>MONDO:0005276</td>\n      <td>dental caries</td>\n      <td>NaN</td>\n      <td>NaN</td>\n      <td>NaN</td>\n    </tr>\n    <tr>\n      <th>3</th>\n      <td>HG03875</td>\n      <td>fake1504</td>\n      <td>NaN</td>\n      <td>NaN</td>\n      <td>NaN</td>\n      <td>NaN</td>\n      <td>NaN</td>\n    </tr>\n    <tr>\n      <th>4</th>\n      <td>HG03882</td>\n      <td>fake1505</td>\n      <td>MONDO:0007186</td>\n      <td>gastroesophageal reflux disease</td>\n      <td>NaN</td>\n      <td>NaN</td>\n      <td>NaN</td>\n    </tr>\n    <tr>\n      <th>...</th>\n      <td>...</td>\n      <td>...</td>\n      <td>...</td>\n      <td>...</td>\n      <td>...</td>\n      <td>...</td>\n      <td>...</td>\n    </tr>\n    <tr>\n      <th>495</th>\n      <td>NA19055</td>\n      <td>fake1996</td>\n      <td>NaN</td>\n      <td>NaN</td>\n      <td>NaN</td>\n      <td>NaN</td>\n      <td>NaN</td>\n    </tr>\n    <tr>\n      <th>496</th>\n      <td>NA19056</td>\n      <td>fake1997</td>\n      <td>MONDO:0004126</td>\n      <td>thyroiditis</td>\n      <td>NaN</td>\n      <td>NaN</td>\n      <td>NaN</td>\n    </tr>\n    <tr>\n      <th>497</th>\n      <td>NA19057</td>\n      <td>fake1998</td>\n      <td>MONDO:0005276</td>\n      <td>dental caries</td>\n      <td>NaN</td>\n      <td>NaN</td>\n      <td>NaN</td>\n    </tr>\n    <tr>\n      <th>498</th>\n      <td>NA19058</td>\n      <td>fake1999</td>\n      <td>MONDO:0005301</td>\n      <td>multiple sclerosis</td>\n      <td>NaN</td>\n      <td>NaN</td>\n      <td>NaN</td>\n    </tr>\n    <tr>\n      <th>499</th>\n      <td>NA19059</td>\n      <td>fake2000</td>\n      <td>MONDO:0011122,MONDO:0005812</td>\n      <td>obesity disorder,influenza</td>\n      <td>NaN</td>\n      <td>NaN</td>\n      <td>NaN</td>\n    </tr>\n  </tbody>\n</table>\n<p>500 rows × 7 columns</p>\n</div>"
     },
     "execution_count": 12,
     "metadata": {},
     "output_type": "execute_result"
    }
   ],
   "source": [
    "df_disease = df[['id', 'info.eid', 'diseases_diseaseCode.id', 'diseases_diseaseCode.label', 'diseases_familyHistory', 'diseases_notes', 'diseases_ageOfOnset']]\n",
    "df_disease"
   ]
  },
  {
   "cell_type": "code",
   "execution_count": 13,
   "metadata": {
    "application/vnd.databricks.v1+cell": {
     "cellMetadata": {},
     "inputWidgets": {},
     "nuid": "da7cce06-41a5-4f7d-9e48-fa87a2f83374",
     "showTitle": false,
     "title": ""
    },
    "ExecuteTime": {
     "end_time": "2023-07-05T07:45:25.152409Z",
     "start_time": "2023-07-05T07:45:25.146188Z"
    }
   },
   "outputs": [
    {
     "data": {
      "text/plain": "          id  info.eid  karyotypicSex       sex.id sex.label\n0    HG03872  fake1501            NaN  NCIT:C20197      male\n1    HG03873  fake1502            NaN  NCIT:C16576    female\n2    HG03874  fake1503            NaN  NCIT:C16576    female\n3    HG03875  fake1504            NaN  NCIT:C20197      male\n4    HG03882  fake1505            NaN  NCIT:C16576    female\n..       ...       ...            ...          ...       ...\n495  NA19055  fake1996            NaN  NCIT:C20197      male\n496  NA19056  fake1997            NaN  NCIT:C20197      male\n497  NA19057  fake1998            NaN  NCIT:C16576    female\n498  NA19058  fake1999            NaN  NCIT:C20197      male\n499  NA19059  fake2000            NaN  NCIT:C16576    female\n\n[500 rows x 5 columns]",
      "text/html": "<div>\n<style scoped>\n    .dataframe tbody tr th:only-of-type {\n        vertical-align: middle;\n    }\n\n    .dataframe tbody tr th {\n        vertical-align: top;\n    }\n\n    .dataframe thead th {\n        text-align: right;\n    }\n</style>\n<table border=\"1\" class=\"dataframe\">\n  <thead>\n    <tr style=\"text-align: right;\">\n      <th></th>\n      <th>id</th>\n      <th>info.eid</th>\n      <th>karyotypicSex</th>\n      <th>sex.id</th>\n      <th>sex.label</th>\n    </tr>\n  </thead>\n  <tbody>\n    <tr>\n      <th>0</th>\n      <td>HG03872</td>\n      <td>fake1501</td>\n      <td>NaN</td>\n      <td>NCIT:C20197</td>\n      <td>male</td>\n    </tr>\n    <tr>\n      <th>1</th>\n      <td>HG03873</td>\n      <td>fake1502</td>\n      <td>NaN</td>\n      <td>NCIT:C16576</td>\n      <td>female</td>\n    </tr>\n    <tr>\n      <th>2</th>\n      <td>HG03874</td>\n      <td>fake1503</td>\n      <td>NaN</td>\n      <td>NCIT:C16576</td>\n      <td>female</td>\n    </tr>\n    <tr>\n      <th>3</th>\n      <td>HG03875</td>\n      <td>fake1504</td>\n      <td>NaN</td>\n      <td>NCIT:C20197</td>\n      <td>male</td>\n    </tr>\n    <tr>\n      <th>4</th>\n      <td>HG03882</td>\n      <td>fake1505</td>\n      <td>NaN</td>\n      <td>NCIT:C16576</td>\n      <td>female</td>\n    </tr>\n    <tr>\n      <th>...</th>\n      <td>...</td>\n      <td>...</td>\n      <td>...</td>\n      <td>...</td>\n      <td>...</td>\n    </tr>\n    <tr>\n      <th>495</th>\n      <td>NA19055</td>\n      <td>fake1996</td>\n      <td>NaN</td>\n      <td>NCIT:C20197</td>\n      <td>male</td>\n    </tr>\n    <tr>\n      <th>496</th>\n      <td>NA19056</td>\n      <td>fake1997</td>\n      <td>NaN</td>\n      <td>NCIT:C20197</td>\n      <td>male</td>\n    </tr>\n    <tr>\n      <th>497</th>\n      <td>NA19057</td>\n      <td>fake1998</td>\n      <td>NaN</td>\n      <td>NCIT:C16576</td>\n      <td>female</td>\n    </tr>\n    <tr>\n      <th>498</th>\n      <td>NA19058</td>\n      <td>fake1999</td>\n      <td>NaN</td>\n      <td>NCIT:C20197</td>\n      <td>male</td>\n    </tr>\n    <tr>\n      <th>499</th>\n      <td>NA19059</td>\n      <td>fake2000</td>\n      <td>NaN</td>\n      <td>NCIT:C16576</td>\n      <td>female</td>\n    </tr>\n  </tbody>\n</table>\n<p>500 rows × 5 columns</p>\n</div>"
     },
     "execution_count": 13,
     "metadata": {},
     "output_type": "execute_result"
    }
   ],
   "source": [
    "df_sex = df[['id', 'info.eid', 'karyotypicSex', 'sex.id', 'sex.label']]\n",
    "df_sex"
   ]
  },
  {
   "cell_type": "code",
   "execution_count": 14,
   "metadata": {
    "application/vnd.databricks.v1+cell": {
     "cellMetadata": {},
     "inputWidgets": {},
     "nuid": "0ab23c31-5903-4be8-a353-da9c9513605f",
     "showTitle": false,
     "title": ""
    },
    "ExecuteTime": {
     "end_time": "2023-07-05T07:45:25.936380Z",
     "start_time": "2023-07-05T07:45:25.923995Z"
    }
   },
   "outputs": [],
   "source": [
    "df_ethnicity = df[['id', 'info.eid', 'ethnicity.id', 'ethnicity.label']]"
   ]
  },
  {
   "cell_type": "code",
   "execution_count": 15,
   "metadata": {
    "application/vnd.databricks.v1+cell": {
     "cellMetadata": {},
     "inputWidgets": {},
     "nuid": "82d5cd09-a907-479a-a754-fc01c2273f92",
     "showTitle": false,
     "title": ""
    },
    "ExecuteTime": {
     "end_time": "2023-07-05T07:45:27.107820Z",
     "start_time": "2023-07-05T07:45:27.101676Z"
    }
   },
   "outputs": [
    {
     "data": {
      "text/plain": "          id  info.eid geographicOrigin.id geographicOrigin.label\n0    HG03872  fake1501        GAZ:00002638       Northern Ireland\n1    HG03873  fake1502                 NaN                    NaN\n2    HG03874  fake1503        GAZ:00004018    Republic of Ireland\n3    HG03875  fake1504        GAZ:00002640                  Wales\n4    HG03882  fake1505        GAZ:00002639               Scotland\n..       ...       ...                 ...                    ...\n495  NA19055  fake1996        GAZ:00002641                England\n496  NA19056  fake1997        GAZ:00004018    Republic of Ireland\n497  NA19057  fake1998        GAZ:00002638       Northern Ireland\n498  NA19058  fake1999        GAZ:00002639               Scotland\n499  NA19059  fake2000        GAZ:00002640                  Wales\n\n[500 rows x 4 columns]",
      "text/html": "<div>\n<style scoped>\n    .dataframe tbody tr th:only-of-type {\n        vertical-align: middle;\n    }\n\n    .dataframe tbody tr th {\n        vertical-align: top;\n    }\n\n    .dataframe thead th {\n        text-align: right;\n    }\n</style>\n<table border=\"1\" class=\"dataframe\">\n  <thead>\n    <tr style=\"text-align: right;\">\n      <th></th>\n      <th>id</th>\n      <th>info.eid</th>\n      <th>geographicOrigin.id</th>\n      <th>geographicOrigin.label</th>\n    </tr>\n  </thead>\n  <tbody>\n    <tr>\n      <th>0</th>\n      <td>HG03872</td>\n      <td>fake1501</td>\n      <td>GAZ:00002638</td>\n      <td>Northern Ireland</td>\n    </tr>\n    <tr>\n      <th>1</th>\n      <td>HG03873</td>\n      <td>fake1502</td>\n      <td>NaN</td>\n      <td>NaN</td>\n    </tr>\n    <tr>\n      <th>2</th>\n      <td>HG03874</td>\n      <td>fake1503</td>\n      <td>GAZ:00004018</td>\n      <td>Republic of Ireland</td>\n    </tr>\n    <tr>\n      <th>3</th>\n      <td>HG03875</td>\n      <td>fake1504</td>\n      <td>GAZ:00002640</td>\n      <td>Wales</td>\n    </tr>\n    <tr>\n      <th>4</th>\n      <td>HG03882</td>\n      <td>fake1505</td>\n      <td>GAZ:00002639</td>\n      <td>Scotland</td>\n    </tr>\n    <tr>\n      <th>...</th>\n      <td>...</td>\n      <td>...</td>\n      <td>...</td>\n      <td>...</td>\n    </tr>\n    <tr>\n      <th>495</th>\n      <td>NA19055</td>\n      <td>fake1996</td>\n      <td>GAZ:00002641</td>\n      <td>England</td>\n    </tr>\n    <tr>\n      <th>496</th>\n      <td>NA19056</td>\n      <td>fake1997</td>\n      <td>GAZ:00004018</td>\n      <td>Republic of Ireland</td>\n    </tr>\n    <tr>\n      <th>497</th>\n      <td>NA19057</td>\n      <td>fake1998</td>\n      <td>GAZ:00002638</td>\n      <td>Northern Ireland</td>\n    </tr>\n    <tr>\n      <th>498</th>\n      <td>NA19058</td>\n      <td>fake1999</td>\n      <td>GAZ:00002639</td>\n      <td>Scotland</td>\n    </tr>\n    <tr>\n      <th>499</th>\n      <td>NA19059</td>\n      <td>fake2000</td>\n      <td>GAZ:00002640</td>\n      <td>Wales</td>\n    </tr>\n  </tbody>\n</table>\n<p>500 rows × 4 columns</p>\n</div>"
     },
     "execution_count": 15,
     "metadata": {},
     "output_type": "execute_result"
    }
   ],
   "source": [
    "df[['id', 'info.eid', 'geographicOrigin.id', 'geographicOrigin.label']]"
   ]
  },
  {
   "cell_type": "code",
   "execution_count": 16,
   "metadata": {
    "application/vnd.databricks.v1+cell": {
     "cellMetadata": {},
     "inputWidgets": {},
     "nuid": "8c737107-d91a-4667-85d0-2df451693ed1",
     "showTitle": false,
     "title": ""
    },
    "ExecuteTime": {
     "end_time": "2023-07-05T07:45:27.922764Z",
     "start_time": "2023-07-05T07:45:27.920157Z"
    }
   },
   "outputs": [
    {
     "data": {
      "text/plain": "          id  info.eid  pedigrees_disease.ageOfOnset  \\\n0    HG03872  fake1501                           NaN   \n1    HG03873  fake1502                           NaN   \n2    HG03874  fake1503                           NaN   \n3    HG03875  fake1504                           NaN   \n4    HG03882  fake1505                           NaN   \n..       ...       ...                           ...   \n495  NA19055  fake1996                           NaN   \n496  NA19056  fake1997                           NaN   \n497  NA19057  fake1998                           NaN   \n498  NA19058  fake1999                           NaN   \n499  NA19059  fake2000                           NaN   \n\n     pedigrees_disease.diseaseCode.id  pedigrees_disease.diseaseCode.label  \\\n0                                 NaN                                  NaN   \n1                                 NaN                                  NaN   \n2                                 NaN                                  NaN   \n3                                 NaN                                  NaN   \n4                                 NaN                                  NaN   \n..                                ...                                  ...   \n495                               NaN                                  NaN   \n496                               NaN                                  NaN   \n497                               NaN                                  NaN   \n498                               NaN                                  NaN   \n499                               NaN                                  NaN   \n\n     pedigrees_disease.familyHistory  pedigrees_disease.notes  \\\n0                                NaN                      NaN   \n1                                NaN                      NaN   \n2                                NaN                      NaN   \n3                                NaN                      NaN   \n4                                NaN                      NaN   \n..                               ...                      ...   \n495                              NaN                      NaN   \n496                              NaN                      NaN   \n497                              NaN                      NaN   \n498                              NaN                      NaN   \n499                              NaN                      NaN   \n\n     pedigrees_disease.severity.id  pedigrees_disease.severity.label  \\\n0                              NaN                               NaN   \n1                              NaN                               NaN   \n2                              NaN                               NaN   \n3                              NaN                               NaN   \n4                              NaN                               NaN   \n..                             ...                               ...   \n495                            NaN                               NaN   \n496                            NaN                               NaN   \n497                            NaN                               NaN   \n498                            NaN                               NaN   \n499                            NaN                               NaN   \n\n     pedigrees_disease.stage.id  pedigrees_disease.stage.label  pedigrees_id  \\\n0                           NaN                            NaN           NaN   \n1                           NaN                            NaN           NaN   \n2                           NaN                            NaN           NaN   \n3                           NaN                            NaN           NaN   \n4                           NaN                            NaN           NaN   \n..                          ...                            ...           ...   \n495                         NaN                            NaN           NaN   \n496                         NaN                            NaN           NaN   \n497                         NaN                            NaN           NaN   \n498                         NaN                            NaN           NaN   \n499                         NaN                            NaN           NaN   \n\n     pedigrees_members  pedigrees_numSubjects  \n0                  NaN                    NaN  \n1                  NaN                    NaN  \n2                  NaN                    NaN  \n3                  NaN                    NaN  \n4                  NaN                    NaN  \n..                 ...                    ...  \n495                NaN                    NaN  \n496                NaN                    NaN  \n497                NaN                    NaN  \n498                NaN                    NaN  \n499                NaN                    NaN  \n\n[500 rows x 14 columns]",
      "text/html": "<div>\n<style scoped>\n    .dataframe tbody tr th:only-of-type {\n        vertical-align: middle;\n    }\n\n    .dataframe tbody tr th {\n        vertical-align: top;\n    }\n\n    .dataframe thead th {\n        text-align: right;\n    }\n</style>\n<table border=\"1\" class=\"dataframe\">\n  <thead>\n    <tr style=\"text-align: right;\">\n      <th></th>\n      <th>id</th>\n      <th>info.eid</th>\n      <th>pedigrees_disease.ageOfOnset</th>\n      <th>pedigrees_disease.diseaseCode.id</th>\n      <th>pedigrees_disease.diseaseCode.label</th>\n      <th>pedigrees_disease.familyHistory</th>\n      <th>pedigrees_disease.notes</th>\n      <th>pedigrees_disease.severity.id</th>\n      <th>pedigrees_disease.severity.label</th>\n      <th>pedigrees_disease.stage.id</th>\n      <th>pedigrees_disease.stage.label</th>\n      <th>pedigrees_id</th>\n      <th>pedigrees_members</th>\n      <th>pedigrees_numSubjects</th>\n    </tr>\n  </thead>\n  <tbody>\n    <tr>\n      <th>0</th>\n      <td>HG03872</td>\n      <td>fake1501</td>\n      <td>NaN</td>\n      <td>NaN</td>\n      <td>NaN</td>\n      <td>NaN</td>\n      <td>NaN</td>\n      <td>NaN</td>\n      <td>NaN</td>\n      <td>NaN</td>\n      <td>NaN</td>\n      <td>NaN</td>\n      <td>NaN</td>\n      <td>NaN</td>\n    </tr>\n    <tr>\n      <th>1</th>\n      <td>HG03873</td>\n      <td>fake1502</td>\n      <td>NaN</td>\n      <td>NaN</td>\n      <td>NaN</td>\n      <td>NaN</td>\n      <td>NaN</td>\n      <td>NaN</td>\n      <td>NaN</td>\n      <td>NaN</td>\n      <td>NaN</td>\n      <td>NaN</td>\n      <td>NaN</td>\n      <td>NaN</td>\n    </tr>\n    <tr>\n      <th>2</th>\n      <td>HG03874</td>\n      <td>fake1503</td>\n      <td>NaN</td>\n      <td>NaN</td>\n      <td>NaN</td>\n      <td>NaN</td>\n      <td>NaN</td>\n      <td>NaN</td>\n      <td>NaN</td>\n      <td>NaN</td>\n      <td>NaN</td>\n      <td>NaN</td>\n      <td>NaN</td>\n      <td>NaN</td>\n    </tr>\n    <tr>\n      <th>3</th>\n      <td>HG03875</td>\n      <td>fake1504</td>\n      <td>NaN</td>\n      <td>NaN</td>\n      <td>NaN</td>\n      <td>NaN</td>\n      <td>NaN</td>\n      <td>NaN</td>\n      <td>NaN</td>\n      <td>NaN</td>\n      <td>NaN</td>\n      <td>NaN</td>\n      <td>NaN</td>\n      <td>NaN</td>\n    </tr>\n    <tr>\n      <th>4</th>\n      <td>HG03882</td>\n      <td>fake1505</td>\n      <td>NaN</td>\n      <td>NaN</td>\n      <td>NaN</td>\n      <td>NaN</td>\n      <td>NaN</td>\n      <td>NaN</td>\n      <td>NaN</td>\n      <td>NaN</td>\n      <td>NaN</td>\n      <td>NaN</td>\n      <td>NaN</td>\n      <td>NaN</td>\n    </tr>\n    <tr>\n      <th>...</th>\n      <td>...</td>\n      <td>...</td>\n      <td>...</td>\n      <td>...</td>\n      <td>...</td>\n      <td>...</td>\n      <td>...</td>\n      <td>...</td>\n      <td>...</td>\n      <td>...</td>\n      <td>...</td>\n      <td>...</td>\n      <td>...</td>\n      <td>...</td>\n    </tr>\n    <tr>\n      <th>495</th>\n      <td>NA19055</td>\n      <td>fake1996</td>\n      <td>NaN</td>\n      <td>NaN</td>\n      <td>NaN</td>\n      <td>NaN</td>\n      <td>NaN</td>\n      <td>NaN</td>\n      <td>NaN</td>\n      <td>NaN</td>\n      <td>NaN</td>\n      <td>NaN</td>\n      <td>NaN</td>\n      <td>NaN</td>\n    </tr>\n    <tr>\n      <th>496</th>\n      <td>NA19056</td>\n      <td>fake1997</td>\n      <td>NaN</td>\n      <td>NaN</td>\n      <td>NaN</td>\n      <td>NaN</td>\n      <td>NaN</td>\n      <td>NaN</td>\n      <td>NaN</td>\n      <td>NaN</td>\n      <td>NaN</td>\n      <td>NaN</td>\n      <td>NaN</td>\n      <td>NaN</td>\n    </tr>\n    <tr>\n      <th>497</th>\n      <td>NA19057</td>\n      <td>fake1998</td>\n      <td>NaN</td>\n      <td>NaN</td>\n      <td>NaN</td>\n      <td>NaN</td>\n      <td>NaN</td>\n      <td>NaN</td>\n      <td>NaN</td>\n      <td>NaN</td>\n      <td>NaN</td>\n      <td>NaN</td>\n      <td>NaN</td>\n      <td>NaN</td>\n    </tr>\n    <tr>\n      <th>498</th>\n      <td>NA19058</td>\n      <td>fake1999</td>\n      <td>NaN</td>\n      <td>NaN</td>\n      <td>NaN</td>\n      <td>NaN</td>\n      <td>NaN</td>\n      <td>NaN</td>\n      <td>NaN</td>\n      <td>NaN</td>\n      <td>NaN</td>\n      <td>NaN</td>\n      <td>NaN</td>\n      <td>NaN</td>\n    </tr>\n    <tr>\n      <th>499</th>\n      <td>NA19059</td>\n      <td>fake2000</td>\n      <td>NaN</td>\n      <td>NaN</td>\n      <td>NaN</td>\n      <td>NaN</td>\n      <td>NaN</td>\n      <td>NaN</td>\n      <td>NaN</td>\n      <td>NaN</td>\n      <td>NaN</td>\n      <td>NaN</td>\n      <td>NaN</td>\n      <td>NaN</td>\n    </tr>\n  </tbody>\n</table>\n<p>500 rows × 14 columns</p>\n</div>"
     },
     "execution_count": 16,
     "metadata": {},
     "output_type": "execute_result"
    }
   ],
   "source": [
    "df[['id', 'info.eid', 'pedigrees_disease.ageOfOnset', 'pedigrees_disease.diseaseCode.id', 'pedigrees_disease.diseaseCode.label', 'pedigrees_disease.familyHistory', 'pedigrees_disease.notes', 'pedigrees_disease.severity.id', 'pedigrees_disease.severity.label', 'pedigrees_disease.stage.id', 'pedigrees_disease.stage.label', 'pedigrees_id', 'pedigrees_members', 'pedigrees_numSubjects']]"
   ]
  },
  {
   "cell_type": "code",
   "execution_count": 17,
   "metadata": {
    "application/vnd.databricks.v1+cell": {
     "cellMetadata": {},
     "inputWidgets": {},
     "nuid": "f70067ff-a5d9-4d82-94b8-4371d18c029b",
     "showTitle": false,
     "title": ""
    },
    "ExecuteTime": {
     "end_time": "2023-07-05T07:45:29.225883Z",
     "start_time": "2023-07-05T07:45:29.210400Z"
    }
   },
   "outputs": [
    {
     "name": "stdout",
     "output_type": "stream",
     "text": [
      "skipping geographicOrigin for 1 due to id = NaN\n",
      "skipping diseases for 3 due to id = NaN\n",
      "skipping diseases for 5 due to id = NaN\n",
      "skipping geographicOrigin for 6 due to id = NaN\n",
      "skipping diseases for 6 due to id = NaN\n",
      "skipping diseases for 8 due to id = NaN\n",
      "skipping diseases for 10 due to id = NaN\n",
      "skipping diseases for 11 due to id = NaN\n",
      "skipping diseases for 12 due to id = NaN\n",
      "skipping geographicOrigin for 13 due to id = NaN\n",
      "skipping geographicOrigin for 14 due to id = NaN\n",
      "skipping diseases for 14 due to id = NaN\n",
      "skipping geographicOrigin for 15 due to id = NaN\n",
      "skipping diseases for 18 due to id = NaN\n",
      "skipping diseases for 19 due to id = NaN\n",
      "skipping ethnicity for 20 due to id = NaN\n",
      "skipping geographicOrigin for 21 due to id = NaN\n",
      "skipping geographicOrigin for 24 due to id = NaN\n",
      "skipping geographicOrigin for 26 due to id = NaN\n",
      "skipping diseases for 27 due to id = NaN\n",
      "skipping diseases for 28 due to id = NaN\n",
      "skipping diseases for 31 due to id = NaN\n",
      "skipping ethnicity for 32 due to id = NaN\n",
      "skipping geographicOrigin for 32 due to id = NaN\n",
      "skipping geographicOrigin for 33 due to id = NaN\n",
      "skipping diseases for 33 due to id = NaN\n",
      "skipping geographicOrigin for 34 due to id = NaN\n",
      "skipping diseases for 34 due to id = NaN\n",
      "skipping diseases for 35 due to id = NaN\n",
      "skipping geographicOrigin for 36 due to id = NaN\n",
      "skipping diseases for 36 due to id = NaN\n",
      "skipping diseases for 39 due to id = NaN\n",
      "skipping geographicOrigin for 41 due to id = NaN\n",
      "skipping diseases for 41 due to id = NaN\n",
      "skipping geographicOrigin for 42 due to id = NaN\n",
      "skipping geographicOrigin for 43 due to id = NaN\n",
      "skipping diseases for 44 due to id = NaN\n",
      "skipping ethnicity for 50 due to id = NaN\n",
      "skipping geographicOrigin for 51 due to id = NaN\n",
      "skipping diseases for 52 due to id = NaN\n",
      "skipping geographicOrigin for 53 due to id = NaN\n",
      "skipping diseases for 53 due to id = NaN\n",
      "skipping geographicOrigin for 54 due to id = NaN\n",
      "skipping diseases for 54 due to id = NaN\n",
      "skipping geographicOrigin for 55 due to id = NaN\n",
      "skipping ethnicity for 56 due to id = NaN\n",
      "skipping geographicOrigin for 56 due to id = NaN\n",
      "skipping geographicOrigin for 58 due to id = NaN\n",
      "skipping diseases for 58 due to id = NaN\n",
      "skipping geographicOrigin for 59 due to id = NaN\n",
      "skipping geographicOrigin for 60 due to id = NaN\n",
      "skipping diseases for 60 due to id = NaN\n",
      "skipping diseases for 62 due to id = NaN\n",
      "skipping geographicOrigin for 64 due to id = NaN\n",
      "skipping diseases for 66 due to id = NaN\n",
      "skipping ethnicity for 67 due to id = NaN\n",
      "skipping geographicOrigin for 67 due to id = NaN\n",
      "skipping geographicOrigin for 68 due to id = NaN\n",
      "skipping diseases for 70 due to id = NaN\n",
      "skipping geographicOrigin for 71 due to id = NaN\n",
      "skipping diseases for 71 due to id = NaN\n",
      "skipping geographicOrigin for 72 due to id = NaN\n",
      "skipping diseases for 73 due to id = NaN\n",
      "skipping diseases for 74 due to id = NaN\n",
      "skipping geographicOrigin for 75 due to id = NaN\n",
      "skipping diseases for 76 due to id = NaN\n",
      "skipping diseases for 77 due to id = NaN\n",
      "skipping geographicOrigin for 78 due to id = NaN\n",
      "skipping geographicOrigin for 80 due to id = NaN\n",
      "skipping diseases for 81 due to id = NaN\n",
      "skipping geographicOrigin for 83 due to id = NaN\n",
      "skipping diseases for 83 due to id = NaN\n",
      "skipping geographicOrigin for 84 due to id = NaN\n",
      "skipping diseases for 85 due to id = NaN\n",
      "skipping geographicOrigin for 86 due to id = NaN\n",
      "skipping diseases for 87 due to id = NaN\n",
      "skipping geographicOrigin for 88 due to id = NaN\n",
      "skipping geographicOrigin for 89 due to id = NaN\n",
      "skipping geographicOrigin for 91 due to id = NaN\n",
      "skipping geographicOrigin for 92 due to id = NaN\n",
      "skipping geographicOrigin for 94 due to id = NaN\n",
      "skipping geographicOrigin for 95 due to id = NaN\n",
      "skipping geographicOrigin for 97 due to id = NaN\n",
      "skipping diseases for 97 due to id = NaN\n",
      "skipping ethnicity for 98 due to id = NaN\n",
      "skipping geographicOrigin for 98 due to id = NaN\n",
      "skipping diseases for 99 due to id = NaN\n",
      "skipping geographicOrigin for 101 due to id = NaN\n",
      "skipping diseases for 101 due to id = NaN\n",
      "skipping diseases for 102 due to id = NaN\n",
      "skipping geographicOrigin for 106 due to id = NaN\n",
      "skipping diseases for 106 due to id = NaN\n",
      "skipping geographicOrigin for 107 due to id = NaN\n",
      "skipping diseases for 107 due to id = NaN\n",
      "skipping geographicOrigin for 108 due to id = NaN\n",
      "skipping diseases for 109 due to id = NaN\n",
      "skipping diseases for 111 due to id = NaN\n",
      "skipping geographicOrigin for 112 due to id = NaN\n",
      "skipping diseases for 113 due to id = NaN\n",
      "skipping geographicOrigin for 114 due to id = NaN\n",
      "skipping diseases for 114 due to id = NaN\n",
      "skipping diseases for 115 due to id = NaN\n",
      "skipping geographicOrigin for 116 due to id = NaN\n",
      "skipping geographicOrigin for 117 due to id = NaN\n",
      "skipping geographicOrigin for 118 due to id = NaN\n",
      "skipping ethnicity for 119 due to id = NaN\n",
      "skipping geographicOrigin for 119 due to id = NaN\n",
      "skipping diseases for 119 due to id = NaN\n",
      "skipping ethnicity for 123 due to id = NaN\n",
      "skipping geographicOrigin for 125 due to id = NaN\n",
      "skipping geographicOrigin for 128 due to id = NaN\n",
      "skipping diseases for 128 due to id = NaN\n",
      "skipping diseases for 129 due to id = NaN\n",
      "skipping geographicOrigin for 130 due to id = NaN\n",
      "skipping ethnicity for 131 due to id = NaN\n",
      "skipping geographicOrigin for 131 due to id = NaN\n",
      "skipping geographicOrigin for 133 due to id = NaN\n",
      "skipping geographicOrigin for 135 due to id = NaN\n",
      "skipping diseases for 136 due to id = NaN\n",
      "skipping geographicOrigin for 138 due to id = NaN\n",
      "skipping geographicOrigin for 139 due to id = NaN\n",
      "skipping diseases for 141 due to id = NaN\n",
      "skipping geographicOrigin for 143 due to id = NaN\n",
      "skipping geographicOrigin for 144 due to id = NaN\n",
      "skipping geographicOrigin for 146 due to id = NaN\n",
      "skipping diseases for 146 due to id = NaN\n",
      "skipping diseases for 147 due to id = NaN\n",
      "skipping diseases for 148 due to id = NaN\n",
      "skipping ethnicity for 150 due to id = NaN\n",
      "skipping geographicOrigin for 151 due to id = NaN\n",
      "skipping diseases for 151 due to id = NaN\n",
      "skipping geographicOrigin for 154 due to id = NaN\n",
      "skipping geographicOrigin for 155 due to id = NaN\n",
      "skipping diseases for 155 due to id = NaN\n",
      "skipping ethnicity for 156 due to id = NaN\n",
      "skipping geographicOrigin for 156 due to id = NaN\n",
      "skipping diseases for 156 due to id = NaN\n",
      "skipping geographicOrigin for 158 due to id = NaN\n",
      "skipping diseases for 159 due to id = NaN\n",
      "skipping diseases for 160 due to id = NaN\n",
      "skipping geographicOrigin for 162 due to id = NaN\n",
      "skipping diseases for 162 due to id = NaN\n",
      "skipping geographicOrigin for 163 due to id = NaN\n",
      "skipping ethnicity for 167 due to id = NaN\n",
      "skipping ethnicity for 168 due to id = NaN\n",
      "skipping geographicOrigin for 168 due to id = NaN\n",
      "skipping geographicOrigin for 170 due to id = NaN\n",
      "skipping ethnicity for 171 due to id = NaN\n",
      "skipping diseases for 171 due to id = NaN\n",
      "skipping diseases for 173 due to id = NaN\n",
      "skipping diseases for 174 due to id = NaN\n",
      "skipping geographicOrigin for 175 due to id = NaN\n",
      "skipping diseases for 176 due to id = NaN\n",
      "skipping geographicOrigin for 178 due to id = NaN\n",
      "skipping geographicOrigin for 179 due to id = NaN\n",
      "skipping ethnicity for 181 due to id = NaN\n",
      "skipping geographicOrigin for 181 due to id = NaN\n",
      "skipping ethnicity for 182 due to id = NaN\n",
      "skipping geographicOrigin for 182 due to id = NaN\n",
      "skipping diseases for 184 due to id = NaN\n",
      "skipping geographicOrigin for 186 due to id = NaN\n",
      "skipping geographicOrigin for 187 due to id = NaN\n",
      "skipping diseases for 187 due to id = NaN\n",
      "skipping geographicOrigin for 188 due to id = NaN\n",
      "skipping geographicOrigin for 189 due to id = NaN\n",
      "skipping ethnicity for 190 due to id = NaN\n",
      "skipping diseases for 190 due to id = NaN\n",
      "skipping geographicOrigin for 191 due to id = NaN\n",
      "skipping diseases for 191 due to id = NaN\n",
      "skipping geographicOrigin for 192 due to id = NaN\n",
      "skipping diseases for 193 due to id = NaN\n",
      "skipping geographicOrigin for 195 due to id = NaN\n",
      "skipping diseases for 198 due to id = NaN\n",
      "skipping geographicOrigin for 201 due to id = NaN\n",
      "skipping diseases for 201 due to id = NaN\n",
      "skipping geographicOrigin for 203 due to id = NaN\n",
      "skipping diseases for 203 due to id = NaN\n",
      "skipping ethnicity for 206 due to id = NaN\n",
      "skipping geographicOrigin for 206 due to id = NaN\n",
      "skipping diseases for 208 due to id = NaN\n",
      "skipping diseases for 209 due to id = NaN\n",
      "skipping geographicOrigin for 210 due to id = NaN\n",
      "skipping geographicOrigin for 212 due to id = NaN\n",
      "skipping diseases for 212 due to id = NaN\n",
      "skipping diseases for 213 due to id = NaN\n",
      "skipping geographicOrigin for 214 due to id = NaN\n",
      "skipping geographicOrigin for 215 due to id = NaN\n",
      "skipping ethnicity for 217 due to id = NaN\n",
      "skipping diseases for 217 due to id = NaN\n",
      "skipping geographicOrigin for 218 due to id = NaN\n",
      "skipping diseases for 219 due to id = NaN\n",
      "skipping geographicOrigin for 221 due to id = NaN\n",
      "skipping diseases for 221 due to id = NaN\n",
      "skipping geographicOrigin for 223 due to id = NaN\n",
      "skipping diseases for 223 due to id = NaN\n",
      "skipping ethnicity for 224 due to id = NaN\n",
      "skipping diseases for 224 due to id = NaN\n",
      "skipping diseases for 225 due to id = NaN\n",
      "skipping geographicOrigin for 227 due to id = NaN\n",
      "skipping diseases for 227 due to id = NaN\n",
      "skipping diseases for 228 due to id = NaN\n",
      "skipping diseases for 229 due to id = NaN\n",
      "skipping geographicOrigin for 232 due to id = NaN\n",
      "skipping diseases for 233 due to id = NaN\n",
      "skipping geographicOrigin for 234 due to id = NaN\n",
      "skipping diseases for 235 due to id = NaN\n",
      "skipping geographicOrigin for 237 due to id = NaN\n",
      "skipping diseases for 238 due to id = NaN\n",
      "skipping ethnicity for 239 due to id = NaN\n",
      "skipping diseases for 239 due to id = NaN\n",
      "skipping geographicOrigin for 240 due to id = NaN\n",
      "skipping ethnicity for 241 due to id = NaN\n",
      "skipping geographicOrigin for 241 due to id = NaN\n",
      "skipping diseases for 241 due to id = NaN\n",
      "skipping geographicOrigin for 242 due to id = NaN\n",
      "skipping diseases for 244 due to id = NaN\n",
      "skipping geographicOrigin for 246 due to id = NaN\n",
      "skipping diseases for 246 due to id = NaN\n",
      "skipping diseases for 247 due to id = NaN\n",
      "skipping diseases for 248 due to id = NaN\n",
      "skipping diseases for 250 due to id = NaN\n",
      "skipping diseases for 251 due to id = NaN\n",
      "skipping ethnicity for 253 due to id = NaN\n",
      "skipping geographicOrigin for 253 due to id = NaN\n",
      "skipping geographicOrigin for 255 due to id = NaN\n",
      "skipping diseases for 255 due to id = NaN\n",
      "skipping diseases for 256 due to id = NaN\n",
      "skipping diseases for 260 due to id = NaN\n",
      "skipping geographicOrigin for 262 due to id = NaN\n",
      "skipping diseases for 262 due to id = NaN\n",
      "skipping geographicOrigin for 267 due to id = NaN\n",
      "skipping diseases for 267 due to id = NaN\n",
      "skipping geographicOrigin for 270 due to id = NaN\n",
      "skipping ethnicity for 271 due to id = NaN\n",
      "skipping geographicOrigin for 271 due to id = NaN\n",
      "skipping geographicOrigin for 272 due to id = NaN\n",
      "skipping geographicOrigin for 273 due to id = NaN\n",
      "skipping ethnicity for 274 due to id = NaN\n",
      "skipping geographicOrigin for 274 due to id = NaN\n",
      "skipping geographicOrigin for 276 due to id = NaN\n",
      "skipping geographicOrigin for 277 due to id = NaN\n",
      "skipping diseases for 277 due to id = NaN\n",
      "skipping ethnicity for 278 due to id = NaN\n",
      "skipping geographicOrigin for 278 due to id = NaN\n",
      "skipping ethnicity for 280 due to id = NaN\n",
      "skipping geographicOrigin for 280 due to id = NaN\n",
      "skipping diseases for 280 due to id = NaN\n",
      "skipping geographicOrigin for 281 due to id = NaN\n",
      "skipping diseases for 281 due to id = NaN\n",
      "skipping diseases for 282 due to id = NaN\n",
      "skipping geographicOrigin for 283 due to id = NaN\n",
      "skipping ethnicity for 284 due to id = NaN\n",
      "skipping geographicOrigin for 284 due to id = NaN\n",
      "skipping diseases for 284 due to id = NaN\n",
      "skipping diseases for 286 due to id = NaN\n",
      "skipping geographicOrigin for 289 due to id = NaN\n",
      "skipping geographicOrigin for 290 due to id = NaN\n",
      "skipping geographicOrigin for 294 due to id = NaN\n",
      "skipping diseases for 297 due to id = NaN\n",
      "skipping diseases for 300 due to id = NaN\n",
      "skipping diseases for 301 due to id = NaN\n",
      "skipping geographicOrigin for 302 due to id = NaN\n",
      "skipping geographicOrigin for 307 due to id = NaN\n",
      "skipping geographicOrigin for 310 due to id = NaN\n",
      "skipping diseases for 310 due to id = NaN\n",
      "skipping ethnicity for 312 due to id = NaN\n",
      "skipping geographicOrigin for 312 due to id = NaN\n",
      "skipping geographicOrigin for 313 due to id = NaN\n",
      "skipping geographicOrigin for 315 due to id = NaN\n",
      "skipping diseases for 317 due to id = NaN\n",
      "skipping diseases for 319 due to id = NaN\n",
      "skipping geographicOrigin for 323 due to id = NaN\n",
      "skipping diseases for 323 due to id = NaN\n",
      "skipping geographicOrigin for 325 due to id = NaN\n",
      "skipping geographicOrigin for 326 due to id = NaN\n",
      "skipping diseases for 326 due to id = NaN\n",
      "skipping geographicOrigin for 329 due to id = NaN\n",
      "skipping ethnicity for 330 due to id = NaN\n",
      "skipping diseases for 331 due to id = NaN\n",
      "skipping geographicOrigin for 332 due to id = NaN\n",
      "skipping diseases for 332 due to id = NaN\n",
      "skipping ethnicity for 333 due to id = NaN\n",
      "skipping geographicOrigin for 334 due to id = NaN\n",
      "skipping ethnicity for 335 due to id = NaN\n",
      "skipping ethnicity for 337 due to id = NaN\n",
      "skipping geographicOrigin for 337 due to id = NaN\n",
      "skipping ethnicity for 338 due to id = NaN\n",
      "skipping geographicOrigin for 338 due to id = NaN\n",
      "skipping geographicOrigin for 341 due to id = NaN\n",
      "skipping geographicOrigin for 342 due to id = NaN\n",
      "skipping geographicOrigin for 343 due to id = NaN\n",
      "skipping diseases for 345 due to id = NaN\n",
      "skipping geographicOrigin for 346 due to id = NaN\n",
      "skipping geographicOrigin for 347 due to id = NaN\n",
      "skipping geographicOrigin for 348 due to id = NaN\n",
      "skipping geographicOrigin for 349 due to id = NaN\n",
      "skipping diseases for 351 due to id = NaN\n",
      "skipping ethnicity for 352 due to id = NaN\n",
      "skipping geographicOrigin for 352 due to id = NaN\n",
      "skipping diseases for 352 due to id = NaN\n",
      "skipping geographicOrigin for 354 due to id = NaN\n",
      "skipping diseases for 356 due to id = NaN\n",
      "skipping diseases for 357 due to id = NaN\n",
      "skipping ethnicity for 358 due to id = NaN\n",
      "skipping geographicOrigin for 358 due to id = NaN\n",
      "skipping geographicOrigin for 359 due to id = NaN\n",
      "skipping diseases for 359 due to id = NaN\n",
      "skipping geographicOrigin for 361 due to id = NaN\n",
      "skipping geographicOrigin for 362 due to id = NaN\n",
      "skipping diseases for 362 due to id = NaN\n",
      "skipping geographicOrigin for 363 due to id = NaN\n",
      "skipping diseases for 365 due to id = NaN\n",
      "skipping geographicOrigin for 366 due to id = NaN\n",
      "skipping diseases for 366 due to id = NaN\n",
      "skipping diseases for 367 due to id = NaN\n",
      "skipping geographicOrigin for 368 due to id = NaN\n",
      "skipping geographicOrigin for 369 due to id = NaN\n",
      "skipping ethnicity for 370 due to id = NaN\n",
      "skipping geographicOrigin for 371 due to id = NaN\n",
      "skipping diseases for 373 due to id = NaN\n",
      "skipping diseases for 374 due to id = NaN\n",
      "skipping diseases for 377 due to id = NaN\n",
      "skipping geographicOrigin for 378 due to id = NaN\n",
      "skipping diseases for 380 due to id = NaN\n",
      "skipping geographicOrigin for 381 due to id = NaN\n",
      "skipping geographicOrigin for 383 due to id = NaN\n",
      "skipping diseases for 385 due to id = NaN\n",
      "skipping diseases for 387 due to id = NaN\n",
      "skipping diseases for 389 due to id = NaN\n",
      "skipping diseases for 390 due to id = NaN\n",
      "skipping geographicOrigin for 391 due to id = NaN\n",
      "skipping diseases for 393 due to id = NaN\n",
      "skipping geographicOrigin for 394 due to id = NaN\n",
      "skipping diseases for 394 due to id = NaN\n",
      "skipping geographicOrigin for 396 due to id = NaN\n",
      "skipping diseases for 397 due to id = NaN\n",
      "skipping geographicOrigin for 398 due to id = NaN\n",
      "skipping geographicOrigin for 399 due to id = NaN\n",
      "skipping diseases for 400 due to id = NaN\n",
      "skipping ethnicity for 403 due to id = NaN\n",
      "skipping diseases for 403 due to id = NaN\n",
      "skipping geographicOrigin for 404 due to id = NaN\n",
      "skipping geographicOrigin for 406 due to id = NaN\n",
      "skipping diseases for 406 due to id = NaN\n",
      "skipping diseases for 409 due to id = NaN\n",
      "skipping geographicOrigin for 410 due to id = NaN\n",
      "skipping geographicOrigin for 411 due to id = NaN\n",
      "skipping geographicOrigin for 414 due to id = NaN\n",
      "skipping diseases for 414 due to id = NaN\n",
      "skipping geographicOrigin for 415 due to id = NaN\n",
      "skipping geographicOrigin for 416 due to id = NaN\n",
      "skipping diseases for 417 due to id = NaN\n",
      "skipping geographicOrigin for 419 due to id = NaN\n",
      "skipping geographicOrigin for 422 due to id = NaN\n",
      "skipping ethnicity for 424 due to id = NaN\n",
      "skipping geographicOrigin for 424 due to id = NaN\n",
      "skipping geographicOrigin for 426 due to id = NaN\n",
      "skipping diseases for 428 due to id = NaN\n",
      "skipping diseases for 429 due to id = NaN\n",
      "skipping ethnicity for 431 due to id = NaN\n",
      "skipping geographicOrigin for 432 due to id = NaN\n",
      "skipping geographicOrigin for 434 due to id = NaN\n",
      "skipping geographicOrigin for 435 due to id = NaN\n",
      "skipping geographicOrigin for 436 due to id = NaN\n",
      "skipping diseases for 436 due to id = NaN\n",
      "skipping ethnicity for 442 due to id = NaN\n",
      "skipping geographicOrigin for 442 due to id = NaN\n",
      "skipping geographicOrigin for 443 due to id = NaN\n",
      "skipping geographicOrigin for 444 due to id = NaN\n",
      "skipping diseases for 444 due to id = NaN\n",
      "skipping diseases for 445 due to id = NaN\n",
      "skipping geographicOrigin for 446 due to id = NaN\n",
      "skipping diseases for 446 due to id = NaN\n",
      "skipping diseases for 447 due to id = NaN\n",
      "skipping ethnicity for 448 due to id = NaN\n",
      "skipping geographicOrigin for 449 due to id = NaN\n",
      "skipping geographicOrigin for 451 due to id = NaN\n",
      "skipping diseases for 451 due to id = NaN\n",
      "skipping diseases for 454 due to id = NaN\n",
      "skipping diseases for 455 due to id = NaN\n",
      "skipping geographicOrigin for 458 due to id = NaN\n",
      "skipping geographicOrigin for 461 due to id = NaN\n",
      "skipping diseases for 461 due to id = NaN\n",
      "skipping geographicOrigin for 463 due to id = NaN\n",
      "skipping geographicOrigin for 466 due to id = NaN\n",
      "skipping geographicOrigin for 468 due to id = NaN\n",
      "skipping geographicOrigin for 470 due to id = NaN\n",
      "skipping geographicOrigin for 472 due to id = NaN\n",
      "skipping diseases for 472 due to id = NaN\n",
      "skipping geographicOrigin for 473 due to id = NaN\n",
      "skipping diseases for 473 due to id = NaN\n",
      "skipping geographicOrigin for 474 due to id = NaN\n",
      "skipping diseases for 476 due to id = NaN\n",
      "skipping geographicOrigin for 477 due to id = NaN\n",
      "skipping diseases for 477 due to id = NaN\n",
      "skipping geographicOrigin for 478 due to id = NaN\n",
      "skipping diseases for 478 due to id = NaN\n",
      "skipping diseases for 483 due to id = NaN\n",
      "skipping geographicOrigin for 486 due to id = NaN\n",
      "skipping geographicOrigin for 487 due to id = NaN\n",
      "skipping diseases for 487 due to id = NaN\n",
      "skipping geographicOrigin for 492 due to id = NaN\n",
      "skipping diseases for 492 due to id = NaN\n",
      "skipping diseases for 494 due to id = NaN\n",
      "skipping diseases for 495 due to id = NaN\n"
     ]
    }
   ],
   "source": [
    "# add individuals\n",
    "for idx, row in df.iterrows():\n",
    "#for idx, row in df.head(1).iterrows():\n",
    "    # print(row)\n",
    "    individual = {}\n",
    "    individual.update(id=row['id'])\n",
    "    \n",
    "    individual.update(sex={\n",
    "        'id': row['sex.id'],\n",
    "        'label': row['sex.label']\n",
    "    })\n",
    "\n",
    "    if not isinstance(row['ethnicity.id'], float):\n",
    "        individual.update(ethnicity={\n",
    "            'id': row['ethnicity.id'],\n",
    "            'label': row['ethnicity.label']\n",
    "        })\n",
    "    else:\n",
    "        print(f\"skipping ethnicity for {idx} due to id = NaN\")\n",
    "\n",
    "    if not isinstance(row['geographicOrigin.id'], float):\n",
    "        individual.update(geographicOrigin={\n",
    "            'id': row['geographicOrigin.id'],\n",
    "            'label': row['geographicOrigin.label']\n",
    "        })\n",
    "    else:\n",
    "        print(f\"skipping geographicOrigin for {idx} due to id = NaN\")\n",
    "    \n",
    "    if not isinstance(row['diseases_diseaseCode.id'], float):\n",
    "        diseases_id_array = row['diseases_diseaseCode.id'].split(\",\")\n",
    "        diseases_label_array = row['diseases_diseaseCode.label'].split(\",\")\n",
    "        # assuming arrays have same length\n",
    "        assert len(diseases_id_array) == len(diseases_label_array), \"disease code and label don't match\"\n",
    "\n",
    "        diseases = []\n",
    "        for index, val in enumerate(diseases_id_array):\n",
    "            id_ = diseases_id_array[index]\n",
    "            label = diseases_label_array[index]\n",
    "            disease_code = {\n",
    "                \"id\": id_,\n",
    "                \"label\": label\n",
    "            }\n",
    "            disease = {}\n",
    "            disease.update(diseaseCode=disease_code)\n",
    "            diseases.append(disease)\n",
    "        if len(diseases) > 0:\n",
    "            individual.update(diseases=diseases)\n",
    "    else:\n",
    "        print(f\"skipping diseases for {idx} due to id = NaN\")\n",
    "        \n",
    "    if not isinstance(row['measures_assayCode.id'], float):\n",
    "        measures_assay_id_array = row['measures_assayCode.id'].split(\",\")\n",
    "        measures_assay_label_array = row['measures_assayCode.label'].split(\",\")\n",
    "        measures_date_array = row['measures_date'].split(\",\")\n",
    "        measures_measurementValue = ast.literal_eval(row['measures_measurementValue'])\n",
    "        # assuming arrays have same length\n",
    "        assert len(measures_date_array) == len(measures_measurementValue) == len(measures_assay_id_array) == len(measures_assay_label_array), \"measure assay code and label don't match\"\n",
    "\n",
    "        measures = []\n",
    "        for index, val in enumerate(measures_assay_id_array):\n",
    "            assay_code = {\n",
    "                'id': measures_assay_id_array[index],\n",
    "                'label': measures_assay_label_array[index]\n",
    "                }\n",
    "            measure = {}\n",
    "            measure.update(assayCode=assay_code)\n",
    "            measure.update(date=measures_date_array[index])\n",
    "            measure.update(measurementValue=measures_measurementValue[index])\n",
    "            measures.append(measure)\n",
    "        if len(measures) > 0:\n",
    "            individual.update(measures=measures)\n",
    "    else:\n",
    "        print(f\"skipping measures for {idx} due to id = NaN\")\n",
    "    \n",
    "    # add individual to dataset\n",
    "    submission_json[\"individuals\"].append(individual)\n",
    "    "
   ]
  },
  {
   "cell_type": "code",
   "execution_count": null,
   "metadata": {
    "application/vnd.databricks.v1+cell": {
     "cellMetadata": {},
     "inputWidgets": {},
     "nuid": "dbdec490-4167-47df-bb79-0e340c945476",
     "showTitle": false,
     "title": ""
    }
   },
   "outputs": [],
   "source": [
    "df_bs = pd.read_excel(excel_path, sheet_name='biosamples')"
   ]
  },
  {
   "cell_type": "code",
   "execution_count": 19,
   "metadata": {
    "application/vnd.databricks.v1+cell": {
     "cellMetadata": {},
     "inputWidgets": {},
     "nuid": "ef085158-42c1-417e-8572-feb008655cca",
     "showTitle": false,
     "title": ""
    },
    "ExecuteTime": {
     "end_time": "2023-07-05T07:45:31.307943Z",
     "start_time": "2023-07-05T07:45:31.296011Z"
    }
   },
   "outputs": [
    {
     "data": {
      "text/plain": "    biosampleStatus.id biosampleStatus.label collectionDate collectionMoment  \\\n0          EFO:0009654      reference sample     2020-09-11         P40Y1M1D   \n1          EFO:0009654      reference sample     2020-09-11         P40Y1M1D   \n2          EFO:0009654      reference sample     2020-09-11         P40Y1M1D   \n3          EFO:0009654      reference sample     2020-09-11         P40Y1M1D   \n4          EFO:0009654      reference sample     2020-09-11         P40Y1M1D   \n..                 ...                   ...            ...              ...   \n495        EFO:0009654      reference sample     2020-09-11         P40Y1M1D   \n496        EFO:0009654      reference sample     2020-09-11         P40Y1M1D   \n497        EFO:0009654      reference sample     2020-09-11         P40Y1M1D   \n498        EFO:0009654      reference sample     2020-09-11         P40Y1M1D   \n499        EFO:0009654      reference sample     2020-09-11         P40Y1M1D   \n\n     diagnosticMarkers_id  diagnosticMarkers_label  histologicalDiagnosis.id  \\\n0                     NaN                      NaN                       NaN   \n1                     NaN                      NaN                       NaN   \n2                     NaN                      NaN                       NaN   \n3                     NaN                      NaN                       NaN   \n4                     NaN                      NaN                       NaN   \n..                    ...                      ...                       ...   \n495                   NaN                      NaN                       NaN   \n496                   NaN                      NaN                       NaN   \n497                   NaN                      NaN                       NaN   \n498                   NaN                      NaN                       NaN   \n499                   NaN                      NaN                       NaN   \n\n     histologicalDiagnosis.label       id individualId  ...  \\\n0                            NaN  HG03872      HG03872  ...   \n1                            NaN  HG03873      HG03873  ...   \n2                            NaN  HG03874      HG03874  ...   \n3                            NaN  HG03875      HG03875  ...   \n4                            NaN  HG03882      HG03882  ...   \n..                           ...      ...          ...  ...   \n495                          NaN  NA19055      NA19055  ...   \n496                          NaN  NA19056      NA19056  ...   \n497                          NaN  NA19057      NA19057  ...   \n498                          NaN  NA19058      NA19058  ...   \n499                          NaN  NA19059      NA19059  ...   \n\n    sampleOriginType.id sampleOriginType.label sampleProcessing.id  \\\n0        UBERON:0000178                  blood                 NaN   \n1        UBERON:0000178                  blood                 NaN   \n2        UBERON:0000178                  blood                 NaN   \n3        UBERON:0000178                  blood                 NaN   \n4        UBERON:0000178                  blood                 NaN   \n..                  ...                    ...                 ...   \n495      UBERON:0000178                  blood                 NaN   \n496      UBERON:0000178                  blood                 NaN   \n497      UBERON:0000178                  blood                 NaN   \n498      UBERON:0000178                  blood                 NaN   \n499      UBERON:0000178                  blood                 NaN   \n\n    sampleProcessing.label sampleStorage.id  sampleStorage.label  \\\n0                      NaN              NaN                  NaN   \n1                      NaN              NaN                  NaN   \n2                      NaN              NaN                  NaN   \n3                      NaN              NaN                  NaN   \n4                      NaN              NaN                  NaN   \n..                     ...              ...                  ...   \n495                    NaN              NaN                  NaN   \n496                    NaN              NaN                  NaN   \n497                    NaN              NaN                  NaN   \n498                    NaN              NaN                  NaN   \n499                    NaN              NaN                  NaN   \n\n     tumorGrade.id  tumorGrade.label  tumorProgression.id  \\\n0              NaN               NaN                  NaN   \n1              NaN               NaN                  NaN   \n2              NaN               NaN                  NaN   \n3              NaN               NaN                  NaN   \n4              NaN               NaN                  NaN   \n..             ...               ...                  ...   \n495            NaN               NaN                  NaN   \n496            NaN               NaN                  NaN   \n497            NaN               NaN                  NaN   \n498            NaN               NaN                  NaN   \n499            NaN               NaN                  NaN   \n\n     tumorProgression.label  \n0                       NaN  \n1                       NaN  \n2                       NaN  \n3                       NaN  \n4                       NaN  \n..                      ...  \n495                     NaN  \n496                     NaN  \n497                     NaN  \n498                     NaN  \n499                     NaN  \n\n[500 rows x 65 columns]",
      "text/html": "<div>\n<style scoped>\n    .dataframe tbody tr th:only-of-type {\n        vertical-align: middle;\n    }\n\n    .dataframe tbody tr th {\n        vertical-align: top;\n    }\n\n    .dataframe thead th {\n        text-align: right;\n    }\n</style>\n<table border=\"1\" class=\"dataframe\">\n  <thead>\n    <tr style=\"text-align: right;\">\n      <th></th>\n      <th>biosampleStatus.id</th>\n      <th>biosampleStatus.label</th>\n      <th>collectionDate</th>\n      <th>collectionMoment</th>\n      <th>diagnosticMarkers_id</th>\n      <th>diagnosticMarkers_label</th>\n      <th>histologicalDiagnosis.id</th>\n      <th>histologicalDiagnosis.label</th>\n      <th>id</th>\n      <th>individualId</th>\n      <th>...</th>\n      <th>sampleOriginType.id</th>\n      <th>sampleOriginType.label</th>\n      <th>sampleProcessing.id</th>\n      <th>sampleProcessing.label</th>\n      <th>sampleStorage.id</th>\n      <th>sampleStorage.label</th>\n      <th>tumorGrade.id</th>\n      <th>tumorGrade.label</th>\n      <th>tumorProgression.id</th>\n      <th>tumorProgression.label</th>\n    </tr>\n  </thead>\n  <tbody>\n    <tr>\n      <th>0</th>\n      <td>EFO:0009654</td>\n      <td>reference sample</td>\n      <td>2020-09-11</td>\n      <td>P40Y1M1D</td>\n      <td>NaN</td>\n      <td>NaN</td>\n      <td>NaN</td>\n      <td>NaN</td>\n      <td>HG03872</td>\n      <td>HG03872</td>\n      <td>...</td>\n      <td>UBERON:0000178</td>\n      <td>blood</td>\n      <td>NaN</td>\n      <td>NaN</td>\n      <td>NaN</td>\n      <td>NaN</td>\n      <td>NaN</td>\n      <td>NaN</td>\n      <td>NaN</td>\n      <td>NaN</td>\n    </tr>\n    <tr>\n      <th>1</th>\n      <td>EFO:0009654</td>\n      <td>reference sample</td>\n      <td>2020-09-11</td>\n      <td>P40Y1M1D</td>\n      <td>NaN</td>\n      <td>NaN</td>\n      <td>NaN</td>\n      <td>NaN</td>\n      <td>HG03873</td>\n      <td>HG03873</td>\n      <td>...</td>\n      <td>UBERON:0000178</td>\n      <td>blood</td>\n      <td>NaN</td>\n      <td>NaN</td>\n      <td>NaN</td>\n      <td>NaN</td>\n      <td>NaN</td>\n      <td>NaN</td>\n      <td>NaN</td>\n      <td>NaN</td>\n    </tr>\n    <tr>\n      <th>2</th>\n      <td>EFO:0009654</td>\n      <td>reference sample</td>\n      <td>2020-09-11</td>\n      <td>P40Y1M1D</td>\n      <td>NaN</td>\n      <td>NaN</td>\n      <td>NaN</td>\n      <td>NaN</td>\n      <td>HG03874</td>\n      <td>HG03874</td>\n      <td>...</td>\n      <td>UBERON:0000178</td>\n      <td>blood</td>\n      <td>NaN</td>\n      <td>NaN</td>\n      <td>NaN</td>\n      <td>NaN</td>\n      <td>NaN</td>\n      <td>NaN</td>\n      <td>NaN</td>\n      <td>NaN</td>\n    </tr>\n    <tr>\n      <th>3</th>\n      <td>EFO:0009654</td>\n      <td>reference sample</td>\n      <td>2020-09-11</td>\n      <td>P40Y1M1D</td>\n      <td>NaN</td>\n      <td>NaN</td>\n      <td>NaN</td>\n      <td>NaN</td>\n      <td>HG03875</td>\n      <td>HG03875</td>\n      <td>...</td>\n      <td>UBERON:0000178</td>\n      <td>blood</td>\n      <td>NaN</td>\n      <td>NaN</td>\n      <td>NaN</td>\n      <td>NaN</td>\n      <td>NaN</td>\n      <td>NaN</td>\n      <td>NaN</td>\n      <td>NaN</td>\n    </tr>\n    <tr>\n      <th>4</th>\n      <td>EFO:0009654</td>\n      <td>reference sample</td>\n      <td>2020-09-11</td>\n      <td>P40Y1M1D</td>\n      <td>NaN</td>\n      <td>NaN</td>\n      <td>NaN</td>\n      <td>NaN</td>\n      <td>HG03882</td>\n      <td>HG03882</td>\n      <td>...</td>\n      <td>UBERON:0000178</td>\n      <td>blood</td>\n      <td>NaN</td>\n      <td>NaN</td>\n      <td>NaN</td>\n      <td>NaN</td>\n      <td>NaN</td>\n      <td>NaN</td>\n      <td>NaN</td>\n      <td>NaN</td>\n    </tr>\n    <tr>\n      <th>...</th>\n      <td>...</td>\n      <td>...</td>\n      <td>...</td>\n      <td>...</td>\n      <td>...</td>\n      <td>...</td>\n      <td>...</td>\n      <td>...</td>\n      <td>...</td>\n      <td>...</td>\n      <td>...</td>\n      <td>...</td>\n      <td>...</td>\n      <td>...</td>\n      <td>...</td>\n      <td>...</td>\n      <td>...</td>\n      <td>...</td>\n      <td>...</td>\n      <td>...</td>\n      <td>...</td>\n    </tr>\n    <tr>\n      <th>495</th>\n      <td>EFO:0009654</td>\n      <td>reference sample</td>\n      <td>2020-09-11</td>\n      <td>P40Y1M1D</td>\n      <td>NaN</td>\n      <td>NaN</td>\n      <td>NaN</td>\n      <td>NaN</td>\n      <td>NA19055</td>\n      <td>NA19055</td>\n      <td>...</td>\n      <td>UBERON:0000178</td>\n      <td>blood</td>\n      <td>NaN</td>\n      <td>NaN</td>\n      <td>NaN</td>\n      <td>NaN</td>\n      <td>NaN</td>\n      <td>NaN</td>\n      <td>NaN</td>\n      <td>NaN</td>\n    </tr>\n    <tr>\n      <th>496</th>\n      <td>EFO:0009654</td>\n      <td>reference sample</td>\n      <td>2020-09-11</td>\n      <td>P40Y1M1D</td>\n      <td>NaN</td>\n      <td>NaN</td>\n      <td>NaN</td>\n      <td>NaN</td>\n      <td>NA19056</td>\n      <td>NA19056</td>\n      <td>...</td>\n      <td>UBERON:0000178</td>\n      <td>blood</td>\n      <td>NaN</td>\n      <td>NaN</td>\n      <td>NaN</td>\n      <td>NaN</td>\n      <td>NaN</td>\n      <td>NaN</td>\n      <td>NaN</td>\n      <td>NaN</td>\n    </tr>\n    <tr>\n      <th>497</th>\n      <td>EFO:0009654</td>\n      <td>reference sample</td>\n      <td>2020-09-11</td>\n      <td>P40Y1M1D</td>\n      <td>NaN</td>\n      <td>NaN</td>\n      <td>NaN</td>\n      <td>NaN</td>\n      <td>NA19057</td>\n      <td>NA19057</td>\n      <td>...</td>\n      <td>UBERON:0000178</td>\n      <td>blood</td>\n      <td>NaN</td>\n      <td>NaN</td>\n      <td>NaN</td>\n      <td>NaN</td>\n      <td>NaN</td>\n      <td>NaN</td>\n      <td>NaN</td>\n      <td>NaN</td>\n    </tr>\n    <tr>\n      <th>498</th>\n      <td>EFO:0009654</td>\n      <td>reference sample</td>\n      <td>2020-09-11</td>\n      <td>P40Y1M1D</td>\n      <td>NaN</td>\n      <td>NaN</td>\n      <td>NaN</td>\n      <td>NaN</td>\n      <td>NA19058</td>\n      <td>NA19058</td>\n      <td>...</td>\n      <td>UBERON:0000178</td>\n      <td>blood</td>\n      <td>NaN</td>\n      <td>NaN</td>\n      <td>NaN</td>\n      <td>NaN</td>\n      <td>NaN</td>\n      <td>NaN</td>\n      <td>NaN</td>\n      <td>NaN</td>\n    </tr>\n    <tr>\n      <th>499</th>\n      <td>EFO:0009654</td>\n      <td>reference sample</td>\n      <td>2020-09-11</td>\n      <td>P40Y1M1D</td>\n      <td>NaN</td>\n      <td>NaN</td>\n      <td>NaN</td>\n      <td>NaN</td>\n      <td>NA19059</td>\n      <td>NA19059</td>\n      <td>...</td>\n      <td>UBERON:0000178</td>\n      <td>blood</td>\n      <td>NaN</td>\n      <td>NaN</td>\n      <td>NaN</td>\n      <td>NaN</td>\n      <td>NaN</td>\n      <td>NaN</td>\n      <td>NaN</td>\n      <td>NaN</td>\n    </tr>\n  </tbody>\n</table>\n<p>500 rows × 65 columns</p>\n</div>"
     },
     "execution_count": 19,
     "metadata": {},
     "output_type": "execute_result"
    }
   ],
   "source": [
    "df_bs"
   ]
  },
  {
   "cell_type": "code",
   "execution_count": 20,
   "metadata": {
    "application/vnd.databricks.v1+cell": {
     "cellMetadata": {},
     "inputWidgets": {},
     "nuid": "bb5f5149-d203-427f-b95c-a0648a6231d7",
     "showTitle": false,
     "title": ""
    },
    "ExecuteTime": {
     "end_time": "2023-07-05T07:45:32.393901Z",
     "start_time": "2023-07-05T07:45:32.387571Z"
    }
   },
   "outputs": [
    {
     "data": {
      "text/plain": "Index(['biosampleStatus.id', 'biosampleStatus.label', 'collectionDate',\n       'collectionMoment', 'diagnosticMarkers_id', 'diagnosticMarkers_label',\n       'histologicalDiagnosis.id', 'histologicalDiagnosis.label', 'id',\n       'individualId', 'info.BioSamples.accession',\n       'info.BioSamples.externalUrl', 'info.characteristics',\n       'info.EGAsampleId', 'info.sampleName', 'info.taxId',\n       'measurements_assayCode.id', 'measurements_assayCode.label',\n       'measurements_date', 'measurements_measurementValue',\n       'measurements_notes', 'measurements_observationMoment',\n       'measurements_procedure.ageAtProcedure',\n       'measurements_procedure.bodySite.id',\n       'measurements_procedure.bodySite.label',\n       'measurements_procedure.dateOfProcedure',\n       'measurements_procedure.procedureCode.id',\n       'measurements_procedure.procedureCode.label', 'notes',\n       'obtentionProcedure.ageAtProcedure', 'obtentionProcedure.bodySite.id',\n       'obtentionProcedure.bodySite.label',\n       'obtentionProcedure.dateOfProcedure',\n       'obtentionProcedure.procedureCode.id',\n       'obtentionProcedure.procedureCode.label', 'pathologicalStage.id',\n       'pathologicalStage.label', 'pathologicalTnmFinding_id',\n       'pathologicalTnmFinding_label',\n       'phenotypicFeatures_evidence.evidenceCode.id',\n       'phenotypicFeatures_evidence.evidenceCode.label',\n       'phenotypicFeatures_evidence.reference.id',\n       'phenotypicFeatures_evidence.reference.notes',\n       'phenotypicFeatures_evidence.reference.reference',\n       'phenotypicFeatures_excluded', 'phenotypicFeatures_featureType.id',\n       'phenotypicFeatures_featureType.label', 'phenotypicFeatures_modifiers',\n       'phenotypicFeatures_notes', 'phenotypicFeatures_onset',\n       'phenotypicFeatures_resolution', 'phenotypicFeatures_severity.id',\n       'phenotypicFeatures_severity.label', 'sampleOriginDetail.id',\n       'sampleOriginDetail.label', 'sampleOriginType.id',\n       'sampleOriginType.label', 'sampleProcessing.id',\n       'sampleProcessing.label', 'sampleStorage.id', 'sampleStorage.label',\n       'tumorGrade.id', 'tumorGrade.label', 'tumorProgression.id',\n       'tumorProgression.label'],\n      dtype='object')"
     },
     "execution_count": 20,
     "metadata": {},
     "output_type": "execute_result"
    }
   ],
   "source": [
    "df_bs.columns"
   ]
  },
  {
   "cell_type": "code",
   "execution_count": 21,
   "metadata": {
    "application/vnd.databricks.v1+cell": {
     "cellMetadata": {},
     "inputWidgets": {},
     "nuid": "5badea52-c4f4-4d47-949f-e6d8a09246db",
     "showTitle": false,
     "title": ""
    },
    "ExecuteTime": {
     "end_time": "2023-07-05T07:45:35.208052Z",
     "start_time": "2023-07-05T07:45:35.202933Z"
    }
   },
   "outputs": [],
   "source": [
    "# add biosamples\n",
    "# randomly generate ages for some variety, based on BioBank min age 37 max age 73\n",
    "# adds blood draw and frozen specimen curations\n",
    "for idx, row in df_bs.iterrows():\n",
    "#for idx, row in df.head(1).iterrows():\n",
    "    # print(row)\n",
    "    \n",
    "    biosample = {}\n",
    "    biosample.update(id=row['id'])\n",
    "    biosample.update(individualId=row['id'])\n",
    "    # biosample.update(sampleName=row['info.sampleName'])\n",
    "    biosample.update(collectionDate=row['collectionDate'])\n",
    "    biosample.update(collectionMoment=f'P{random.randint(37,73)}Y')\n",
    "    biosample.update(sampleStorage={\n",
    "        'id': 'OBI:0000922',\n",
    "        'label': 'frozen specimen'})\n",
    "    biosample.update(obtentionProcedure={\n",
    "        'procedureCode': {'label': 'blood draw',\n",
    "                          'id': 'EFO:0009121'}})\n",
    "    \n",
    "    if not isinstance(row['biosampleStatus.id'], float):\n",
    "        biosample.update(biosampleStatus={\n",
    "            'id': row['biosampleStatus.id'],\n",
    "            'label': row['biosampleStatus.label']\n",
    "        })\n",
    "    else:\n",
    "        print(f\"ERROR: biosampleStatus for {idx} id = NaN\")\n",
    "        \n",
    "    if not isinstance(row['sampleOriginType.id'], float):\n",
    "        biosample.update(sampleOriginType={\n",
    "            'id': row['sampleOriginType.id'],\n",
    "            'label': row['sampleOriginType.label']\n",
    "        })\n",
    "    else:\n",
    "        print(f\"ERROR: sampleOriginType for {idx} id = NaN\")\n",
    "\n",
    "    submission_json[\"biosamples\"].append(biosample)\n",
    "\n"
   ]
  },
  {
   "cell_type": "code",
   "execution_count": null,
   "metadata": {
    "application/vnd.databricks.v1+cell": {
     "cellMetadata": {},
     "inputWidgets": {},
     "nuid": "72df9b26-5b5c-4096-9832-09c5d7852451",
     "showTitle": false,
     "title": ""
    }
   },
   "outputs": [],
   "source": [
    "df_an = pd.read_excel(excel_path, sheet_name='analyses')"
   ]
  },
  {
   "cell_type": "code",
   "execution_count": 23,
   "metadata": {
    "application/vnd.databricks.v1+cell": {
     "cellMetadata": {},
     "inputWidgets": {},
     "nuid": "f2649ee6-ce47-4af3-a2f9-832fece8c02d",
     "showTitle": false,
     "title": ""
    },
    "ExecuteTime": {
     "end_time": "2023-07-05T07:45:36.743254Z",
     "start_time": "2023-07-05T07:45:36.737551Z"
    }
   },
   "outputs": [
    {
     "data": {
      "text/plain": "       aligner analysisDate biosampleId                   id individualId  \\\n0    bwa-0.5.9   2015-09-30     HG03872  UK1_analysisId_1501      HG03872   \n1    bwa-0.5.9   2015-09-30     HG03873  UK1_analysisId_1502      HG03873   \n2    bwa-0.5.9   2015-09-30     HG03874  UK1_analysisId_1503      HG03874   \n3    bwa-0.5.9   2015-09-30     HG03875  UK1_analysisId_1504      HG03875   \n4    bwa-0.5.9   2015-09-30     HG03882  UK1_analysisId_1505      HG03882   \n..         ...          ...         ...                  ...          ...   \n495  bwa-0.5.9   2015-09-30     NA19055  UK1_analysisId_1996      NA19055   \n496  bwa-0.5.9   2015-09-30     NA19056  UK1_analysisId_1997      NA19056   \n497  bwa-0.5.9   2015-09-30     NA19057  UK1_analysisId_1998      NA19057   \n498  bwa-0.5.9   2015-09-30     NA19058  UK1_analysisId_1999      NA19058   \n499  bwa-0.5.9   2015-09-30     NA19059  UK1_analysisId_2000      NA19059   \n\n               pipelineName                                  pipelineRef  \\\n0    1000G-low-coverage-WGS  https://www.nature.com/articles/nature15393   \n1    1000G-low-coverage-WGS  https://www.nature.com/articles/nature15393   \n2    1000G-low-coverage-WGS  https://www.nature.com/articles/nature15393   \n3    1000G-low-coverage-WGS  https://www.nature.com/articles/nature15393   \n4    1000G-low-coverage-WGS  https://www.nature.com/articles/nature15393   \n..                      ...                                          ...   \n495  1000G-low-coverage-WGS  https://www.nature.com/articles/nature15393   \n496  1000G-low-coverage-WGS  https://www.nature.com/articles/nature15393   \n497  1000G-low-coverage-WGS  https://www.nature.com/articles/nature15393   \n498  1000G-low-coverage-WGS  https://www.nature.com/articles/nature15393   \n499  1000G-low-coverage-WGS  https://www.nature.com/articles/nature15393   \n\n           runId variantCaller  \n0    SRR00001501       GATK4.0  \n1    SRR00001502       GATK4.0  \n2    SRR00001503       GATK4.0  \n3    SRR00001504       GATK4.0  \n4    SRR00001505       GATK4.0  \n..           ...           ...  \n495  SRR00001996       GATK4.0  \n496  SRR00001997       GATK4.0  \n497  SRR00001998       GATK4.0  \n498  SRR00001999       GATK4.0  \n499  SRR00002000       GATK4.0  \n\n[500 rows x 9 columns]",
      "text/html": "<div>\n<style scoped>\n    .dataframe tbody tr th:only-of-type {\n        vertical-align: middle;\n    }\n\n    .dataframe tbody tr th {\n        vertical-align: top;\n    }\n\n    .dataframe thead th {\n        text-align: right;\n    }\n</style>\n<table border=\"1\" class=\"dataframe\">\n  <thead>\n    <tr style=\"text-align: right;\">\n      <th></th>\n      <th>aligner</th>\n      <th>analysisDate</th>\n      <th>biosampleId</th>\n      <th>id</th>\n      <th>individualId</th>\n      <th>pipelineName</th>\n      <th>pipelineRef</th>\n      <th>runId</th>\n      <th>variantCaller</th>\n    </tr>\n  </thead>\n  <tbody>\n    <tr>\n      <th>0</th>\n      <td>bwa-0.5.9</td>\n      <td>2015-09-30</td>\n      <td>HG03872</td>\n      <td>UK1_analysisId_1501</td>\n      <td>HG03872</td>\n      <td>1000G-low-coverage-WGS</td>\n      <td>https://www.nature.com/articles/nature15393</td>\n      <td>SRR00001501</td>\n      <td>GATK4.0</td>\n    </tr>\n    <tr>\n      <th>1</th>\n      <td>bwa-0.5.9</td>\n      <td>2015-09-30</td>\n      <td>HG03873</td>\n      <td>UK1_analysisId_1502</td>\n      <td>HG03873</td>\n      <td>1000G-low-coverage-WGS</td>\n      <td>https://www.nature.com/articles/nature15393</td>\n      <td>SRR00001502</td>\n      <td>GATK4.0</td>\n    </tr>\n    <tr>\n      <th>2</th>\n      <td>bwa-0.5.9</td>\n      <td>2015-09-30</td>\n      <td>HG03874</td>\n      <td>UK1_analysisId_1503</td>\n      <td>HG03874</td>\n      <td>1000G-low-coverage-WGS</td>\n      <td>https://www.nature.com/articles/nature15393</td>\n      <td>SRR00001503</td>\n      <td>GATK4.0</td>\n    </tr>\n    <tr>\n      <th>3</th>\n      <td>bwa-0.5.9</td>\n      <td>2015-09-30</td>\n      <td>HG03875</td>\n      <td>UK1_analysisId_1504</td>\n      <td>HG03875</td>\n      <td>1000G-low-coverage-WGS</td>\n      <td>https://www.nature.com/articles/nature15393</td>\n      <td>SRR00001504</td>\n      <td>GATK4.0</td>\n    </tr>\n    <tr>\n      <th>4</th>\n      <td>bwa-0.5.9</td>\n      <td>2015-09-30</td>\n      <td>HG03882</td>\n      <td>UK1_analysisId_1505</td>\n      <td>HG03882</td>\n      <td>1000G-low-coverage-WGS</td>\n      <td>https://www.nature.com/articles/nature15393</td>\n      <td>SRR00001505</td>\n      <td>GATK4.0</td>\n    </tr>\n    <tr>\n      <th>...</th>\n      <td>...</td>\n      <td>...</td>\n      <td>...</td>\n      <td>...</td>\n      <td>...</td>\n      <td>...</td>\n      <td>...</td>\n      <td>...</td>\n      <td>...</td>\n    </tr>\n    <tr>\n      <th>495</th>\n      <td>bwa-0.5.9</td>\n      <td>2015-09-30</td>\n      <td>NA19055</td>\n      <td>UK1_analysisId_1996</td>\n      <td>NA19055</td>\n      <td>1000G-low-coverage-WGS</td>\n      <td>https://www.nature.com/articles/nature15393</td>\n      <td>SRR00001996</td>\n      <td>GATK4.0</td>\n    </tr>\n    <tr>\n      <th>496</th>\n      <td>bwa-0.5.9</td>\n      <td>2015-09-30</td>\n      <td>NA19056</td>\n      <td>UK1_analysisId_1997</td>\n      <td>NA19056</td>\n      <td>1000G-low-coverage-WGS</td>\n      <td>https://www.nature.com/articles/nature15393</td>\n      <td>SRR00001997</td>\n      <td>GATK4.0</td>\n    </tr>\n    <tr>\n      <th>497</th>\n      <td>bwa-0.5.9</td>\n      <td>2015-09-30</td>\n      <td>NA19057</td>\n      <td>UK1_analysisId_1998</td>\n      <td>NA19057</td>\n      <td>1000G-low-coverage-WGS</td>\n      <td>https://www.nature.com/articles/nature15393</td>\n      <td>SRR00001998</td>\n      <td>GATK4.0</td>\n    </tr>\n    <tr>\n      <th>498</th>\n      <td>bwa-0.5.9</td>\n      <td>2015-09-30</td>\n      <td>NA19058</td>\n      <td>UK1_analysisId_1999</td>\n      <td>NA19058</td>\n      <td>1000G-low-coverage-WGS</td>\n      <td>https://www.nature.com/articles/nature15393</td>\n      <td>SRR00001999</td>\n      <td>GATK4.0</td>\n    </tr>\n    <tr>\n      <th>499</th>\n      <td>bwa-0.5.9</td>\n      <td>2015-09-30</td>\n      <td>NA19059</td>\n      <td>UK1_analysisId_2000</td>\n      <td>NA19059</td>\n      <td>1000G-low-coverage-WGS</td>\n      <td>https://www.nature.com/articles/nature15393</td>\n      <td>SRR00002000</td>\n      <td>GATK4.0</td>\n    </tr>\n  </tbody>\n</table>\n<p>500 rows × 9 columns</p>\n</div>"
     },
     "execution_count": 23,
     "metadata": {},
     "output_type": "execute_result"
    }
   ],
   "source": [
    "df_an"
   ]
  },
  {
   "cell_type": "code",
   "execution_count": 24,
   "metadata": {
    "application/vnd.databricks.v1+cell": {
     "cellMetadata": {},
     "inputWidgets": {},
     "nuid": "0da542fe-b02c-41a1-8f40-6f35e7ceb8ec",
     "showTitle": false,
     "title": ""
    },
    "ExecuteTime": {
     "end_time": "2023-07-05T07:45:37.739659Z",
     "start_time": "2023-07-05T07:45:37.732826Z"
    }
   },
   "outputs": [
    {
     "data": {
      "text/plain": "Index(['aligner', 'analysisDate', 'biosampleId', 'id', 'individualId',\n       'pipelineName', 'pipelineRef', 'runId', 'variantCaller'],\n      dtype='object')"
     },
     "execution_count": 24,
     "metadata": {},
     "output_type": "execute_result"
    }
   ],
   "source": [
    "df_an.columns"
   ]
  },
  {
   "cell_type": "code",
   "execution_count": 25,
   "metadata": {
    "application/vnd.databricks.v1+cell": {
     "cellMetadata": {},
     "inputWidgets": {},
     "nuid": "1a0521f7-ba24-41ef-990e-7b9fc82251f1",
     "showTitle": false,
     "title": ""
    },
    "ExecuteTime": {
     "end_time": "2023-07-05T07:45:39.811334Z",
     "start_time": "2023-07-05T07:45:39.809630Z"
    }
   },
   "outputs": [],
   "source": [
    "# add analysis\n",
    "for idx, row in df_an.iterrows():    \n",
    "    analysis = {}\n",
    "    analysis.update(id=row['id'])\n",
    "    analysis.update(runId=row['runId'])\n",
    "    analysis.update(individualId=row['individualId'])\n",
    "    analysis.update(biosampleId=row['biosampleId'])\n",
    "    analysis.update(analysisDate=row['analysisDate'])\n",
    "    analysis.update(pipelineName=row['pipelineName'])\n",
    "    analysis.update(vcfSampleId=row['individualId'])\n",
    "    \n",
    "    submission_json[\"analyses\"].append(analysis)\n",
    "    \n",
    "\n"
   ]
  },
  {
   "cell_type": "code",
   "execution_count": null,
   "metadata": {
    "application/vnd.databricks.v1+cell": {
     "cellMetadata": {},
     "inputWidgets": {},
     "nuid": "260e0f89-8d0b-4946-84c6-04ecbbb14616",
     "showTitle": false,
     "title": ""
    }
   },
   "outputs": [],
   "source": [
    "df_runs = pd.read_excel(excel_path, sheet_name='runs')"
   ]
  },
  {
   "cell_type": "code",
   "execution_count": 27,
   "metadata": {
    "application/vnd.databricks.v1+cell": {
     "cellMetadata": {},
     "inputWidgets": {},
     "nuid": "83c2f21a-ca69-4493-b4c4-efe33c36936c",
     "showTitle": false,
     "title": ""
    },
    "ExecuteTime": {
     "end_time": "2023-07-05T07:45:42.854263Z",
     "start_time": "2023-07-05T07:45:42.845870Z"
    }
   },
   "outputs": [
    {
     "data": {
      "text/plain": "    biosampleId           id individualId libraryLayout librarySelection  \\\n0       HG03872  SRR00001501      HG03872        PAIRED           RANDOM   \n1       HG03873  SRR00001502      HG03873        PAIRED           RANDOM   \n2       HG03874  SRR00001503      HG03874        PAIRED           RANDOM   \n3       HG03875  SRR00001504      HG03875        PAIRED           RANDOM   \n4       HG03882  SRR00001505      HG03882        PAIRED           RANDOM   \n..          ...          ...          ...           ...              ...   \n495     NA19055  SRR00001996      NA19055        PAIRED           RANDOM   \n496     NA19056  SRR00001997      NA19056        PAIRED           RANDOM   \n497     NA19057  SRR00001998      NA19057        PAIRED           RANDOM   \n498     NA19058  SRR00001999      NA19058        PAIRED           RANDOM   \n499     NA19059  SRR00002000      NA19059        PAIRED           RANDOM   \n\n    librarySource.id librarySource.label                     libraryStrategy  \\\n0    GENEPIO:0001966      genomic Source  Short read Illumina WGS sequencing   \n1    GENEPIO:0001966      genomic Source  Short read Illumina WGS sequencing   \n2    GENEPIO:0001966      genomic Source  Short read Illumina WGS sequencing   \n3    GENEPIO:0001966      genomic Source  Short read Illumina WGS sequencing   \n4    GENEPIO:0001966      genomic Source  Short read Illumina WGS sequencing   \n..               ...                 ...                                 ...   \n495  GENEPIO:0001966      genomic Source  Short read Illumina WGS sequencing   \n496  GENEPIO:0001966      genomic Source  Short read Illumina WGS sequencing   \n497  GENEPIO:0001966      genomic Source  Short read Illumina WGS sequencing   \n498  GENEPIO:0001966      genomic Source  Short read Illumina WGS sequencing   \n499  GENEPIO:0001966      genomic Source  Short read Illumina WGS sequencing   \n\n     platform platformModel.id  platformModel.label     runDate  \n0    Illumina      OBI:0002048  Illumina HiSeq 2000  2015-09-30  \n1    Illumina      OBI:0002048  Illumina HiSeq 2000  2015-09-30  \n2    Illumina      OBI:0002048  Illumina HiSeq 2000  2015-09-30  \n3    Illumina      OBI:0002048  Illumina HiSeq 2000  2015-09-30  \n4    Illumina      OBI:0002048  Illumina HiSeq 2000  2015-09-30  \n..        ...              ...                  ...         ...  \n495  Illumina      OBI:0002048  Illumina HiSeq 2000  2015-09-30  \n496  Illumina      OBI:0002048  Illumina HiSeq 2000  2015-09-30  \n497  Illumina      OBI:0002048  Illumina HiSeq 2000  2015-09-30  \n498  Illumina      OBI:0002048  Illumina HiSeq 2000  2015-09-30  \n499  Illumina      OBI:0002048  Illumina HiSeq 2000  2015-09-30  \n\n[500 rows x 12 columns]",
      "text/html": "<div>\n<style scoped>\n    .dataframe tbody tr th:only-of-type {\n        vertical-align: middle;\n    }\n\n    .dataframe tbody tr th {\n        vertical-align: top;\n    }\n\n    .dataframe thead th {\n        text-align: right;\n    }\n</style>\n<table border=\"1\" class=\"dataframe\">\n  <thead>\n    <tr style=\"text-align: right;\">\n      <th></th>\n      <th>biosampleId</th>\n      <th>id</th>\n      <th>individualId</th>\n      <th>libraryLayout</th>\n      <th>librarySelection</th>\n      <th>librarySource.id</th>\n      <th>librarySource.label</th>\n      <th>libraryStrategy</th>\n      <th>platform</th>\n      <th>platformModel.id</th>\n      <th>platformModel.label</th>\n      <th>runDate</th>\n    </tr>\n  </thead>\n  <tbody>\n    <tr>\n      <th>0</th>\n      <td>HG03872</td>\n      <td>SRR00001501</td>\n      <td>HG03872</td>\n      <td>PAIRED</td>\n      <td>RANDOM</td>\n      <td>GENEPIO:0001966</td>\n      <td>genomic Source</td>\n      <td>Short read Illumina WGS sequencing</td>\n      <td>Illumina</td>\n      <td>OBI:0002048</td>\n      <td>Illumina HiSeq 2000</td>\n      <td>2015-09-30</td>\n    </tr>\n    <tr>\n      <th>1</th>\n      <td>HG03873</td>\n      <td>SRR00001502</td>\n      <td>HG03873</td>\n      <td>PAIRED</td>\n      <td>RANDOM</td>\n      <td>GENEPIO:0001966</td>\n      <td>genomic Source</td>\n      <td>Short read Illumina WGS sequencing</td>\n      <td>Illumina</td>\n      <td>OBI:0002048</td>\n      <td>Illumina HiSeq 2000</td>\n      <td>2015-09-30</td>\n    </tr>\n    <tr>\n      <th>2</th>\n      <td>HG03874</td>\n      <td>SRR00001503</td>\n      <td>HG03874</td>\n      <td>PAIRED</td>\n      <td>RANDOM</td>\n      <td>GENEPIO:0001966</td>\n      <td>genomic Source</td>\n      <td>Short read Illumina WGS sequencing</td>\n      <td>Illumina</td>\n      <td>OBI:0002048</td>\n      <td>Illumina HiSeq 2000</td>\n      <td>2015-09-30</td>\n    </tr>\n    <tr>\n      <th>3</th>\n      <td>HG03875</td>\n      <td>SRR00001504</td>\n      <td>HG03875</td>\n      <td>PAIRED</td>\n      <td>RANDOM</td>\n      <td>GENEPIO:0001966</td>\n      <td>genomic Source</td>\n      <td>Short read Illumina WGS sequencing</td>\n      <td>Illumina</td>\n      <td>OBI:0002048</td>\n      <td>Illumina HiSeq 2000</td>\n      <td>2015-09-30</td>\n    </tr>\n    <tr>\n      <th>4</th>\n      <td>HG03882</td>\n      <td>SRR00001505</td>\n      <td>HG03882</td>\n      <td>PAIRED</td>\n      <td>RANDOM</td>\n      <td>GENEPIO:0001966</td>\n      <td>genomic Source</td>\n      <td>Short read Illumina WGS sequencing</td>\n      <td>Illumina</td>\n      <td>OBI:0002048</td>\n      <td>Illumina HiSeq 2000</td>\n      <td>2015-09-30</td>\n    </tr>\n    <tr>\n      <th>...</th>\n      <td>...</td>\n      <td>...</td>\n      <td>...</td>\n      <td>...</td>\n      <td>...</td>\n      <td>...</td>\n      <td>...</td>\n      <td>...</td>\n      <td>...</td>\n      <td>...</td>\n      <td>...</td>\n      <td>...</td>\n    </tr>\n    <tr>\n      <th>495</th>\n      <td>NA19055</td>\n      <td>SRR00001996</td>\n      <td>NA19055</td>\n      <td>PAIRED</td>\n      <td>RANDOM</td>\n      <td>GENEPIO:0001966</td>\n      <td>genomic Source</td>\n      <td>Short read Illumina WGS sequencing</td>\n      <td>Illumina</td>\n      <td>OBI:0002048</td>\n      <td>Illumina HiSeq 2000</td>\n      <td>2015-09-30</td>\n    </tr>\n    <tr>\n      <th>496</th>\n      <td>NA19056</td>\n      <td>SRR00001997</td>\n      <td>NA19056</td>\n      <td>PAIRED</td>\n      <td>RANDOM</td>\n      <td>GENEPIO:0001966</td>\n      <td>genomic Source</td>\n      <td>Short read Illumina WGS sequencing</td>\n      <td>Illumina</td>\n      <td>OBI:0002048</td>\n      <td>Illumina HiSeq 2000</td>\n      <td>2015-09-30</td>\n    </tr>\n    <tr>\n      <th>497</th>\n      <td>NA19057</td>\n      <td>SRR00001998</td>\n      <td>NA19057</td>\n      <td>PAIRED</td>\n      <td>RANDOM</td>\n      <td>GENEPIO:0001966</td>\n      <td>genomic Source</td>\n      <td>Short read Illumina WGS sequencing</td>\n      <td>Illumina</td>\n      <td>OBI:0002048</td>\n      <td>Illumina HiSeq 2000</td>\n      <td>2015-09-30</td>\n    </tr>\n    <tr>\n      <th>498</th>\n      <td>NA19058</td>\n      <td>SRR00001999</td>\n      <td>NA19058</td>\n      <td>PAIRED</td>\n      <td>RANDOM</td>\n      <td>GENEPIO:0001966</td>\n      <td>genomic Source</td>\n      <td>Short read Illumina WGS sequencing</td>\n      <td>Illumina</td>\n      <td>OBI:0002048</td>\n      <td>Illumina HiSeq 2000</td>\n      <td>2015-09-30</td>\n    </tr>\n    <tr>\n      <th>499</th>\n      <td>NA19059</td>\n      <td>SRR00002000</td>\n      <td>NA19059</td>\n      <td>PAIRED</td>\n      <td>RANDOM</td>\n      <td>GENEPIO:0001966</td>\n      <td>genomic Source</td>\n      <td>Short read Illumina WGS sequencing</td>\n      <td>Illumina</td>\n      <td>OBI:0002048</td>\n      <td>Illumina HiSeq 2000</td>\n      <td>2015-09-30</td>\n    </tr>\n  </tbody>\n</table>\n<p>500 rows × 12 columns</p>\n</div>"
     },
     "execution_count": 27,
     "metadata": {},
     "output_type": "execute_result"
    }
   ],
   "source": [
    "df_runs"
   ]
  },
  {
   "cell_type": "code",
   "execution_count": 28,
   "metadata": {
    "application/vnd.databricks.v1+cell": {
     "cellMetadata": {},
     "inputWidgets": {},
     "nuid": "500fe579-202e-45cf-a92a-1ea1dcea2200",
     "showTitle": false,
     "title": ""
    },
    "ExecuteTime": {
     "end_time": "2023-07-05T07:45:43.682425Z",
     "start_time": "2023-07-05T07:45:43.674143Z"
    }
   },
   "outputs": [],
   "source": [
    "# add runs\n",
    "for idx, row in df_runs.iterrows():    \n",
    "    run = {}\n",
    "    run.update(id=row['id'])\n",
    "    run.update(individualId=row['individualId'])\n",
    "    run.update(biosampleId=row['biosampleId'])\n",
    "    run.update(runDate=row['runDate'])\n",
    "    run.update(libraryLayout=row['libraryLayout'])\n",
    "    run.update(librarySelection=row['librarySelection'])\n",
    "    run.update(libraryStrategy=row['libraryStrategy'])\n",
    "    run.update(platform=row['platform'])\n",
    "    \n",
    "    run.update(librarySource={\n",
    "            'id': row['librarySource.id'],\n",
    "            'label': row['librarySource.label']\n",
    "        })\n",
    "    run.update(platformModel={\n",
    "            'id': row['platformModel.id'],\n",
    "            'label': row['platformModel.label']\n",
    "        })\n",
    "\n",
    "    submission_json[\"runs\"].append(run)\n",
    "    \n"
   ]
  },
  {
   "cell_type": "markdown",
   "metadata": {},
   "source": [
    "## Check linking between sheets\n",
    "\n",
    "All analysis.runId in runs.id\n",
    "All analysis.biosampleId in biosamples.id\n",
    "All anlaysis.individualId in individuals.id\n",
    "\n",
    "All biosample.individualId in individuals.id\n",
    "\n",
    "All runs.biosampleId in biosamples.id\n",
    "All runs.individualId in individuals.id\n",
    "\n",
    "How many runs per analysis\n",
    "How many biosamples per individual\n",
    "How many runs per biosample"
   ]
  },
  {
   "cell_type": "code",
   "execution_count": 29,
   "metadata": {
    "ExecuteTime": {
     "end_time": "2023-07-05T07:45:45.696241Z",
     "start_time": "2023-07-05T07:45:45.685808Z"
    }
   },
   "outputs": [
    {
     "name": "stdout",
     "output_type": "stream",
     "text": [
      "Number of runIds in analysis submission: 500\n",
      "Number of unique runIds in analysis submission: 500\n",
      "Number of ids in Runs: 500\n",
      "Number of unique ids in Runs: 500\n",
      "Number of intersecting ids analysis.runId - runs.id: 500\n",
      "Number of ids not in both runs.id - analysis.runId: 0\n"
     ]
    }
   ],
   "source": [
    "analysis_run_ids = [x['runId'] for x in submission_json['analyses']]\n",
    "print(f'Number of runIds in analysis submission: {len(analysis_run_ids)}')\n",
    "analysis_run_ids_set = set(analysis_run_ids)\n",
    "print(f'Number of unique runIds in analysis submission: {len(analysis_run_ids_set)}')\n",
    "run_ids = [x['id'] for x in submission_json['runs']]\n",
    "run_ids_set = set(run_ids)\n",
    "print(f'Number of ids in Runs: {len(run_ids)}')\n",
    "print(f'Number of unique ids in Runs: {len(run_ids_set)}')\n",
    "\n",
    "print(f'Number of intersecting ids analysis.runId - runs.id: {len(analysis_run_ids_set.intersection(run_ids_set))}')\n",
    "print(f'Number of ids not in both runs.id - analysis.runId: {len(run_ids_set.symmetric_difference(analysis_run_ids_set))}')"
   ]
  },
  {
   "cell_type": "code",
   "execution_count": 30,
   "metadata": {
    "ExecuteTime": {
     "end_time": "2023-07-05T07:45:46.696136Z",
     "start_time": "2023-07-05T07:45:46.691059Z"
    }
   },
   "outputs": [
    {
     "name": "stdout",
     "output_type": "stream",
     "text": [
      "Number of biosampleIds in analysis submission: 500\n",
      "Number of unique biosampleIds in analysis submission: 500\n",
      "Number of ids in biosamples: 500\n",
      "Number of unique ids in biosamples: 500\n",
      "Number of intersecting ids analysis.biosampleId - biosamples.id: 500\n",
      "Number of ids not in both biosample.id - analysis.biosampleId: 0\n"
     ]
    }
   ],
   "source": [
    "analysis_biosample_ids = [x['biosampleId'] for x in submission_json['analyses']]\n",
    "print(f'Number of biosampleIds in analysis submission: {len(analysis_biosample_ids)}')\n",
    "analysis_biosample_ids_set = set(analysis_biosample_ids)\n",
    "print(f'Number of unique biosampleIds in analysis submission: {len(analysis_biosample_ids_set)}')\n",
    "biosample_ids = [x['id'] for x in submission_json['biosamples']]\n",
    "biosample_ids_set = set(biosample_ids)\n",
    "print(f'Number of ids in biosamples: {len(biosample_ids)}')\n",
    "print(f'Number of unique ids in biosamples: {len(biosample_ids_set)}')\n",
    "\n",
    "print(f'Number of intersecting ids analysis.biosampleId - biosamples.id: {len(analysis_biosample_ids_set.intersection(biosample_ids_set))}')\n",
    "print(f'Number of ids not in both biosample.id - analysis.biosampleId: {len(biosample_ids_set.symmetric_difference(analysis_biosample_ids_set))}')\n"
   ]
  },
  {
   "cell_type": "code",
   "execution_count": 31,
   "metadata": {
    "ExecuteTime": {
     "end_time": "2023-07-05T07:45:47.732914Z",
     "start_time": "2023-07-05T07:45:47.722428Z"
    }
   },
   "outputs": [
    {
     "name": "stdout",
     "output_type": "stream",
     "text": [
      "Number of individualIds in analysis submission: 500\n",
      "Number of unique individualIds in analysis submission: 500\n",
      "Number of ids in individuals: 500\n",
      "Number of unique ids in individuals: 500\n",
      "Number of intersecting ids analysis.individualId - individuals.id: 500\n",
      "Number of ids not in both individual.id - analysis.individualId: 0\n"
     ]
    }
   ],
   "source": [
    "analysis_individual_ids = [x['individualId'] for x in submission_json['analyses']]\n",
    "print(f'Number of individualIds in analysis submission: {len(analysis_individual_ids)}')\n",
    "analysis_individual_ids_set = set(analysis_individual_ids)\n",
    "print(f'Number of unique individualIds in analysis submission: {len(analysis_individual_ids_set)}')\n",
    "individual_ids = [x['id'] for x in submission_json['individuals']]\n",
    "individual_ids_set = set(individual_ids)\n",
    "print(f'Number of ids in individuals: {len(individual_ids)}')\n",
    "print(f'Number of unique ids in individuals: {len(individual_ids_set)}')\n",
    "\n",
    "print(f'Number of intersecting ids analysis.individualId - individuals.id: {len(analysis_individual_ids_set.intersection(individual_ids_set))}')\n",
    "print(f'Number of ids not in both individual.id - analysis.individualId: {len(individual_ids_set.symmetric_difference(analysis_individual_ids_set))}')"
   ]
  },
  {
   "cell_type": "code",
   "execution_count": null,
   "outputs": [],
   "source": [
    "file_dir = os.getcwd()\n",
    "file_dir"
   ],
   "metadata": {
    "collapsed": false
   }
  },
  {
   "cell_type": "code",
   "execution_count": 33,
   "metadata": {
    "application/vnd.databricks.v1+cell": {
     "cellMetadata": {},
     "inputWidgets": {},
     "nuid": "97159d1b-b838-4793-931d-951f9d3d18a9",
     "showTitle": false,
     "title": ""
    },
    "ExecuteTime": {
     "end_time": "2023-07-05T07:45:50.151595Z",
     "start_time": "2023-07-05T07:45:50.112990Z"
    }
   },
   "outputs": [],
   "source": [
    "with open(f'{file_dir}/submission_from_excel.json', 'w') as f:\n",
    "    f.write(json.dumps(submission_json, indent=4))"
   ]
  },
  {
   "cell_type": "code",
   "execution_count": 34,
   "metadata": {
    "application/vnd.databricks.v1+cell": {
     "cellMetadata": {},
     "inputWidgets": {},
     "nuid": "52a626f1-bb8f-47f9-82ea-d2ee201223b3",
     "showTitle": false,
     "title": ""
    },
    "ExecuteTime": {
     "end_time": "2023-07-05T07:45:52.640507Z",
     "start_time": "2023-07-05T07:45:52.633392Z"
    }
   },
   "outputs": [],
   "source": [
    "#%python\n",
    "#displayHTML(\"\"\"<a href=\"/files/submission_from_excel.json\" download>Download JOSN</a>\"\"\")"
   ]
  },
  {
   "cell_type": "code",
   "execution_count": null,
   "metadata": {
    "application/vnd.databricks.v1+cell": {
     "cellMetadata": {},
     "inputWidgets": {},
     "nuid": "c1334518-19d5-4cd8-9de0-e7de2294d93b",
     "showTitle": false,
     "title": ""
    }
   },
   "outputs": [],
   "source": []
  }
 ],
 "metadata": {
  "application/vnd.databricks.v1+notebook": {
   "dashboards": [],
   "language": "python",
   "notebookMetadata": {
    "mostRecentlyExecutedCommandWithImplicitDF": {
     "commandId": 1775781040040350,
     "dataframes": [
      "_sqldf"
     ]
    },
    "pythonIndentUnit": 4
   },
   "notebookName": "CINECA_UK1C",
   "notebookOrigID": 1775781040040349,
   "widgets": {}
  },
  "kernelspec": {
   "display_name": "Python 3 (ipykernel)",
   "language": "python",
   "name": "python3"
  },
  "language_info": {
   "codemirror_mode": {
    "name": "ipython",
    "version": 3
   },
   "file_extension": ".py",
   "mimetype": "text/x-python",
   "name": "python",
   "nbconvert_exporter": "python",
   "pygments_lexer": "ipython3",
   "version": "3.8.9"
  },
  "varInspector": {
   "cols": {
    "lenName": 16,
    "lenType": 16,
    "lenVar": 40
   },
   "kernels_config": {
    "python": {
     "delete_cmd_postfix": "",
     "delete_cmd_prefix": "del ",
     "library": "var_list.py",
     "varRefreshCmd": "print(var_dic_list())"
    },
    "r": {
     "delete_cmd_postfix": ") ",
     "delete_cmd_prefix": "rm(",
     "library": "var_list.r",
     "varRefreshCmd": "cat(var_dic_list()) "
    }
   },
   "position": {
    "height": "631.836px",
    "left": "1823.51px",
    "right": "20px",
    "top": "125px",
    "width": "349.473px"
   },
   "types_to_exclude": [
    "module",
    "function",
    "builtin_function_or_method",
    "instance",
    "_Feature"
   ],
   "window_display": true
  }
 },
 "nbformat": 4,
 "nbformat_minor": 1
}
